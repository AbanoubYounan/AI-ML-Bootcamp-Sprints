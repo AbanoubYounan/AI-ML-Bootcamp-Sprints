{
  "cells": [
    {
      "cell_type": "markdown",
      "metadata": {
        "id": "L54iSMybhSuF"
      },
      "source": [
        "# Collaborative Filtering for a Movie Recommendation System"
      ]
    },
    {
      "cell_type": "code",
      "execution_count": 2,
      "metadata": {
        "colab": {
          "base_uri": "https://localhost:8080/"
        },
        "id": "9BWgbnSFibNX",
        "outputId": "9376a5f2-ebbc-403e-f0c7-880403ce7926"
      },
      "outputs": [
        {
          "name": "stdout",
          "output_type": "stream",
          "text": [
            "Mounted at /content/drive\n"
          ]
        }
      ],
      "source": [
        "# from google.colab import drive\n",
        "# drive.mount('/content/drive')"
      ]
    },
    {
      "cell_type": "markdown",
      "metadata": {
        "id": "GNhtdwDGhSuG"
      },
      "source": [
        "### 1. Importing Libraries:"
      ]
    },
    {
      "cell_type": "code",
      "execution_count": 1,
      "metadata": {
        "id": "cNrw4oX0hSuH"
      },
      "outputs": [],
      "source": [
        "# Data Manipulation Libraries:\n",
        "import numpy as np\n",
        "import pandas as pd\n",
        "# Data Vasualization Libraries:\n",
        "import matplotlib.pyplot as plt\n",
        "import seaborn as sns\n",
        "# Data Modeling Libraries:\n",
        "from sklearn.metrics.pairwise import cosine_similarity\n",
        "from sklearn.metrics import mean_absolute_error, mean_squared_error\n",
        "from sklearn.metrics import precision_score, recall_score\n"
      ]
    },
    {
      "cell_type": "markdown",
      "metadata": {
        "id": "Qjt8XCADhSuI"
      },
      "source": [
        "### 2. Load Data:"
      ]
    },
    {
      "cell_type": "code",
      "execution_count": 2,
      "metadata": {
        "id": "-7AwDp9NhSuI"
      },
      "outputs": [],
      "source": [
        "# file_path = './drive/MyDrive/movielens/'\n",
        "file_path = './'\n",
        "movies = pd.read_csv(f\"{file_path}movies.csv\")\n",
        "links = pd.read_csv(f\"{file_path}links.csv\")\n",
        "ratings = pd.read_csv(f\"{file_path}ratings.csv\")\n",
        "tags = pd.read_csv(f\"{file_path}tags.csv\")"
      ]
    },
    {
      "cell_type": "code",
      "execution_count": 3,
      "metadata": {
        "colab": {
          "base_uri": "https://localhost:8080/",
          "height": 206
        },
        "id": "StQKSQnMhSuI",
        "outputId": "ef5b8d84-9135-47c4-8511-92cb0779cc8a"
      },
      "outputs": [
        {
          "data": {
            "text/html": [
              "<div>\n",
              "<style scoped>\n",
              "    .dataframe tbody tr th:only-of-type {\n",
              "        vertical-align: middle;\n",
              "    }\n",
              "\n",
              "    .dataframe tbody tr th {\n",
              "        vertical-align: top;\n",
              "    }\n",
              "\n",
              "    .dataframe thead th {\n",
              "        text-align: right;\n",
              "    }\n",
              "</style>\n",
              "<table border=\"1\" class=\"dataframe\">\n",
              "  <thead>\n",
              "    <tr style=\"text-align: right;\">\n",
              "      <th></th>\n",
              "      <th>movieId</th>\n",
              "      <th>title</th>\n",
              "      <th>genres</th>\n",
              "    </tr>\n",
              "  </thead>\n",
              "  <tbody>\n",
              "    <tr>\n",
              "      <th>0</th>\n",
              "      <td>1</td>\n",
              "      <td>Toy Story (1995)</td>\n",
              "      <td>Adventure|Animation|Children|Comedy|Fantasy</td>\n",
              "    </tr>\n",
              "    <tr>\n",
              "      <th>1</th>\n",
              "      <td>2</td>\n",
              "      <td>Jumanji (1995)</td>\n",
              "      <td>Adventure|Children|Fantasy</td>\n",
              "    </tr>\n",
              "    <tr>\n",
              "      <th>2</th>\n",
              "      <td>3</td>\n",
              "      <td>Grumpier Old Men (1995)</td>\n",
              "      <td>Comedy|Romance</td>\n",
              "    </tr>\n",
              "    <tr>\n",
              "      <th>3</th>\n",
              "      <td>4</td>\n",
              "      <td>Waiting to Exhale (1995)</td>\n",
              "      <td>Comedy|Drama|Romance</td>\n",
              "    </tr>\n",
              "    <tr>\n",
              "      <th>4</th>\n",
              "      <td>5</td>\n",
              "      <td>Father of the Bride Part II (1995)</td>\n",
              "      <td>Comedy</td>\n",
              "    </tr>\n",
              "  </tbody>\n",
              "</table>\n",
              "</div>"
            ],
            "text/plain": [
              "   movieId                               title  \\\n",
              "0        1                    Toy Story (1995)   \n",
              "1        2                      Jumanji (1995)   \n",
              "2        3             Grumpier Old Men (1995)   \n",
              "3        4            Waiting to Exhale (1995)   \n",
              "4        5  Father of the Bride Part II (1995)   \n",
              "\n",
              "                                        genres  \n",
              "0  Adventure|Animation|Children|Comedy|Fantasy  \n",
              "1                   Adventure|Children|Fantasy  \n",
              "2                               Comedy|Romance  \n",
              "3                         Comedy|Drama|Romance  \n",
              "4                                       Comedy  "
            ]
          },
          "execution_count": 3,
          "metadata": {},
          "output_type": "execute_result"
        }
      ],
      "source": [
        "movies.head()"
      ]
    },
    {
      "cell_type": "code",
      "execution_count": 4,
      "metadata": {
        "colab": {
          "base_uri": "https://localhost:8080/"
        },
        "id": "tI6FQcYLhSuJ",
        "outputId": "c7140bbe-74a2-4770-99bd-0725f051e0d9"
      },
      "outputs": [
        {
          "name": "stdout",
          "output_type": "stream",
          "text": [
            "<class 'pandas.core.frame.DataFrame'>\n",
            "RangeIndex: 9742 entries, 0 to 9741\n",
            "Data columns (total 3 columns):\n",
            " #   Column   Non-Null Count  Dtype \n",
            "---  ------   --------------  ----- \n",
            " 0   movieId  9742 non-null   int64 \n",
            " 1   title    9742 non-null   object\n",
            " 2   genres   9742 non-null   object\n",
            "dtypes: int64(1), object(2)\n",
            "memory usage: 228.5+ KB\n"
          ]
        }
      ],
      "source": [
        "movies.info()"
      ]
    },
    {
      "cell_type": "code",
      "execution_count": 5,
      "metadata": {
        "colab": {
          "base_uri": "https://localhost:8080/",
          "height": 206
        },
        "id": "dudvRmqphSuJ",
        "outputId": "6145dcb0-2d86-4db6-b252-17a2e138fbdd"
      },
      "outputs": [
        {
          "data": {
            "text/html": [
              "<div>\n",
              "<style scoped>\n",
              "    .dataframe tbody tr th:only-of-type {\n",
              "        vertical-align: middle;\n",
              "    }\n",
              "\n",
              "    .dataframe tbody tr th {\n",
              "        vertical-align: top;\n",
              "    }\n",
              "\n",
              "    .dataframe thead th {\n",
              "        text-align: right;\n",
              "    }\n",
              "</style>\n",
              "<table border=\"1\" class=\"dataframe\">\n",
              "  <thead>\n",
              "    <tr style=\"text-align: right;\">\n",
              "      <th></th>\n",
              "      <th>movieId</th>\n",
              "      <th>imdbId</th>\n",
              "      <th>tmdbId</th>\n",
              "    </tr>\n",
              "  </thead>\n",
              "  <tbody>\n",
              "    <tr>\n",
              "      <th>0</th>\n",
              "      <td>1</td>\n",
              "      <td>114709</td>\n",
              "      <td>862.0</td>\n",
              "    </tr>\n",
              "    <tr>\n",
              "      <th>1</th>\n",
              "      <td>2</td>\n",
              "      <td>113497</td>\n",
              "      <td>8844.0</td>\n",
              "    </tr>\n",
              "    <tr>\n",
              "      <th>2</th>\n",
              "      <td>3</td>\n",
              "      <td>113228</td>\n",
              "      <td>15602.0</td>\n",
              "    </tr>\n",
              "    <tr>\n",
              "      <th>3</th>\n",
              "      <td>4</td>\n",
              "      <td>114885</td>\n",
              "      <td>31357.0</td>\n",
              "    </tr>\n",
              "    <tr>\n",
              "      <th>4</th>\n",
              "      <td>5</td>\n",
              "      <td>113041</td>\n",
              "      <td>11862.0</td>\n",
              "    </tr>\n",
              "  </tbody>\n",
              "</table>\n",
              "</div>"
            ],
            "text/plain": [
              "   movieId  imdbId   tmdbId\n",
              "0        1  114709    862.0\n",
              "1        2  113497   8844.0\n",
              "2        3  113228  15602.0\n",
              "3        4  114885  31357.0\n",
              "4        5  113041  11862.0"
            ]
          },
          "execution_count": 5,
          "metadata": {},
          "output_type": "execute_result"
        }
      ],
      "source": [
        "links.head()"
      ]
    },
    {
      "cell_type": "code",
      "execution_count": 6,
      "metadata": {
        "colab": {
          "base_uri": "https://localhost:8080/",
          "height": 206
        },
        "id": "Ezb4JrfvhSuJ",
        "outputId": "27426523-cdb7-4833-a5fb-85865d80fefa"
      },
      "outputs": [
        {
          "data": {
            "text/html": [
              "<div>\n",
              "<style scoped>\n",
              "    .dataframe tbody tr th:only-of-type {\n",
              "        vertical-align: middle;\n",
              "    }\n",
              "\n",
              "    .dataframe tbody tr th {\n",
              "        vertical-align: top;\n",
              "    }\n",
              "\n",
              "    .dataframe thead th {\n",
              "        text-align: right;\n",
              "    }\n",
              "</style>\n",
              "<table border=\"1\" class=\"dataframe\">\n",
              "  <thead>\n",
              "    <tr style=\"text-align: right;\">\n",
              "      <th></th>\n",
              "      <th>userId</th>\n",
              "      <th>movieId</th>\n",
              "      <th>rating</th>\n",
              "      <th>timestamp</th>\n",
              "    </tr>\n",
              "  </thead>\n",
              "  <tbody>\n",
              "    <tr>\n",
              "      <th>0</th>\n",
              "      <td>1</td>\n",
              "      <td>1</td>\n",
              "      <td>4.0</td>\n",
              "      <td>964982703</td>\n",
              "    </tr>\n",
              "    <tr>\n",
              "      <th>1</th>\n",
              "      <td>1</td>\n",
              "      <td>3</td>\n",
              "      <td>4.0</td>\n",
              "      <td>964981247</td>\n",
              "    </tr>\n",
              "    <tr>\n",
              "      <th>2</th>\n",
              "      <td>1</td>\n",
              "      <td>6</td>\n",
              "      <td>4.0</td>\n",
              "      <td>964982224</td>\n",
              "    </tr>\n",
              "    <tr>\n",
              "      <th>3</th>\n",
              "      <td>1</td>\n",
              "      <td>47</td>\n",
              "      <td>5.0</td>\n",
              "      <td>964983815</td>\n",
              "    </tr>\n",
              "    <tr>\n",
              "      <th>4</th>\n",
              "      <td>1</td>\n",
              "      <td>50</td>\n",
              "      <td>5.0</td>\n",
              "      <td>964982931</td>\n",
              "    </tr>\n",
              "  </tbody>\n",
              "</table>\n",
              "</div>"
            ],
            "text/plain": [
              "   userId  movieId  rating  timestamp\n",
              "0       1        1     4.0  964982703\n",
              "1       1        3     4.0  964981247\n",
              "2       1        6     4.0  964982224\n",
              "3       1       47     5.0  964983815\n",
              "4       1       50     5.0  964982931"
            ]
          },
          "execution_count": 6,
          "metadata": {},
          "output_type": "execute_result"
        }
      ],
      "source": [
        "ratings.head()"
      ]
    },
    {
      "cell_type": "code",
      "execution_count": 7,
      "metadata": {
        "colab": {
          "base_uri": "https://localhost:8080/"
        },
        "id": "Z97oxF_BhSuJ",
        "outputId": "de496700-2b6e-4057-8c07-1e0ad00a1dfb"
      },
      "outputs": [
        {
          "name": "stdout",
          "output_type": "stream",
          "text": [
            "<class 'pandas.core.frame.DataFrame'>\n",
            "RangeIndex: 100836 entries, 0 to 100835\n",
            "Data columns (total 4 columns):\n",
            " #   Column     Non-Null Count   Dtype  \n",
            "---  ------     --------------   -----  \n",
            " 0   userId     100836 non-null  int64  \n",
            " 1   movieId    100836 non-null  int64  \n",
            " 2   rating     100836 non-null  float64\n",
            " 3   timestamp  100836 non-null  int64  \n",
            "dtypes: float64(1), int64(3)\n",
            "memory usage: 3.1 MB\n"
          ]
        }
      ],
      "source": [
        "ratings.info()"
      ]
    },
    {
      "cell_type": "code",
      "execution_count": 8,
      "metadata": {
        "colab": {
          "base_uri": "https://localhost:8080/",
          "height": 206
        },
        "id": "B-kFGEiMhSuK",
        "outputId": "e0ca3f9b-0126-4588-8036-a75a3eb9c6c9"
      },
      "outputs": [
        {
          "data": {
            "text/html": [
              "<div>\n",
              "<style scoped>\n",
              "    .dataframe tbody tr th:only-of-type {\n",
              "        vertical-align: middle;\n",
              "    }\n",
              "\n",
              "    .dataframe tbody tr th {\n",
              "        vertical-align: top;\n",
              "    }\n",
              "\n",
              "    .dataframe thead th {\n",
              "        text-align: right;\n",
              "    }\n",
              "</style>\n",
              "<table border=\"1\" class=\"dataframe\">\n",
              "  <thead>\n",
              "    <tr style=\"text-align: right;\">\n",
              "      <th></th>\n",
              "      <th>userId</th>\n",
              "      <th>movieId</th>\n",
              "      <th>tag</th>\n",
              "      <th>timestamp</th>\n",
              "    </tr>\n",
              "  </thead>\n",
              "  <tbody>\n",
              "    <tr>\n",
              "      <th>0</th>\n",
              "      <td>2</td>\n",
              "      <td>60756</td>\n",
              "      <td>funny</td>\n",
              "      <td>1445714994</td>\n",
              "    </tr>\n",
              "    <tr>\n",
              "      <th>1</th>\n",
              "      <td>2</td>\n",
              "      <td>60756</td>\n",
              "      <td>Highly quotable</td>\n",
              "      <td>1445714996</td>\n",
              "    </tr>\n",
              "    <tr>\n",
              "      <th>2</th>\n",
              "      <td>2</td>\n",
              "      <td>60756</td>\n",
              "      <td>will ferrell</td>\n",
              "      <td>1445714992</td>\n",
              "    </tr>\n",
              "    <tr>\n",
              "      <th>3</th>\n",
              "      <td>2</td>\n",
              "      <td>89774</td>\n",
              "      <td>Boxing story</td>\n",
              "      <td>1445715207</td>\n",
              "    </tr>\n",
              "    <tr>\n",
              "      <th>4</th>\n",
              "      <td>2</td>\n",
              "      <td>89774</td>\n",
              "      <td>MMA</td>\n",
              "      <td>1445715200</td>\n",
              "    </tr>\n",
              "  </tbody>\n",
              "</table>\n",
              "</div>"
            ],
            "text/plain": [
              "   userId  movieId              tag   timestamp\n",
              "0       2    60756            funny  1445714994\n",
              "1       2    60756  Highly quotable  1445714996\n",
              "2       2    60756     will ferrell  1445714992\n",
              "3       2    89774     Boxing story  1445715207\n",
              "4       2    89774              MMA  1445715200"
            ]
          },
          "execution_count": 8,
          "metadata": {},
          "output_type": "execute_result"
        }
      ],
      "source": [
        "tags.head()"
      ]
    },
    {
      "cell_type": "markdown",
      "metadata": {
        "id": "gdmkyElPhSuK"
      },
      "source": [
        "For the scope of our analysis we will use movies and ratings datasets only.\n",
        "\n",
        "**Let us discover more about them.**"
      ]
    },
    {
      "cell_type": "markdown",
      "metadata": {
        "id": "4sF0TqnhhSuK"
      },
      "source": [
        "### 3. Preprocessing:"
      ]
    },
    {
      "cell_type": "markdown",
      "metadata": {
        "id": "DCvFW8SGhSuK"
      },
      "source": [
        "#### 3.1 Checking for Duplicates:"
      ]
    },
    {
      "cell_type": "code",
      "execution_count": 9,
      "metadata": {
        "colab": {
          "base_uri": "https://localhost:8080/"
        },
        "id": "E60gzyhKhSuK",
        "outputId": "1c4add71-66e2-4ab4-d799-93deb032beae"
      },
      "outputs": [
        {
          "name": "stdout",
          "output_type": "stream",
          "text": [
            "Number of duplicates in ratings datset: 0\n"
          ]
        }
      ],
      "source": [
        "print(f\"Number of duplicates in ratings datset: {ratings.duplicated().sum()}\")"
      ]
    },
    {
      "cell_type": "code",
      "execution_count": 10,
      "metadata": {
        "colab": {
          "base_uri": "https://localhost:8080/"
        },
        "id": "bQGrDwzMhSuK",
        "outputId": "2f0e337f-80cc-42c1-bc43-0ebd4e14e5f6"
      },
      "outputs": [
        {
          "name": "stdout",
          "output_type": "stream",
          "text": [
            "Number of Duplicates in movies dataset: 5\n"
          ]
        }
      ],
      "source": [
        "# Make sure there aren't dublicates in movies dataset:\n",
        "print(\"Number of Duplicates in movies dataset:\", movies['title'].duplicated().sum())"
      ]
    },
    {
      "cell_type": "markdown",
      "metadata": {
        "id": "l0Qri65ehSuL"
      },
      "source": [
        "Okay, We have 5 duplicated books.\n",
        "\n",
        "**Let us take a closer look**"
      ]
    },
    {
      "cell_type": "code",
      "execution_count": 11,
      "metadata": {
        "colab": {
          "base_uri": "https://localhost:8080/",
          "height": 363
        },
        "id": "vtw0upLmhSuL",
        "outputId": "39b68732-ce38-4d92-de91-be8e03c43922"
      },
      "outputs": [
        {
          "data": {
            "text/html": [
              "<div>\n",
              "<style scoped>\n",
              "    .dataframe tbody tr th:only-of-type {\n",
              "        vertical-align: middle;\n",
              "    }\n",
              "\n",
              "    .dataframe tbody tr th {\n",
              "        vertical-align: top;\n",
              "    }\n",
              "\n",
              "    .dataframe thead th {\n",
              "        text-align: right;\n",
              "    }\n",
              "</style>\n",
              "<table border=\"1\" class=\"dataframe\">\n",
              "  <thead>\n",
              "    <tr style=\"text-align: right;\">\n",
              "      <th></th>\n",
              "      <th>movieId</th>\n",
              "      <th>title</th>\n",
              "      <th>genres</th>\n",
              "    </tr>\n",
              "  </thead>\n",
              "  <tbody>\n",
              "    <tr>\n",
              "      <th>650</th>\n",
              "      <td>838</td>\n",
              "      <td>Emma (1996)</td>\n",
              "      <td>Comedy|Drama|Romance</td>\n",
              "    </tr>\n",
              "    <tr>\n",
              "      <th>2141</th>\n",
              "      <td>2851</td>\n",
              "      <td>Saturn 3 (1980)</td>\n",
              "      <td>Adventure|Sci-Fi|Thriller</td>\n",
              "    </tr>\n",
              "    <tr>\n",
              "      <th>4169</th>\n",
              "      <td>6003</td>\n",
              "      <td>Confessions of a Dangerous Mind (2002)</td>\n",
              "      <td>Comedy|Crime|Drama|Thriller</td>\n",
              "    </tr>\n",
              "    <tr>\n",
              "      <th>5601</th>\n",
              "      <td>26958</td>\n",
              "      <td>Emma (1996)</td>\n",
              "      <td>Romance</td>\n",
              "    </tr>\n",
              "    <tr>\n",
              "      <th>5854</th>\n",
              "      <td>32600</td>\n",
              "      <td>Eros (2004)</td>\n",
              "      <td>Drama</td>\n",
              "    </tr>\n",
              "    <tr>\n",
              "      <th>5931</th>\n",
              "      <td>34048</td>\n",
              "      <td>War of the Worlds (2005)</td>\n",
              "      <td>Action|Adventure|Sci-Fi|Thriller</td>\n",
              "    </tr>\n",
              "    <tr>\n",
              "      <th>6932</th>\n",
              "      <td>64997</td>\n",
              "      <td>War of the Worlds (2005)</td>\n",
              "      <td>Action|Sci-Fi</td>\n",
              "    </tr>\n",
              "    <tr>\n",
              "      <th>9106</th>\n",
              "      <td>144606</td>\n",
              "      <td>Confessions of a Dangerous Mind (2002)</td>\n",
              "      <td>Comedy|Crime|Drama|Romance|Thriller</td>\n",
              "    </tr>\n",
              "    <tr>\n",
              "      <th>9135</th>\n",
              "      <td>147002</td>\n",
              "      <td>Eros (2004)</td>\n",
              "      <td>Drama|Romance</td>\n",
              "    </tr>\n",
              "    <tr>\n",
              "      <th>9468</th>\n",
              "      <td>168358</td>\n",
              "      <td>Saturn 3 (1980)</td>\n",
              "      <td>Sci-Fi|Thriller</td>\n",
              "    </tr>\n",
              "  </tbody>\n",
              "</table>\n",
              "</div>"
            ],
            "text/plain": [
              "      movieId                                   title  \\\n",
              "650       838                             Emma (1996)   \n",
              "2141     2851                         Saturn 3 (1980)   \n",
              "4169     6003  Confessions of a Dangerous Mind (2002)   \n",
              "5601    26958                             Emma (1996)   \n",
              "5854    32600                             Eros (2004)   \n",
              "5931    34048                War of the Worlds (2005)   \n",
              "6932    64997                War of the Worlds (2005)   \n",
              "9106   144606  Confessions of a Dangerous Mind (2002)   \n",
              "9135   147002                             Eros (2004)   \n",
              "9468   168358                         Saturn 3 (1980)   \n",
              "\n",
              "                                   genres  \n",
              "650                  Comedy|Drama|Romance  \n",
              "2141            Adventure|Sci-Fi|Thriller  \n",
              "4169          Comedy|Crime|Drama|Thriller  \n",
              "5601                              Romance  \n",
              "5854                                Drama  \n",
              "5931     Action|Adventure|Sci-Fi|Thriller  \n",
              "6932                        Action|Sci-Fi  \n",
              "9106  Comedy|Crime|Drama|Romance|Thriller  \n",
              "9135                        Drama|Romance  \n",
              "9468                      Sci-Fi|Thriller  "
            ]
          },
          "execution_count": 11,
          "metadata": {},
          "output_type": "execute_result"
        }
      ],
      "source": [
        "movies[movies['title'].duplicated(keep=False)].head(10)"
      ]
    },
    {
      "cell_type": "markdown",
      "metadata": {
        "id": "uxhKIDk3hSuL"
      },
      "source": [
        "We have the same 5 movies but with different movieId. but We can't drop it simply, because the rates for this duplicated movie will lost, so we need to assign these rates for the other duplicated movie before removing them.\n",
        "\n",
        "and because there are only 10 movies, I will make the mapping dectionary manually and I will keep movies with more genres."
      ]
    },
    {
      "cell_type": "code",
      "execution_count": 12,
      "metadata": {
        "colab": {
          "base_uri": "https://localhost:8080/",
          "height": 694
        },
        "id": "BU9m6qGEhSuL",
        "outputId": "45e939fa-b0e3-4967-e3af-90498f15a667"
      },
      "outputs": [
        {
          "name": "stdout",
          "output_type": "stream",
          "text": [
            "Ratings with duplicated Ids:\n"
          ]
        },
        {
          "data": {
            "text/html": [
              "<div>\n",
              "<style scoped>\n",
              "    .dataframe tbody tr th:only-of-type {\n",
              "        vertical-align: middle;\n",
              "    }\n",
              "\n",
              "    .dataframe tbody tr th {\n",
              "        vertical-align: top;\n",
              "    }\n",
              "\n",
              "    .dataframe thead th {\n",
              "        text-align: right;\n",
              "    }\n",
              "</style>\n",
              "<table border=\"1\" class=\"dataframe\">\n",
              "  <thead>\n",
              "    <tr style=\"text-align: right;\">\n",
              "      <th></th>\n",
              "      <th>userId</th>\n",
              "      <th>movieId</th>\n",
              "      <th>rating</th>\n",
              "      <th>timestamp</th>\n",
              "    </tr>\n",
              "  </thead>\n",
              "  <tbody>\n",
              "    <tr>\n",
              "      <th>4747</th>\n",
              "      <td>28</td>\n",
              "      <td>64997</td>\n",
              "      <td>3.5</td>\n",
              "      <td>1234850075</td>\n",
              "    </tr>\n",
              "    <tr>\n",
              "      <th>11451</th>\n",
              "      <td>68</td>\n",
              "      <td>64997</td>\n",
              "      <td>2.5</td>\n",
              "      <td>1230497715</td>\n",
              "    </tr>\n",
              "    <tr>\n",
              "      <th>17449</th>\n",
              "      <td>111</td>\n",
              "      <td>6003</td>\n",
              "      <td>4.0</td>\n",
              "      <td>1516468531</td>\n",
              "    </tr>\n",
              "    <tr>\n",
              "      <th>23053</th>\n",
              "      <td>156</td>\n",
              "      <td>6003</td>\n",
              "      <td>3.5</td>\n",
              "      <td>1106882187</td>\n",
              "    </tr>\n",
              "    <tr>\n",
              "      <th>26958</th>\n",
              "      <td>182</td>\n",
              "      <td>6003</td>\n",
              "      <td>3.0</td>\n",
              "      <td>1054780821</td>\n",
              "    </tr>\n",
              "    <tr>\n",
              "      <th>42984</th>\n",
              "      <td>288</td>\n",
              "      <td>6003</td>\n",
              "      <td>4.0</td>\n",
              "      <td>1066059244</td>\n",
              "    </tr>\n",
              "    <tr>\n",
              "      <th>54020</th>\n",
              "      <td>356</td>\n",
              "      <td>6003</td>\n",
              "      <td>4.5</td>\n",
              "      <td>1229139513</td>\n",
              "    </tr>\n",
              "    <tr>\n",
              "      <th>59953</th>\n",
              "      <td>387</td>\n",
              "      <td>6003</td>\n",
              "      <td>3.5</td>\n",
              "      <td>1208707060</td>\n",
              "    </tr>\n",
              "    <tr>\n",
              "      <th>64063</th>\n",
              "      <td>414</td>\n",
              "      <td>6003</td>\n",
              "      <td>3.5</td>\n",
              "      <td>1092414917</td>\n",
              "    </tr>\n",
              "    <tr>\n",
              "      <th>74530</th>\n",
              "      <td>474</td>\n",
              "      <td>6003</td>\n",
              "      <td>3.5</td>\n",
              "      <td>1087831997</td>\n",
              "    </tr>\n",
              "    <tr>\n",
              "      <th>76779</th>\n",
              "      <td>480</td>\n",
              "      <td>6003</td>\n",
              "      <td>3.5</td>\n",
              "      <td>1179161261</td>\n",
              "    </tr>\n",
              "    <tr>\n",
              "      <th>80596</th>\n",
              "      <td>509</td>\n",
              "      <td>26958</td>\n",
              "      <td>3.5</td>\n",
              "      <td>1436031753</td>\n",
              "    </tr>\n",
              "    <tr>\n",
              "      <th>81458</th>\n",
              "      <td>514</td>\n",
              "      <td>168358</td>\n",
              "      <td>2.5</td>\n",
              "      <td>1533945970</td>\n",
              "    </tr>\n",
              "    <tr>\n",
              "      <th>85111</th>\n",
              "      <td>552</td>\n",
              "      <td>6003</td>\n",
              "      <td>3.0</td>\n",
              "      <td>1112151145</td>\n",
              "    </tr>\n",
              "    <tr>\n",
              "      <th>89614</th>\n",
              "      <td>580</td>\n",
              "      <td>6003</td>\n",
              "      <td>3.5</td>\n",
              "      <td>1167860103</td>\n",
              "    </tr>\n",
              "    <tr>\n",
              "      <th>94099</th>\n",
              "      <td>599</td>\n",
              "      <td>6003</td>\n",
              "      <td>3.0</td>\n",
              "      <td>1498527101</td>\n",
              "    </tr>\n",
              "    <tr>\n",
              "      <th>95721</th>\n",
              "      <td>600</td>\n",
              "      <td>6003</td>\n",
              "      <td>3.0</td>\n",
              "      <td>1237759526</td>\n",
              "    </tr>\n",
              "    <tr>\n",
              "      <th>98357</th>\n",
              "      <td>606</td>\n",
              "      <td>32600</td>\n",
              "      <td>3.5</td>\n",
              "      <td>1171410642</td>\n",
              "    </tr>\n",
              "    <tr>\n",
              "      <th>99357</th>\n",
              "      <td>608</td>\n",
              "      <td>6003</td>\n",
              "      <td>4.5</td>\n",
              "      <td>1117408056</td>\n",
              "    </tr>\n",
              "    <tr>\n",
              "      <th>99939</th>\n",
              "      <td>610</td>\n",
              "      <td>6003</td>\n",
              "      <td>4.0</td>\n",
              "      <td>1493847220</td>\n",
              "    </tr>\n",
              "  </tbody>\n",
              "</table>\n",
              "</div>"
            ],
            "text/plain": [
              "       userId  movieId  rating   timestamp\n",
              "4747       28    64997     3.5  1234850075\n",
              "11451      68    64997     2.5  1230497715\n",
              "17449     111     6003     4.0  1516468531\n",
              "23053     156     6003     3.5  1106882187\n",
              "26958     182     6003     3.0  1054780821\n",
              "42984     288     6003     4.0  1066059244\n",
              "54020     356     6003     4.5  1229139513\n",
              "59953     387     6003     3.5  1208707060\n",
              "64063     414     6003     3.5  1092414917\n",
              "74530     474     6003     3.5  1087831997\n",
              "76779     480     6003     3.5  1179161261\n",
              "80596     509    26958     3.5  1436031753\n",
              "81458     514   168358     2.5  1533945970\n",
              "85111     552     6003     3.0  1112151145\n",
              "89614     580     6003     3.5  1167860103\n",
              "94099     599     6003     3.0  1498527101\n",
              "95721     600     6003     3.0  1237759526\n",
              "98357     606    32600     3.5  1171410642\n",
              "99357     608     6003     4.5  1117408056\n",
              "99939     610     6003     4.0  1493847220"
            ]
          },
          "execution_count": 12,
          "metadata": {},
          "output_type": "execute_result"
        }
      ],
      "source": [
        "duplicated_ids_to_remove = [26958, 168358, 6003, 32600, 64997]\n",
        "mapped_duplicated_ids = {26958:838, 168358:2851, 6003:144606, 32600:147002, 64997:34048}\n",
        "print(\"Ratings with duplicated Ids:\")\n",
        "ratings.loc[ratings['movieId'].isin(duplicated_ids_to_remove)]"
      ]
    },
    {
      "cell_type": "code",
      "execution_count": 13,
      "metadata": {
        "id": "EZtrF133hSuL"
      },
      "outputs": [],
      "source": [
        "# Replace the IDs:\n",
        "ratings['movieId'] = ratings['movieId'].apply(lambda x: mapped_duplicated_ids[x] if x in duplicated_ids_to_remove else x)"
      ]
    },
    {
      "cell_type": "code",
      "execution_count": 14,
      "metadata": {
        "colab": {
          "base_uri": "https://localhost:8080/",
          "height": 70
        },
        "id": "fAJ-bmi1hSuM",
        "outputId": "c7668bce-b07f-4b7a-993a-ab261620ffdf"
      },
      "outputs": [
        {
          "name": "stdout",
          "output_type": "stream",
          "text": [
            "Ratings with duplicated Ids:\n"
          ]
        },
        {
          "data": {
            "text/html": [
              "<div>\n",
              "<style scoped>\n",
              "    .dataframe tbody tr th:only-of-type {\n",
              "        vertical-align: middle;\n",
              "    }\n",
              "\n",
              "    .dataframe tbody tr th {\n",
              "        vertical-align: top;\n",
              "    }\n",
              "\n",
              "    .dataframe thead th {\n",
              "        text-align: right;\n",
              "    }\n",
              "</style>\n",
              "<table border=\"1\" class=\"dataframe\">\n",
              "  <thead>\n",
              "    <tr style=\"text-align: right;\">\n",
              "      <th></th>\n",
              "      <th>userId</th>\n",
              "      <th>movieId</th>\n",
              "      <th>rating</th>\n",
              "      <th>timestamp</th>\n",
              "    </tr>\n",
              "  </thead>\n",
              "  <tbody>\n",
              "  </tbody>\n",
              "</table>\n",
              "</div>"
            ],
            "text/plain": [
              "Empty DataFrame\n",
              "Columns: [userId, movieId, rating, timestamp]\n",
              "Index: []"
            ]
          },
          "execution_count": 14,
          "metadata": {},
          "output_type": "execute_result"
        }
      ],
      "source": [
        "print(\"Ratings with duplicated Ids:\")\n",
        "ratings.loc[ratings['movieId'].isin(duplicated_ids_to_remove)]"
      ]
    },
    {
      "cell_type": "markdown",
      "metadata": {
        "id": "3GGDofsnhSuM"
      },
      "source": [
        "The duplicated ids replaced successfully, let us remove them from movies dataset."
      ]
    },
    {
      "cell_type": "code",
      "execution_count": 15,
      "metadata": {
        "colab": {
          "base_uri": "https://localhost:8080/"
        },
        "id": "stQJ_knZhSuM",
        "outputId": "7cde6466-5bb9-4954-cc07-d533817513bf"
      },
      "outputs": [
        {
          "name": "stdout",
          "output_type": "stream",
          "text": [
            "Number of Duplicated movies titles: 0\n"
          ]
        }
      ],
      "source": [
        "movies = movies[~movies['movieId'].isin(duplicated_ids_to_remove)]\n",
        "print('Number of Duplicated movies titles:',movies['title'].duplicated().sum())"
      ]
    },
    {
      "cell_type": "markdown",
      "metadata": {
        "id": "hxjdGSmGhSuM"
      },
      "source": [
        "Duplicated Rows removed successfully."
      ]
    },
    {
      "cell_type": "markdown",
      "metadata": {
        "id": "-EUiNTtJhSuM"
      },
      "source": [
        "#### 3.2 Checking for Missing data:"
      ]
    },
    {
      "cell_type": "code",
      "execution_count": 16,
      "metadata": {
        "colab": {
          "base_uri": "https://localhost:8080/",
          "height": 209
        },
        "id": "54OwLTYNhSuM",
        "outputId": "c64cb9ae-c7e0-4047-d084-3e7afa838c60"
      },
      "outputs": [
        {
          "data": {
            "text/plain": [
              "userId       0\n",
              "movieId      0\n",
              "rating       0\n",
              "timestamp    0\n",
              "dtype: int64"
            ]
          },
          "execution_count": 16,
          "metadata": {},
          "output_type": "execute_result"
        }
      ],
      "source": [
        "ratings.isna().sum()"
      ]
    },
    {
      "cell_type": "code",
      "execution_count": 17,
      "metadata": {
        "colab": {
          "base_uri": "https://localhost:8080/",
          "height": 178
        },
        "id": "kxj06EdbhSuM",
        "outputId": "ebec195e-2fbf-4440-988a-35371ed3c56b"
      },
      "outputs": [
        {
          "data": {
            "text/plain": [
              "movieId    0\n",
              "title      0\n",
              "genres     0\n",
              "dtype: int64"
            ]
          },
          "execution_count": 17,
          "metadata": {},
          "output_type": "execute_result"
        }
      ],
      "source": [
        "movies.isna().sum()"
      ]
    },
    {
      "cell_type": "markdown",
      "metadata": {
        "id": "iNKlemEShSuM"
      },
      "source": [
        "No missing data."
      ]
    },
    {
      "cell_type": "markdown",
      "metadata": {
        "id": "-zp0cjl4hSuN"
      },
      "source": [
        "#### 3.3 Checking for outliers:"
      ]
    },
    {
      "cell_type": "code",
      "execution_count": 18,
      "metadata": {
        "colab": {
          "base_uri": "https://localhost:8080/",
          "height": 411
        },
        "id": "7MiFxT46hSuN",
        "outputId": "8ffe1e13-3b5b-4a70-970f-827b6030c51a"
      },
      "outputs": [
        {
          "data": {
            "image/png": "[encoded data removed]",
            "text/plain": [
              "<Figure size 640x480 with 1 Axes>"
            ]
          },
          "metadata": {},
          "output_type": "display_data"
        }
      ],
      "source": [
        "sns.boxplot(ratings['rating'])\n",
        "plt.show()"
      ]
    },
    {
      "cell_type": "code",
      "execution_count": 19,
      "metadata": {
        "colab": {
          "base_uri": "https://localhost:8080/",
          "height": 335
        },
        "id": "QO9WYPyShSuN",
        "outputId": "735b6707-a388-4fce-9dcf-2bc2e0d7e7ab"
      },
      "outputs": [
        {
          "data": {
            "text/plain": [
              "count    100836.000000\n",
              "mean          3.501557\n",
              "std           1.042529\n",
              "min           0.500000\n",
              "25%           3.000000\n",
              "50%           3.500000\n",
              "75%           4.000000\n",
              "max           5.000000\n",
              "Name: rating, dtype: float64"
            ]
          },
          "execution_count": 19,
          "metadata": {},
          "output_type": "execute_result"
        }
      ],
      "source": [
        "ratings['rating'].describe()"
      ]
    },
    {
      "cell_type": "markdown",
      "metadata": {
        "id": "_cZjGJSqhSuN"
      },
      "source": [
        "After searching for MovieLens website, The rating system from 0.5 star to 5 stars, So our values is ok."
      ]
    },
    {
      "cell_type": "markdown",
      "metadata": {
        "id": "XNnR4mo-hSuN"
      },
      "source": [
        "### 4. EDA:"
      ]
    },
    {
      "cell_type": "markdown",
      "metadata": {
        "id": "JjCGBQpDhSuN"
      },
      "source": [
        "#### 4.1 Discover the distrbution of ratings:"
      ]
    },
    {
      "cell_type": "code",
      "execution_count": 20,
      "metadata": {
        "colab": {
          "base_uri": "https://localhost:8080/",
          "height": 449
        },
        "id": "beT9nGazhSuN",
        "outputId": "187e7c6b-7740-4b62-8d9a-adb14d864d79"
      },
      "outputs": [
        {
          "data": {
            "image/png": "[encoded data removed]",
            "text/plain": [
              "<Figure size 640x480 with 1 Axes>"
            ]
          },
          "metadata": {},
          "output_type": "display_data"
        }
      ],
      "source": [
        "sns.histplot(ratings['rating'])\n",
        "plt.show()"
      ]
    },
    {
      "cell_type": "markdown",
      "metadata": {
        "id": "TyOoo_nyhSuO"
      },
      "source": [
        "The most rating is 4 starts, and our users perfer to rate by whole number more than fractions."
      ]
    },
    {
      "cell_type": "markdown",
      "metadata": {
        "id": "-vK5KeDEhSuO"
      },
      "source": [
        "#### 4.2 Discover how often the user rates movies:"
      ]
    },
    {
      "cell_type": "code",
      "execution_count": 21,
      "metadata": {
        "colab": {
          "base_uri": "https://localhost:8080/"
        },
        "id": "Q6XpfKmJhSuO",
        "outputId": "998868d6-ab45-4627-d344-5f594b216816"
      },
      "outputs": [
        {
          "name": "stdout",
          "output_type": "stream",
          "text": [
            "Number of Unique Users: 610\n"
          ]
        }
      ],
      "source": [
        "print(\"Number of Unique Users:\", ratings['userId'].nunique())"
      ]
    },
    {
      "cell_type": "code",
      "execution_count": 22,
      "metadata": {
        "colab": {
          "base_uri": "https://localhost:8080/",
          "height": 206
        },
        "id": "5gLfPdhuhSuS",
        "outputId": "c16717f9-4997-48d6-f361-f0196eb6dd30"
      },
      "outputs": [
        {
          "data": {
            "text/html": [
              "<div>\n",
              "<style scoped>\n",
              "    .dataframe tbody tr th:only-of-type {\n",
              "        vertical-align: middle;\n",
              "    }\n",
              "\n",
              "    .dataframe tbody tr th {\n",
              "        vertical-align: top;\n",
              "    }\n",
              "\n",
              "    .dataframe thead th {\n",
              "        text-align: right;\n",
              "    }\n",
              "</style>\n",
              "<table border=\"1\" class=\"dataframe\">\n",
              "  <thead>\n",
              "    <tr style=\"text-align: right;\">\n",
              "      <th></th>\n",
              "      <th>userId</th>\n",
              "      <th>number of ratings</th>\n",
              "    </tr>\n",
              "  </thead>\n",
              "  <tbody>\n",
              "    <tr>\n",
              "      <th>0</th>\n",
              "      <td>1</td>\n",
              "      <td>232</td>\n",
              "    </tr>\n",
              "    <tr>\n",
              "      <th>1</th>\n",
              "      <td>2</td>\n",
              "      <td>29</td>\n",
              "    </tr>\n",
              "    <tr>\n",
              "      <th>2</th>\n",
              "      <td>3</td>\n",
              "      <td>39</td>\n",
              "    </tr>\n",
              "    <tr>\n",
              "      <th>3</th>\n",
              "      <td>4</td>\n",
              "      <td>216</td>\n",
              "    </tr>\n",
              "    <tr>\n",
              "      <th>4</th>\n",
              "      <td>5</td>\n",
              "      <td>44</td>\n",
              "    </tr>\n",
              "  </tbody>\n",
              "</table>\n",
              "</div>"
            ],
            "text/plain": [
              "   userId  number of ratings\n",
              "0       1                232\n",
              "1       2                 29\n",
              "2       3                 39\n",
              "3       4                216\n",
              "4       5                 44"
            ]
          },
          "execution_count": 22,
          "metadata": {},
          "output_type": "execute_result"
        }
      ],
      "source": [
        "users_rating_number = ratings.groupby(by='userId')['movieId'].count().reset_index().rename(columns={'movieId':'number of ratings'})\n",
        "users_rating_number.head()"
      ]
    },
    {
      "cell_type": "code",
      "execution_count": 23,
      "metadata": {
        "colab": {
          "base_uri": "https://localhost:8080/",
          "height": 352
        },
        "id": "_djBUg6VhSuS",
        "outputId": "238c06f9-545b-4f06-edea-b4d92e403699"
      },
      "outputs": [
        {
          "name": "stdout",
          "output_type": "stream",
          "text": [
            "The summary statistcs for number of ratings:\n"
          ]
        },
        {
          "data": {
            "text/plain": [
              "count     610.000000\n",
              "mean      165.304918\n",
              "std       269.480584\n",
              "min        20.000000\n",
              "25%        35.000000\n",
              "50%        70.500000\n",
              "75%       168.000000\n",
              "max      2698.000000\n",
              "Name: number of ratings, dtype: float64"
            ]
          },
          "execution_count": 23,
          "metadata": {},
          "output_type": "execute_result"
        }
      ],
      "source": [
        "print(\"The summary statistcs for number of ratings:\")\n",
        "users_rating_number['number of ratings'].describe()"
      ]
    },
    {
      "cell_type": "markdown",
      "metadata": {
        "id": "OhJqsBL3hSuS"
      },
      "source": [
        "Our users are active, the min user have rated 20 movies, and in median the users rates about 70 movie, But we have very big numbers of ratings (2698).\n",
        "\n",
        "**Let Us take a closer look**"
      ]
    },
    {
      "cell_type": "code",
      "execution_count": 24,
      "metadata": {
        "colab": {
          "base_uri": "https://localhost:8080/",
          "height": 472
        },
        "id": "QPqQyN6phSuS",
        "outputId": "c5e2b18d-3cca-4e47-fa3d-a5f06cec4f1e"
      },
      "outputs": [
        {
          "data": {
            "image/png": "[encoded data removed]",
            "text/plain": [
              "<Figure size 640x480 with 1 Axes>"
            ]
          },
          "metadata": {},
          "output_type": "display_data"
        }
      ],
      "source": [
        "sns.histplot(users_rating_number['number of ratings'])\n",
        "plt.title(\"Number of ratings per user\")\n",
        "plt.show()"
      ]
    },
    {
      "cell_type": "markdown",
      "metadata": {
        "id": "pWuyS43HhSuS"
      },
      "source": [
        "Okay we have a very active users, they have rated more than 1000 movie :o"
      ]
    },
    {
      "cell_type": "markdown",
      "metadata": {
        "id": "r6ZCQZ9rhSuS"
      },
      "source": [
        "#### 4.3 Discover how often the movie rated by users:"
      ]
    },
    {
      "cell_type": "code",
      "execution_count": 25,
      "metadata": {
        "colab": {
          "base_uri": "https://localhost:8080/"
        },
        "id": "6rFlrjldhSuT",
        "outputId": "f4d318bd-8317-4d89-cb64-287fb266331f"
      },
      "outputs": [
        {
          "name": "stdout",
          "output_type": "stream",
          "text": [
            "Number of Unique Movies had rated: 9719\n"
          ]
        }
      ],
      "source": [
        "print(\"Number of Unique Movies had rated:\", ratings['movieId'].nunique())"
      ]
    },
    {
      "cell_type": "code",
      "execution_count": 26,
      "metadata": {
        "colab": {
          "base_uri": "https://localhost:8080/",
          "height": 206
        },
        "id": "KxCEA_JchSuT",
        "outputId": "3800b750-d70a-4f5a-9a11-969eed663871"
      },
      "outputs": [
        {
          "data": {
            "text/html": [
              "<div>\n",
              "<style scoped>\n",
              "    .dataframe tbody tr th:only-of-type {\n",
              "        vertical-align: middle;\n",
              "    }\n",
              "\n",
              "    .dataframe tbody tr th {\n",
              "        vertical-align: top;\n",
              "    }\n",
              "\n",
              "    .dataframe thead th {\n",
              "        text-align: right;\n",
              "    }\n",
              "</style>\n",
              "<table border=\"1\" class=\"dataframe\">\n",
              "  <thead>\n",
              "    <tr style=\"text-align: right;\">\n",
              "      <th></th>\n",
              "      <th>movieId</th>\n",
              "      <th>number of ratings</th>\n",
              "    </tr>\n",
              "  </thead>\n",
              "  <tbody>\n",
              "    <tr>\n",
              "      <th>0</th>\n",
              "      <td>1</td>\n",
              "      <td>215</td>\n",
              "    </tr>\n",
              "    <tr>\n",
              "      <th>1</th>\n",
              "      <td>2</td>\n",
              "      <td>110</td>\n",
              "    </tr>\n",
              "    <tr>\n",
              "      <th>2</th>\n",
              "      <td>3</td>\n",
              "      <td>52</td>\n",
              "    </tr>\n",
              "    <tr>\n",
              "      <th>3</th>\n",
              "      <td>4</td>\n",
              "      <td>7</td>\n",
              "    </tr>\n",
              "    <tr>\n",
              "      <th>4</th>\n",
              "      <td>5</td>\n",
              "      <td>49</td>\n",
              "    </tr>\n",
              "  </tbody>\n",
              "</table>\n",
              "</div>"
            ],
            "text/plain": [
              "   movieId  number of ratings\n",
              "0        1                215\n",
              "1        2                110\n",
              "2        3                 52\n",
              "3        4                  7\n",
              "4        5                 49"
            ]
          },
          "execution_count": 26,
          "metadata": {},
          "output_type": "execute_result"
        }
      ],
      "source": [
        "movies_rating_number = ratings.groupby(by='movieId')['userId'].count().reset_index().rename(columns={'userId':'number of ratings'})\n",
        "movies_rating_number.head()"
      ]
    },
    {
      "cell_type": "code",
      "execution_count": 27,
      "metadata": {
        "colab": {
          "base_uri": "https://localhost:8080/",
          "height": 352
        },
        "id": "_6CCp26yhSuT",
        "outputId": "41fba5c9-c969-449c-e8d8-4c471d5e00be"
      },
      "outputs": [
        {
          "name": "stdout",
          "output_type": "stream",
          "text": [
            "The summary statistcs for number of ratings:\n"
          ]
        },
        {
          "data": {
            "text/plain": [
              "count    9719.000000\n",
              "mean       10.375141\n",
              "std        22.406220\n",
              "min         1.000000\n",
              "25%         1.000000\n",
              "50%         3.000000\n",
              "75%         9.000000\n",
              "max       329.000000\n",
              "Name: number of ratings, dtype: float64"
            ]
          },
          "execution_count": 27,
          "metadata": {},
          "output_type": "execute_result"
        }
      ],
      "source": [
        "print(\"The summary statistcs for number of ratings:\")\n",
        "movies_rating_number['number of ratings'].describe()"
      ]
    },
    {
      "cell_type": "code",
      "execution_count": 28,
      "metadata": {
        "colab": {
          "base_uri": "https://localhost:8080/",
          "height": 472
        },
        "id": "_fNPxrwBhSuT",
        "outputId": "8160dfe6-d63b-435c-e60d-c37aeb001f76"
      },
      "outputs": [
        {
          "data": {
            "image/png": "[encoded data removed]",
            "text/plain": [
              "<Figure size 640x480 with 1 Axes>"
            ]
          },
          "metadata": {},
          "output_type": "display_data"
        }
      ],
      "source": [
        "sns.histplot(movies_rating_number['number of ratings'])\n",
        "plt.title(\"Number of ratings per movie\")\n",
        "plt.show()"
      ]
    },
    {
      "cell_type": "markdown",
      "metadata": {
        "id": "NTt45vVOhSuT"
      },
      "source": [
        "Hmmmm, As expected there are a lot of movies have only 1 rating, about 25% percent of our movies have 1 rating, and about 50% percent of movies have equal or less than 3 ratings and That can be a problem for our analysis.\n",
        "\n",
        "**but there are movies have a lot of ratings let us take a closer look for these popular movies**"
      ]
    },
    {
      "cell_type": "code",
      "execution_count": 29,
      "metadata": {
        "colab": {
          "base_uri": "https://localhost:8080/",
          "height": 728
        },
        "id": "qSZzbTndhSuT",
        "outputId": "2732c206-fdca-49dc-92fb-696b223aab2d"
      },
      "outputs": [
        {
          "data": {
            "text/html": [
              "<div>\n",
              "<style scoped>\n",
              "    .dataframe tbody tr th:only-of-type {\n",
              "        vertical-align: middle;\n",
              "    }\n",
              "\n",
              "    .dataframe tbody tr th {\n",
              "        vertical-align: top;\n",
              "    }\n",
              "\n",
              "    .dataframe thead th {\n",
              "        text-align: right;\n",
              "    }\n",
              "</style>\n",
              "<table border=\"1\" class=\"dataframe\">\n",
              "  <thead>\n",
              "    <tr style=\"text-align: right;\">\n",
              "      <th></th>\n",
              "      <th>movieId</th>\n",
              "      <th>title</th>\n",
              "      <th>genres</th>\n",
              "    </tr>\n",
              "  </thead>\n",
              "  <tbody>\n",
              "    <tr>\n",
              "      <th>0</th>\n",
              "      <td>1</td>\n",
              "      <td>Toy Story (1995)</td>\n",
              "      <td>Adventure|Animation|Children|Comedy|Fantasy</td>\n",
              "    </tr>\n",
              "    <tr>\n",
              "      <th>43</th>\n",
              "      <td>47</td>\n",
              "      <td>Seven (a.k.a. Se7en) (1995)</td>\n",
              "      <td>Mystery|Thriller</td>\n",
              "    </tr>\n",
              "    <tr>\n",
              "      <th>46</th>\n",
              "      <td>50</td>\n",
              "      <td>Usual Suspects, The (1995)</td>\n",
              "      <td>Crime|Mystery|Thriller</td>\n",
              "    </tr>\n",
              "    <tr>\n",
              "      <th>97</th>\n",
              "      <td>110</td>\n",
              "      <td>Braveheart (1995)</td>\n",
              "      <td>Action|Drama|War</td>\n",
              "    </tr>\n",
              "    <tr>\n",
              "      <th>123</th>\n",
              "      <td>150</td>\n",
              "      <td>Apollo 13 (1995)</td>\n",
              "      <td>Adventure|Drama|IMAX</td>\n",
              "    </tr>\n",
              "    <tr>\n",
              "      <th>224</th>\n",
              "      <td>260</td>\n",
              "      <td>Star Wars: Episode IV - A New Hope (1977)</td>\n",
              "      <td>Action|Adventure|Sci-Fi</td>\n",
              "    </tr>\n",
              "    <tr>\n",
              "      <th>257</th>\n",
              "      <td>296</td>\n",
              "      <td>Pulp Fiction (1994)</td>\n",
              "      <td>Comedy|Crime|Drama|Thriller</td>\n",
              "    </tr>\n",
              "    <tr>\n",
              "      <th>277</th>\n",
              "      <td>318</td>\n",
              "      <td>Shawshank Redemption, The (1994)</td>\n",
              "      <td>Crime|Drama</td>\n",
              "    </tr>\n",
              "    <tr>\n",
              "      <th>314</th>\n",
              "      <td>356</td>\n",
              "      <td>Forrest Gump (1994)</td>\n",
              "      <td>Comedy|Drama|Romance|War</td>\n",
              "    </tr>\n",
              "    <tr>\n",
              "      <th>418</th>\n",
              "      <td>480</td>\n",
              "      <td>Jurassic Park (1993)</td>\n",
              "      <td>Action|Adventure|Sci-Fi|Thriller</td>\n",
              "    </tr>\n",
              "    <tr>\n",
              "      <th>461</th>\n",
              "      <td>527</td>\n",
              "      <td>Schindler's List (1993)</td>\n",
              "      <td>Drama|War</td>\n",
              "    </tr>\n",
              "    <tr>\n",
              "      <th>507</th>\n",
              "      <td>589</td>\n",
              "      <td>Terminator 2: Judgment Day (1991)</td>\n",
              "      <td>Action|Sci-Fi</td>\n",
              "    </tr>\n",
              "    <tr>\n",
              "      <th>510</th>\n",
              "      <td>593</td>\n",
              "      <td>Silence of the Lambs, The (1991)</td>\n",
              "      <td>Crime|Horror|Thriller</td>\n",
              "    </tr>\n",
              "    <tr>\n",
              "      <th>615</th>\n",
              "      <td>780</td>\n",
              "      <td>Independence Day (a.k.a. ID4) (1996)</td>\n",
              "      <td>Action|Adventure|Sci-Fi|Thriller</td>\n",
              "    </tr>\n",
              "    <tr>\n",
              "      <th>898</th>\n",
              "      <td>1196</td>\n",
              "      <td>Star Wars: Episode V - The Empire Strikes Back...</td>\n",
              "      <td>Action|Adventure|Sci-Fi</td>\n",
              "    </tr>\n",
              "    <tr>\n",
              "      <th>900</th>\n",
              "      <td>1198</td>\n",
              "      <td>Raiders of the Lost Ark (Indiana Jones and the...</td>\n",
              "      <td>Action|Adventure</td>\n",
              "    </tr>\n",
              "    <tr>\n",
              "      <th>1939</th>\n",
              "      <td>2571</td>\n",
              "      <td>Matrix, The (1999)</td>\n",
              "      <td>Action|Sci-Fi|Thriller</td>\n",
              "    </tr>\n",
              "    <tr>\n",
              "      <th>2145</th>\n",
              "      <td>2858</td>\n",
              "      <td>American Beauty (1999)</td>\n",
              "      <td>Drama|Romance</td>\n",
              "    </tr>\n",
              "    <tr>\n",
              "      <th>2226</th>\n",
              "      <td>2959</td>\n",
              "      <td>Fight Club (1999)</td>\n",
              "      <td>Action|Crime|Drama|Thriller</td>\n",
              "    </tr>\n",
              "    <tr>\n",
              "      <th>3638</th>\n",
              "      <td>4993</td>\n",
              "      <td>Lord of the Rings: The Fellowship of the Ring,...</td>\n",
              "      <td>Adventure|Fantasy</td>\n",
              "    </tr>\n",
              "  </tbody>\n",
              "</table>\n",
              "</div>"
            ],
            "text/plain": [
              "      movieId                                              title  \\\n",
              "0           1                                   Toy Story (1995)   \n",
              "43         47                        Seven (a.k.a. Se7en) (1995)   \n",
              "46         50                         Usual Suspects, The (1995)   \n",
              "97        110                                  Braveheart (1995)   \n",
              "123       150                                   Apollo 13 (1995)   \n",
              "224       260          Star Wars: Episode IV - A New Hope (1977)   \n",
              "257       296                                Pulp Fiction (1994)   \n",
              "277       318                   Shawshank Redemption, The (1994)   \n",
              "314       356                                Forrest Gump (1994)   \n",
              "418       480                               Jurassic Park (1993)   \n",
              "461       527                            Schindler's List (1993)   \n",
              "507       589                  Terminator 2: Judgment Day (1991)   \n",
              "510       593                   Silence of the Lambs, The (1991)   \n",
              "615       780               Independence Day (a.k.a. ID4) (1996)   \n",
              "898      1196  Star Wars: Episode V - The Empire Strikes Back...   \n",
              "900      1198  Raiders of the Lost Ark (Indiana Jones and the...   \n",
              "1939     2571                                 Matrix, The (1999)   \n",
              "2145     2858                             American Beauty (1999)   \n",
              "2226     2959                                  Fight Club (1999)   \n",
              "3638     4993  Lord of the Rings: The Fellowship of the Ring,...   \n",
              "\n",
              "                                           genres  \n",
              "0     Adventure|Animation|Children|Comedy|Fantasy  \n",
              "43                               Mystery|Thriller  \n",
              "46                         Crime|Mystery|Thriller  \n",
              "97                               Action|Drama|War  \n",
              "123                          Adventure|Drama|IMAX  \n",
              "224                       Action|Adventure|Sci-Fi  \n",
              "257                   Comedy|Crime|Drama|Thriller  \n",
              "277                                   Crime|Drama  \n",
              "314                      Comedy|Drama|Romance|War  \n",
              "418              Action|Adventure|Sci-Fi|Thriller  \n",
              "461                                     Drama|War  \n",
              "507                                 Action|Sci-Fi  \n",
              "510                         Crime|Horror|Thriller  \n",
              "615              Action|Adventure|Sci-Fi|Thriller  \n",
              "898                       Action|Adventure|Sci-Fi  \n",
              "900                              Action|Adventure  \n",
              "1939                       Action|Sci-Fi|Thriller  \n",
              "2145                                Drama|Romance  \n",
              "2226                  Action|Crime|Drama|Thriller  \n",
              "3638                            Adventure|Fantasy  "
            ]
          },
          "execution_count": 29,
          "metadata": {},
          "output_type": "execute_result"
        }
      ],
      "source": [
        "top_20_movies_ids = movies_rating_number.sort_values(by='number of ratings', ascending=False).head(20)['movieId']\n",
        "movies[movies['movieId'].isin(top_20_movies_ids)].head(20)"
      ]
    },
    {
      "cell_type": "markdown",
      "metadata": {
        "id": "waLRMjkPhSuU"
      },
      "source": [
        "I think these movies not here by mistake, I have watched about 17 movie from these movies."
      ]
    },
    {
      "cell_type": "markdown",
      "metadata": {
        "id": "Q8Ez6Ap7hSuU"
      },
      "source": [
        "### 5. Preparation the data for our recommendation systems:"
      ]
    },
    {
      "cell_type": "markdown",
      "metadata": {
        "id": "2808lOabhSuU"
      },
      "source": [
        "#### 5.1 Join movies with ratings:"
      ]
    },
    {
      "cell_type": "code",
      "execution_count": 30,
      "metadata": {
        "colab": {
          "base_uri": "https://localhost:8080/",
          "height": 293
        },
        "id": "kjkHj0EGhSuU",
        "outputId": "59c15e1c-e0f4-449a-a832-14753a094a30"
      },
      "outputs": [
        {
          "data": {
            "text/html": [
              "<div>\n",
              "<style scoped>\n",
              "    .dataframe tbody tr th:only-of-type {\n",
              "        vertical-align: middle;\n",
              "    }\n",
              "\n",
              "    .dataframe tbody tr th {\n",
              "        vertical-align: top;\n",
              "    }\n",
              "\n",
              "    .dataframe thead th {\n",
              "        text-align: right;\n",
              "    }\n",
              "</style>\n",
              "<table border=\"1\" class=\"dataframe\">\n",
              "  <thead>\n",
              "    <tr style=\"text-align: right;\">\n",
              "      <th></th>\n",
              "      <th>movieId</th>\n",
              "      <th>title</th>\n",
              "      <th>genres</th>\n",
              "      <th>userId</th>\n",
              "      <th>rating</th>\n",
              "      <th>timestamp</th>\n",
              "    </tr>\n",
              "  </thead>\n",
              "  <tbody>\n",
              "    <tr>\n",
              "      <th>0</th>\n",
              "      <td>1</td>\n",
              "      <td>Toy Story (1995)</td>\n",
              "      <td>Adventure|Animation|Children|Comedy|Fantasy</td>\n",
              "      <td>1.0</td>\n",
              "      <td>4.0</td>\n",
              "      <td>9.649827e+08</td>\n",
              "    </tr>\n",
              "    <tr>\n",
              "      <th>1</th>\n",
              "      <td>1</td>\n",
              "      <td>Toy Story (1995)</td>\n",
              "      <td>Adventure|Animation|Children|Comedy|Fantasy</td>\n",
              "      <td>5.0</td>\n",
              "      <td>4.0</td>\n",
              "      <td>8.474350e+08</td>\n",
              "    </tr>\n",
              "    <tr>\n",
              "      <th>2</th>\n",
              "      <td>1</td>\n",
              "      <td>Toy Story (1995)</td>\n",
              "      <td>Adventure|Animation|Children|Comedy|Fantasy</td>\n",
              "      <td>7.0</td>\n",
              "      <td>4.5</td>\n",
              "      <td>1.106636e+09</td>\n",
              "    </tr>\n",
              "    <tr>\n",
              "      <th>3</th>\n",
              "      <td>1</td>\n",
              "      <td>Toy Story (1995)</td>\n",
              "      <td>Adventure|Animation|Children|Comedy|Fantasy</td>\n",
              "      <td>15.0</td>\n",
              "      <td>2.5</td>\n",
              "      <td>1.510578e+09</td>\n",
              "    </tr>\n",
              "    <tr>\n",
              "      <th>4</th>\n",
              "      <td>1</td>\n",
              "      <td>Toy Story (1995)</td>\n",
              "      <td>Adventure|Animation|Children|Comedy|Fantasy</td>\n",
              "      <td>17.0</td>\n",
              "      <td>4.5</td>\n",
              "      <td>1.305696e+09</td>\n",
              "    </tr>\n",
              "  </tbody>\n",
              "</table>\n",
              "</div>"
            ],
            "text/plain": [
              "   movieId             title                                       genres  \\\n",
              "0        1  Toy Story (1995)  Adventure|Animation|Children|Comedy|Fantasy   \n",
              "1        1  Toy Story (1995)  Adventure|Animation|Children|Comedy|Fantasy   \n",
              "2        1  Toy Story (1995)  Adventure|Animation|Children|Comedy|Fantasy   \n",
              "3        1  Toy Story (1995)  Adventure|Animation|Children|Comedy|Fantasy   \n",
              "4        1  Toy Story (1995)  Adventure|Animation|Children|Comedy|Fantasy   \n",
              "\n",
              "   userId  rating     timestamp  \n",
              "0     1.0     4.0  9.649827e+08  \n",
              "1     5.0     4.0  8.474350e+08  \n",
              "2     7.0     4.5  1.106636e+09  \n",
              "3    15.0     2.5  1.510578e+09  \n",
              "4    17.0     4.5  1.305696e+09  "
            ]
          },
          "execution_count": 30,
          "metadata": {},
          "output_type": "execute_result"
        }
      ],
      "source": [
        "# Merging movie and rating data sets\n",
        "df = movies.merge(ratings, how=\"left\", on=\"movieId\")\n",
        "df.head()"
      ]
    },
    {
      "cell_type": "markdown",
      "metadata": {
        "id": "rFIBK0WjhSuU"
      },
      "source": [
        "#### 5.2 Train test split:"
      ]
    },
    {
      "cell_type": "markdown",
      "metadata": {
        "id": "B621YyBehSuV"
      },
      "source": [
        "Okay, In our case the train test split isn't a simple thing,\n",
        "because the ratings for every user have a timestemp, So we need to make into the consideration the chronological order for every user rating."
      ]
    },
    {
      "attachments": {
        "image.png": {
          "image/png": "[encoded data removed]"
        }
      },
      "cell_type": "markdown",
      "metadata": {},
      "source": [
        "![image.png](attachment:image.png)"
      ]
    },
    {
      "cell_type": "markdown",
      "metadata": {
        "id": "LgsnR48QhSuV"
      },
      "source": [
        "Like the image above, if we split the data to 80:20 perecnt for training and testing dataset.\n",
        "we need to make that with respect for every user and with respect for the order of watching.\n",
        "e.g.:\n",
        "If we have user had watched 20 movies, so we will split the 4 recent rated movies as test data and the oldest 16 rated movie to train on them."
      ]
    },
    {
      "cell_type": "code",
      "execution_count": 31,
      "metadata": {
        "colab": {
          "base_uri": "https://localhost:8080/"
        },
        "id": "MJEKI1vohSuV",
        "outputId": "bfb91820-f5f2-4c4e-8690-f0f7b9b13d2e"
      },
      "outputs": [
        {
          "name": "stdout",
          "output_type": "stream",
          "text": [
            "is the split successed? True\n"
          ]
        }
      ],
      "source": [
        "def custom_train_test_split(df, test_ratio=0.2):\n",
        "    unique_users = df['userId'].unique()\n",
        "    train_ratings = []\n",
        "    test_ratings = []\n",
        "\n",
        "    for user in unique_users:\n",
        "        user_ratings = df[df['userId'] == user].sort_values(by='timestamp')\n",
        "        total_ratings = len(user_ratings)\n",
        "        test_count = int(np.floor(test_ratio*total_ratings))\n",
        "        train_count = total_ratings - test_count\n",
        "\n",
        "        if test_count>=1:\n",
        "            train_ratings.append(user_ratings.iloc[:train_count])\n",
        "            test_ratings.append(user_ratings.iloc[train_count:])\n",
        "\n",
        "    # Combine all train and test sets\n",
        "    train_df = pd.concat(train_ratings)\n",
        "    test_df = pd.concat(test_ratings)\n",
        "\n",
        "    # Return the train and test DataFrames\n",
        "    return train_df, test_df\n",
        "\n",
        "\n",
        "train, test = custom_train_test_split(df)\n",
        "print(\"is the split successed?\", train.shape[0] + test.shape[0] == ratings.shape[0])"
      ]
    },
    {
      "cell_type": "code",
      "execution_count": 32,
      "metadata": {
        "colab": {
          "base_uri": "https://localhost:8080/"
        },
        "id": "ei6LJrLghSuV",
        "outputId": "5087d992-5298-4564-eb62-f153ba837507"
      },
      "outputs": [
        {
          "name": "stdout",
          "output_type": "stream",
          "text": [
            "610\n",
            "610\n",
            "610\n"
          ]
        }
      ],
      "source": [
        "# We should have the same number of users in the train and test and orignal dataset:\n",
        "print(df['userId'].nunique())\n",
        "print(df['userId'].nunique())\n",
        "print(df['userId'].nunique())"
      ]
    },
    {
      "cell_type": "code",
      "execution_count": 33,
      "metadata": {
        "colab": {
          "base_uri": "https://localhost:8080/"
        },
        "id": "1Wzgq7XthSuV",
        "outputId": "40af4819-610e-4505-a7a1-41b12ce18671"
      },
      "outputs": [
        {
          "name": "stdout",
          "output_type": "stream",
          "text": [
            "Number of Movies in Original data set: 9737\n",
            "Number of Movies in Training data set: 8245\n",
            "Number of Movies in Testing data set: 6242\n"
          ]
        }
      ],
      "source": [
        "print('Number of Movies in Original data set:',df['movieId'].nunique())\n",
        "print('Number of Movies in Training data set:', train['movieId'].nunique())\n",
        "print('Number of Movies in Testing data set:', test['movieId'].nunique())"
      ]
    },
    {
      "cell_type": "code",
      "execution_count": 34,
      "metadata": {
        "colab": {
          "base_uri": "https://localhost:8080/"
        },
        "id": "6ShlFprShSuW",
        "outputId": "cbdc6558-92f8-4ea0-8180-a6b9103cb4af"
      },
      "outputs": [
        {
          "name": "stdout",
          "output_type": "stream",
          "text": [
            "Number of Movies in test data and not in train data:\n",
            "1474\n"
          ]
        }
      ],
      "source": [
        "print('Number of Movies in test data and not in train data:')\n",
        "print(len(set(test['movieId'].unique()) - set(train['movieId'].unique())))"
      ]
    },
    {
      "cell_type": "markdown",
      "metadata": {
        "id": "K3xOKA5nhSuW"
      },
      "source": [
        "Some movies in the test set were not present in the train set. This can happen because the splitting logic is user-centric, and not all users have rated the same movies. As a result, there may be movies in the test set that no user in the train set rated.\n",
        "\n",
        "##### Why This Is a Problem?\n",
        "For a collaborative filtering model, any movie in the test set that is not in the train set cannot be predicted, as the model relies on historical ratings in the train set. This leads to evaluation errors or inaccurate results.\n",
        "\n",
        "##### Solution: Filter Out Movies in the Test Set Not Present in the Train Set"
      ]
    },
    {
      "cell_type": "code",
      "execution_count": 35,
      "metadata": {
        "colab": {
          "base_uri": "https://localhost:8080/"
        },
        "id": "XJ6idiYghSuW",
        "outputId": "47971fe2-a9ea-4195-e4af-5a88c5a5082f"
      },
      "outputs": [
        {
          "name": "stdout",
          "output_type": "stream",
          "text": [
            "Number of unique movies in ratings: 9719\n",
            "Number of unique movies in train set: 8245\n",
            "Number of unique movies in filtered test set: 4768\n",
            "Movies in the original test set not in train set: 1474\n",
            "Movies in the filtered test set not in train set: 0\n"
          ]
        }
      ],
      "source": [
        "# Filter the test set to include only movies present in the train set\n",
        "filtered_test = test[test['movieId'].isin(train['movieId'].unique())]\n",
        "\n",
        "# Verify the updated test set\n",
        "print(\"Number of unique movies in ratings:\", ratings['movieId'].nunique())\n",
        "print(\"Number of unique movies in train set:\", train['movieId'].nunique())\n",
        "print(\"Number of unique movies in filtered test set:\", filtered_test['movieId'].nunique())\n",
        "print(\"Movies in the original test set not in train set:\", len(set(test['movieId'].unique()) - set(train['movieId'].unique())))\n",
        "print(\"Movies in the filtered test set not in train set:\", len(set(filtered_test['movieId'].unique()) - set(train['movieId'].unique())))\n"
      ]
    },
    {
      "cell_type": "markdown",
      "metadata": {
        "id": "Iwztc1iuhSuW"
      },
      "source": [
        "#### 5.3 Make user_movie matrix:"
      ]
    },
    {
      "cell_type": "code",
      "execution_count": 36,
      "metadata": {
        "colab": {
          "base_uri": "https://localhost:8080/",
          "height": 408
        },
        "id": "cddlJpaahSuW",
        "outputId": "97b7714f-0120-4f02-ffa4-6b4950533ba8"
      },
      "outputs": [
        {
          "data": {
            "text/html": [
              "<div>\n",
              "<style scoped>\n",
              "    .dataframe tbody tr th:only-of-type {\n",
              "        vertical-align: middle;\n",
              "    }\n",
              "\n",
              "    .dataframe tbody tr th {\n",
              "        vertical-align: top;\n",
              "    }\n",
              "\n",
              "    .dataframe thead th {\n",
              "        text-align: right;\n",
              "    }\n",
              "</style>\n",
              "<table border=\"1\" class=\"dataframe\">\n",
              "  <thead>\n",
              "    <tr style=\"text-align: right;\">\n",
              "      <th>title</th>\n",
              "      <th>'Hellboy': The Seeds of Creation (2004)</th>\n",
              "      <th>'Round Midnight (1986)</th>\n",
              "      <th>'Salem's Lot (2004)</th>\n",
              "      <th>'Til There Was You (1997)</th>\n",
              "      <th>'burbs, The (1989)</th>\n",
              "      <th>'night Mother (1986)</th>\n",
              "      <th>(500) Days of Summer (2009)</th>\n",
              "      <th>*batteries not included (1987)</th>\n",
              "      <th>...All the Marbles (1981)</th>\n",
              "      <th>...And Justice for All (1979)</th>\n",
              "      <th>...</th>\n",
              "      <th>Zulu (1964)</th>\n",
              "      <th>[REC] (2007)</th>\n",
              "      <th>[REC]² (2009)</th>\n",
              "      <th>[REC]³ 3 Génesis (2012)</th>\n",
              "      <th>anohana: The Flower We Saw That Day - The Movie (2013)</th>\n",
              "      <th>eXistenZ (1999)</th>\n",
              "      <th>xXx (2002)</th>\n",
              "      <th>xXx: State of the Union (2005)</th>\n",
              "      <th>¡Three Amigos! (1986)</th>\n",
              "      <th>À nous la liberté (Freedom for Us) (1931)</th>\n",
              "    </tr>\n",
              "    <tr>\n",
              "      <th>userId</th>\n",
              "      <th></th>\n",
              "      <th></th>\n",
              "      <th></th>\n",
              "      <th></th>\n",
              "      <th></th>\n",
              "      <th></th>\n",
              "      <th></th>\n",
              "      <th></th>\n",
              "      <th></th>\n",
              "      <th></th>\n",
              "      <th></th>\n",
              "      <th></th>\n",
              "      <th></th>\n",
              "      <th></th>\n",
              "      <th></th>\n",
              "      <th></th>\n",
              "      <th></th>\n",
              "      <th></th>\n",
              "      <th></th>\n",
              "      <th></th>\n",
              "      <th></th>\n",
              "    </tr>\n",
              "  </thead>\n",
              "  <tbody>\n",
              "    <tr>\n",
              "      <th>1.0</th>\n",
              "      <td>NaN</td>\n",
              "      <td>NaN</td>\n",
              "      <td>NaN</td>\n",
              "      <td>NaN</td>\n",
              "      <td>NaN</td>\n",
              "      <td>NaN</td>\n",
              "      <td>NaN</td>\n",
              "      <td>NaN</td>\n",
              "      <td>NaN</td>\n",
              "      <td>NaN</td>\n",
              "      <td>...</td>\n",
              "      <td>NaN</td>\n",
              "      <td>NaN</td>\n",
              "      <td>NaN</td>\n",
              "      <td>NaN</td>\n",
              "      <td>NaN</td>\n",
              "      <td>NaN</td>\n",
              "      <td>NaN</td>\n",
              "      <td>NaN</td>\n",
              "      <td>NaN</td>\n",
              "      <td>NaN</td>\n",
              "    </tr>\n",
              "    <tr>\n",
              "      <th>2.0</th>\n",
              "      <td>NaN</td>\n",
              "      <td>NaN</td>\n",
              "      <td>NaN</td>\n",
              "      <td>NaN</td>\n",
              "      <td>NaN</td>\n",
              "      <td>NaN</td>\n",
              "      <td>NaN</td>\n",
              "      <td>NaN</td>\n",
              "      <td>NaN</td>\n",
              "      <td>NaN</td>\n",
              "      <td>...</td>\n",
              "      <td>NaN</td>\n",
              "      <td>NaN</td>\n",
              "      <td>NaN</td>\n",
              "      <td>NaN</td>\n",
              "      <td>NaN</td>\n",
              "      <td>NaN</td>\n",
              "      <td>NaN</td>\n",
              "      <td>NaN</td>\n",
              "      <td>NaN</td>\n",
              "      <td>NaN</td>\n",
              "    </tr>\n",
              "    <tr>\n",
              "      <th>3.0</th>\n",
              "      <td>NaN</td>\n",
              "      <td>NaN</td>\n",
              "      <td>NaN</td>\n",
              "      <td>NaN</td>\n",
              "      <td>NaN</td>\n",
              "      <td>NaN</td>\n",
              "      <td>NaN</td>\n",
              "      <td>NaN</td>\n",
              "      <td>NaN</td>\n",
              "      <td>NaN</td>\n",
              "      <td>...</td>\n",
              "      <td>NaN</td>\n",
              "      <td>NaN</td>\n",
              "      <td>NaN</td>\n",
              "      <td>NaN</td>\n",
              "      <td>NaN</td>\n",
              "      <td>NaN</td>\n",
              "      <td>NaN</td>\n",
              "      <td>NaN</td>\n",
              "      <td>NaN</td>\n",
              "      <td>NaN</td>\n",
              "    </tr>\n",
              "    <tr>\n",
              "      <th>4.0</th>\n",
              "      <td>NaN</td>\n",
              "      <td>NaN</td>\n",
              "      <td>NaN</td>\n",
              "      <td>NaN</td>\n",
              "      <td>NaN</td>\n",
              "      <td>NaN</td>\n",
              "      <td>NaN</td>\n",
              "      <td>NaN</td>\n",
              "      <td>NaN</td>\n",
              "      <td>NaN</td>\n",
              "      <td>...</td>\n",
              "      <td>NaN</td>\n",
              "      <td>NaN</td>\n",
              "      <td>NaN</td>\n",
              "      <td>NaN</td>\n",
              "      <td>NaN</td>\n",
              "      <td>NaN</td>\n",
              "      <td>NaN</td>\n",
              "      <td>NaN</td>\n",
              "      <td>NaN</td>\n",
              "      <td>NaN</td>\n",
              "    </tr>\n",
              "    <tr>\n",
              "      <th>5.0</th>\n",
              "      <td>NaN</td>\n",
              "      <td>NaN</td>\n",
              "      <td>NaN</td>\n",
              "      <td>NaN</td>\n",
              "      <td>NaN</td>\n",
              "      <td>NaN</td>\n",
              "      <td>NaN</td>\n",
              "      <td>NaN</td>\n",
              "      <td>NaN</td>\n",
              "      <td>NaN</td>\n",
              "      <td>...</td>\n",
              "      <td>NaN</td>\n",
              "      <td>NaN</td>\n",
              "      <td>NaN</td>\n",
              "      <td>NaN</td>\n",
              "      <td>NaN</td>\n",
              "      <td>NaN</td>\n",
              "      <td>NaN</td>\n",
              "      <td>NaN</td>\n",
              "      <td>NaN</td>\n",
              "      <td>NaN</td>\n",
              "    </tr>\n",
              "  </tbody>\n",
              "</table>\n",
              "<p>5 rows × 8245 columns</p>\n",
              "</div>"
            ],
            "text/plain": [
              "title   'Hellboy': The Seeds of Creation (2004)  'Round Midnight (1986)  \\\n",
              "userId                                                                    \n",
              "1.0                                         NaN                     NaN   \n",
              "2.0                                         NaN                     NaN   \n",
              "3.0                                         NaN                     NaN   \n",
              "4.0                                         NaN                     NaN   \n",
              "5.0                                         NaN                     NaN   \n",
              "\n",
              "title   'Salem's Lot (2004)  'Til There Was You (1997)  'burbs, The (1989)  \\\n",
              "userId                                                                       \n",
              "1.0                     NaN                        NaN                 NaN   \n",
              "2.0                     NaN                        NaN                 NaN   \n",
              "3.0                     NaN                        NaN                 NaN   \n",
              "4.0                     NaN                        NaN                 NaN   \n",
              "5.0                     NaN                        NaN                 NaN   \n",
              "\n",
              "title   'night Mother (1986)  (500) Days of Summer (2009)  \\\n",
              "userId                                                      \n",
              "1.0                      NaN                          NaN   \n",
              "2.0                      NaN                          NaN   \n",
              "3.0                      NaN                          NaN   \n",
              "4.0                      NaN                          NaN   \n",
              "5.0                      NaN                          NaN   \n",
              "\n",
              "title   *batteries not included (1987)  ...All the Marbles (1981)  \\\n",
              "userId                                                              \n",
              "1.0                                NaN                        NaN   \n",
              "2.0                                NaN                        NaN   \n",
              "3.0                                NaN                        NaN   \n",
              "4.0                                NaN                        NaN   \n",
              "5.0                                NaN                        NaN   \n",
              "\n",
              "title   ...And Justice for All (1979)  ...  Zulu (1964)  [REC] (2007)  \\\n",
              "userId                                 ...                              \n",
              "1.0                               NaN  ...          NaN           NaN   \n",
              "2.0                               NaN  ...          NaN           NaN   \n",
              "3.0                               NaN  ...          NaN           NaN   \n",
              "4.0                               NaN  ...          NaN           NaN   \n",
              "5.0                               NaN  ...          NaN           NaN   \n",
              "\n",
              "title   [REC]² (2009)  [REC]³ 3 Génesis (2012)  \\\n",
              "userId                                           \n",
              "1.0               NaN                      NaN   \n",
              "2.0               NaN                      NaN   \n",
              "3.0               NaN                      NaN   \n",
              "4.0               NaN                      NaN   \n",
              "5.0               NaN                      NaN   \n",
              "\n",
              "title   anohana: The Flower We Saw That Day - The Movie (2013)  \\\n",
              "userId                                                           \n",
              "1.0                                                   NaN        \n",
              "2.0                                                   NaN        \n",
              "3.0                                                   NaN        \n",
              "4.0                                                   NaN        \n",
              "5.0                                                   NaN        \n",
              "\n",
              "title   eXistenZ (1999)  xXx (2002)  xXx: State of the Union (2005)  \\\n",
              "userId                                                                \n",
              "1.0                 NaN         NaN                             NaN   \n",
              "2.0                 NaN         NaN                             NaN   \n",
              "3.0                 NaN         NaN                             NaN   \n",
              "4.0                 NaN         NaN                             NaN   \n",
              "5.0                 NaN         NaN                             NaN   \n",
              "\n",
              "title   ¡Three Amigos! (1986)  À nous la liberté (Freedom for Us) (1931)  \n",
              "userId                                                                    \n",
              "1.0                       NaN                                        NaN  \n",
              "2.0                       NaN                                        NaN  \n",
              "3.0                       NaN                                        NaN  \n",
              "4.0                       NaN                                        NaN  \n",
              "5.0                       NaN                                        NaN  \n",
              "\n",
              "[5 rows x 8245 columns]"
            ]
          },
          "execution_count": 36,
          "metadata": {},
          "output_type": "execute_result"
        }
      ],
      "source": [
        "# Create user-movie matrix\n",
        "user_movie_matrix = train.pivot_table(index='userId', columns='title', values='rating')\n",
        "user_movie_matrix.head()"
      ]
    },
    {
      "cell_type": "markdown",
      "metadata": {
        "id": "1cIbpKCohSuW"
      },
      "source": [
        "Here is our beautiful sparse dataset."
      ]
    },
    {
      "cell_type": "code",
      "execution_count": 37,
      "metadata": {
        "id": "FJEk8iGOhSuX"
      },
      "outputs": [],
      "source": [
        "# Fill missing values with 0.\n",
        "user_movie_matrix = user_movie_matrix.fillna(0)"
      ]
    },
    {
      "cell_type": "code",
      "execution_count": 38,
      "metadata": {
        "colab": {
          "base_uri": "https://localhost:8080/",
          "height": 408
        },
        "id": "YnhDk0PmhSuX",
        "outputId": "46cbae05-45ff-4f86-d5bf-8c5c8082a801"
      },
      "outputs": [
        {
          "data": {
            "text/html": [
              "<div>\n",
              "<style scoped>\n",
              "    .dataframe tbody tr th:only-of-type {\n",
              "        vertical-align: middle;\n",
              "    }\n",
              "\n",
              "    .dataframe tbody tr th {\n",
              "        vertical-align: top;\n",
              "    }\n",
              "\n",
              "    .dataframe thead th {\n",
              "        text-align: right;\n",
              "    }\n",
              "</style>\n",
              "<table border=\"1\" class=\"dataframe\">\n",
              "  <thead>\n",
              "    <tr style=\"text-align: right;\">\n",
              "      <th>title</th>\n",
              "      <th>'Hellboy': The Seeds of Creation (2004)</th>\n",
              "      <th>'Round Midnight (1986)</th>\n",
              "      <th>'Salem's Lot (2004)</th>\n",
              "      <th>'Til There Was You (1997)</th>\n",
              "      <th>'burbs, The (1989)</th>\n",
              "      <th>'night Mother (1986)</th>\n",
              "      <th>(500) Days of Summer (2009)</th>\n",
              "      <th>*batteries not included (1987)</th>\n",
              "      <th>...All the Marbles (1981)</th>\n",
              "      <th>...And Justice for All (1979)</th>\n",
              "      <th>...</th>\n",
              "      <th>Zulu (1964)</th>\n",
              "      <th>[REC] (2007)</th>\n",
              "      <th>[REC]² (2009)</th>\n",
              "      <th>[REC]³ 3 Génesis (2012)</th>\n",
              "      <th>anohana: The Flower We Saw That Day - The Movie (2013)</th>\n",
              "      <th>eXistenZ (1999)</th>\n",
              "      <th>xXx (2002)</th>\n",
              "      <th>xXx: State of the Union (2005)</th>\n",
              "      <th>¡Three Amigos! (1986)</th>\n",
              "      <th>À nous la liberté (Freedom for Us) (1931)</th>\n",
              "    </tr>\n",
              "    <tr>\n",
              "      <th>userId</th>\n",
              "      <th></th>\n",
              "      <th></th>\n",
              "      <th></th>\n",
              "      <th></th>\n",
              "      <th></th>\n",
              "      <th></th>\n",
              "      <th></th>\n",
              "      <th></th>\n",
              "      <th></th>\n",
              "      <th></th>\n",
              "      <th></th>\n",
              "      <th></th>\n",
              "      <th></th>\n",
              "      <th></th>\n",
              "      <th></th>\n",
              "      <th></th>\n",
              "      <th></th>\n",
              "      <th></th>\n",
              "      <th></th>\n",
              "      <th></th>\n",
              "      <th></th>\n",
              "    </tr>\n",
              "  </thead>\n",
              "  <tbody>\n",
              "    <tr>\n",
              "      <th>1.0</th>\n",
              "      <td>0.0</td>\n",
              "      <td>0.0</td>\n",
              "      <td>0.0</td>\n",
              "      <td>0.0</td>\n",
              "      <td>0.0</td>\n",
              "      <td>0.0</td>\n",
              "      <td>0.0</td>\n",
              "      <td>0.0</td>\n",
              "      <td>0.0</td>\n",
              "      <td>0.0</td>\n",
              "      <td>...</td>\n",
              "      <td>0.0</td>\n",
              "      <td>0.0</td>\n",
              "      <td>0.0</td>\n",
              "      <td>0.0</td>\n",
              "      <td>0.0</td>\n",
              "      <td>0.0</td>\n",
              "      <td>0.0</td>\n",
              "      <td>0.0</td>\n",
              "      <td>0.0</td>\n",
              "      <td>0.0</td>\n",
              "    </tr>\n",
              "    <tr>\n",
              "      <th>2.0</th>\n",
              "      <td>0.0</td>\n",
              "      <td>0.0</td>\n",
              "      <td>0.0</td>\n",
              "      <td>0.0</td>\n",
              "      <td>0.0</td>\n",
              "      <td>0.0</td>\n",
              "      <td>0.0</td>\n",
              "      <td>0.0</td>\n",
              "      <td>0.0</td>\n",
              "      <td>0.0</td>\n",
              "      <td>...</td>\n",
              "      <td>0.0</td>\n",
              "      <td>0.0</td>\n",
              "      <td>0.0</td>\n",
              "      <td>0.0</td>\n",
              "      <td>0.0</td>\n",
              "      <td>0.0</td>\n",
              "      <td>0.0</td>\n",
              "      <td>0.0</td>\n",
              "      <td>0.0</td>\n",
              "      <td>0.0</td>\n",
              "    </tr>\n",
              "    <tr>\n",
              "      <th>3.0</th>\n",
              "      <td>0.0</td>\n",
              "      <td>0.0</td>\n",
              "      <td>0.0</td>\n",
              "      <td>0.0</td>\n",
              "      <td>0.0</td>\n",
              "      <td>0.0</td>\n",
              "      <td>0.0</td>\n",
              "      <td>0.0</td>\n",
              "      <td>0.0</td>\n",
              "      <td>0.0</td>\n",
              "      <td>...</td>\n",
              "      <td>0.0</td>\n",
              "      <td>0.0</td>\n",
              "      <td>0.0</td>\n",
              "      <td>0.0</td>\n",
              "      <td>0.0</td>\n",
              "      <td>0.0</td>\n",
              "      <td>0.0</td>\n",
              "      <td>0.0</td>\n",
              "      <td>0.0</td>\n",
              "      <td>0.0</td>\n",
              "    </tr>\n",
              "    <tr>\n",
              "      <th>4.0</th>\n",
              "      <td>0.0</td>\n",
              "      <td>0.0</td>\n",
              "      <td>0.0</td>\n",
              "      <td>0.0</td>\n",
              "      <td>0.0</td>\n",
              "      <td>0.0</td>\n",
              "      <td>0.0</td>\n",
              "      <td>0.0</td>\n",
              "      <td>0.0</td>\n",
              "      <td>0.0</td>\n",
              "      <td>...</td>\n",
              "      <td>0.0</td>\n",
              "      <td>0.0</td>\n",
              "      <td>0.0</td>\n",
              "      <td>0.0</td>\n",
              "      <td>0.0</td>\n",
              "      <td>0.0</td>\n",
              "      <td>0.0</td>\n",
              "      <td>0.0</td>\n",
              "      <td>0.0</td>\n",
              "      <td>0.0</td>\n",
              "    </tr>\n",
              "    <tr>\n",
              "      <th>5.0</th>\n",
              "      <td>0.0</td>\n",
              "      <td>0.0</td>\n",
              "      <td>0.0</td>\n",
              "      <td>0.0</td>\n",
              "      <td>0.0</td>\n",
              "      <td>0.0</td>\n",
              "      <td>0.0</td>\n",
              "      <td>0.0</td>\n",
              "      <td>0.0</td>\n",
              "      <td>0.0</td>\n",
              "      <td>...</td>\n",
              "      <td>0.0</td>\n",
              "      <td>0.0</td>\n",
              "      <td>0.0</td>\n",
              "      <td>0.0</td>\n",
              "      <td>0.0</td>\n",
              "      <td>0.0</td>\n",
              "      <td>0.0</td>\n",
              "      <td>0.0</td>\n",
              "      <td>0.0</td>\n",
              "      <td>0.0</td>\n",
              "    </tr>\n",
              "  </tbody>\n",
              "</table>\n",
              "<p>5 rows × 8245 columns</p>\n",
              "</div>"
            ],
            "text/plain": [
              "title   'Hellboy': The Seeds of Creation (2004)  'Round Midnight (1986)  \\\n",
              "userId                                                                    \n",
              "1.0                                         0.0                     0.0   \n",
              "2.0                                         0.0                     0.0   \n",
              "3.0                                         0.0                     0.0   \n",
              "4.0                                         0.0                     0.0   \n",
              "5.0                                         0.0                     0.0   \n",
              "\n",
              "title   'Salem's Lot (2004)  'Til There Was You (1997)  'burbs, The (1989)  \\\n",
              "userId                                                                       \n",
              "1.0                     0.0                        0.0                 0.0   \n",
              "2.0                     0.0                        0.0                 0.0   \n",
              "3.0                     0.0                        0.0                 0.0   \n",
              "4.0                     0.0                        0.0                 0.0   \n",
              "5.0                     0.0                        0.0                 0.0   \n",
              "\n",
              "title   'night Mother (1986)  (500) Days of Summer (2009)  \\\n",
              "userId                                                      \n",
              "1.0                      0.0                          0.0   \n",
              "2.0                      0.0                          0.0   \n",
              "3.0                      0.0                          0.0   \n",
              "4.0                      0.0                          0.0   \n",
              "5.0                      0.0                          0.0   \n",
              "\n",
              "title   *batteries not included (1987)  ...All the Marbles (1981)  \\\n",
              "userId                                                              \n",
              "1.0                                0.0                        0.0   \n",
              "2.0                                0.0                        0.0   \n",
              "3.0                                0.0                        0.0   \n",
              "4.0                                0.0                        0.0   \n",
              "5.0                                0.0                        0.0   \n",
              "\n",
              "title   ...And Justice for All (1979)  ...  Zulu (1964)  [REC] (2007)  \\\n",
              "userId                                 ...                              \n",
              "1.0                               0.0  ...          0.0           0.0   \n",
              "2.0                               0.0  ...          0.0           0.0   \n",
              "3.0                               0.0  ...          0.0           0.0   \n",
              "4.0                               0.0  ...          0.0           0.0   \n",
              "5.0                               0.0  ...          0.0           0.0   \n",
              "\n",
              "title   [REC]² (2009)  [REC]³ 3 Génesis (2012)  \\\n",
              "userId                                           \n",
              "1.0               0.0                      0.0   \n",
              "2.0               0.0                      0.0   \n",
              "3.0               0.0                      0.0   \n",
              "4.0               0.0                      0.0   \n",
              "5.0               0.0                      0.0   \n",
              "\n",
              "title   anohana: The Flower We Saw That Day - The Movie (2013)  \\\n",
              "userId                                                           \n",
              "1.0                                                   0.0        \n",
              "2.0                                                   0.0        \n",
              "3.0                                                   0.0        \n",
              "4.0                                                   0.0        \n",
              "5.0                                                   0.0        \n",
              "\n",
              "title   eXistenZ (1999)  xXx (2002)  xXx: State of the Union (2005)  \\\n",
              "userId                                                                \n",
              "1.0                 0.0         0.0                             0.0   \n",
              "2.0                 0.0         0.0                             0.0   \n",
              "3.0                 0.0         0.0                             0.0   \n",
              "4.0                 0.0         0.0                             0.0   \n",
              "5.0                 0.0         0.0                             0.0   \n",
              "\n",
              "title   ¡Three Amigos! (1986)  À nous la liberté (Freedom for Us) (1931)  \n",
              "userId                                                                    \n",
              "1.0                       0.0                                        0.0  \n",
              "2.0                       0.0                                        0.0  \n",
              "3.0                       0.0                                        0.0  \n",
              "4.0                       0.0                                        0.0  \n",
              "5.0                       0.0                                        0.0  \n",
              "\n",
              "[5 rows x 8245 columns]"
            ]
          },
          "execution_count": 38,
          "metadata": {},
          "output_type": "execute_result"
        }
      ],
      "source": [
        "user_movie_matrix.head()"
      ]
    },
    {
      "cell_type": "markdown",
      "metadata": {
        "id": "v1wFwP9WhSuX"
      },
      "source": [
        "#### 5.4 Calculate user cosine similarity based on the interactions on our train data:"
      ]
    },
    {
      "cell_type": "code",
      "execution_count": 39,
      "metadata": {
        "id": "gT-15DfchSuX"
      },
      "outputs": [],
      "source": [
        "# Compute cosine similarity\n",
        "user_similarity = cosine_similarity(user_movie_matrix)"
      ]
    },
    {
      "cell_type": "code",
      "execution_count": 40,
      "metadata": {
        "colab": {
          "base_uri": "https://localhost:8080/"
        },
        "id": "vl3b-t8rhSuX",
        "outputId": "a393b144-e6af-4a7a-9f23-fd2225b07d82"
      },
      "outputs": [
        {
          "data": {
            "text/plain": [
              "(610, 610)"
            ]
          },
          "execution_count": 40,
          "metadata": {},
          "output_type": "execute_result"
        }
      ],
      "source": [
        "user_similarity.shape"
      ]
    },
    {
      "cell_type": "code",
      "execution_count": 41,
      "metadata": {
        "colab": {
          "base_uri": "https://localhost:8080/",
          "height": 287
        },
        "id": "MnopcOY7hSuX",
        "outputId": "59ff381a-7623-4593-a7cd-a8503fe3961b"
      },
      "outputs": [
        {
          "data": {
            "text/html": [
              "<div>\n",
              "<style scoped>\n",
              "    .dataframe tbody tr th:only-of-type {\n",
              "        vertical-align: middle;\n",
              "    }\n",
              "\n",
              "    .dataframe tbody tr th {\n",
              "        vertical-align: top;\n",
              "    }\n",
              "\n",
              "    .dataframe thead th {\n",
              "        text-align: right;\n",
              "    }\n",
              "</style>\n",
              "<table border=\"1\" class=\"dataframe\">\n",
              "  <thead>\n",
              "    <tr style=\"text-align: right;\">\n",
              "      <th>userId</th>\n",
              "      <th>1.0</th>\n",
              "      <th>2.0</th>\n",
              "      <th>3.0</th>\n",
              "      <th>4.0</th>\n",
              "      <th>5.0</th>\n",
              "      <th>6.0</th>\n",
              "      <th>7.0</th>\n",
              "      <th>8.0</th>\n",
              "      <th>9.0</th>\n",
              "      <th>10.0</th>\n",
              "      <th>...</th>\n",
              "      <th>601.0</th>\n",
              "      <th>602.0</th>\n",
              "      <th>603.0</th>\n",
              "      <th>604.0</th>\n",
              "      <th>605.0</th>\n",
              "      <th>606.0</th>\n",
              "      <th>607.0</th>\n",
              "      <th>608.0</th>\n",
              "      <th>609.0</th>\n",
              "      <th>610.0</th>\n",
              "    </tr>\n",
              "    <tr>\n",
              "      <th>userId</th>\n",
              "      <th></th>\n",
              "      <th></th>\n",
              "      <th></th>\n",
              "      <th></th>\n",
              "      <th></th>\n",
              "      <th></th>\n",
              "      <th></th>\n",
              "      <th></th>\n",
              "      <th></th>\n",
              "      <th></th>\n",
              "      <th></th>\n",
              "      <th></th>\n",
              "      <th></th>\n",
              "      <th></th>\n",
              "      <th></th>\n",
              "      <th></th>\n",
              "      <th></th>\n",
              "      <th></th>\n",
              "      <th></th>\n",
              "      <th></th>\n",
              "      <th></th>\n",
              "    </tr>\n",
              "  </thead>\n",
              "  <tbody>\n",
              "    <tr>\n",
              "      <th>1.0</th>\n",
              "      <td>1.000000</td>\n",
              "      <td>0.034123</td>\n",
              "      <td>0.062759</td>\n",
              "      <td>0.170851</td>\n",
              "      <td>0.142020</td>\n",
              "      <td>0.107125</td>\n",
              "      <td>0.145436</td>\n",
              "      <td>0.116805</td>\n",
              "      <td>0.045134</td>\n",
              "      <td>0.020689</td>\n",
              "      <td>...</td>\n",
              "      <td>0.058068</td>\n",
              "      <td>0.127225</td>\n",
              "      <td>0.208391</td>\n",
              "      <td>0.054297</td>\n",
              "      <td>0.135443</td>\n",
              "      <td>0.131656</td>\n",
              "      <td>0.176777</td>\n",
              "      <td>0.282887</td>\n",
              "      <td>0.116314</td>\n",
              "      <td>0.112031</td>\n",
              "    </tr>\n",
              "    <tr>\n",
              "      <th>2.0</th>\n",
              "      <td>0.034123</td>\n",
              "      <td>1.000000</td>\n",
              "      <td>0.000000</td>\n",
              "      <td>0.000000</td>\n",
              "      <td>0.020661</td>\n",
              "      <td>0.031275</td>\n",
              "      <td>0.028115</td>\n",
              "      <td>0.033740</td>\n",
              "      <td>0.000000</td>\n",
              "      <td>0.082738</td>\n",
              "      <td>...</td>\n",
              "      <td>0.198635</td>\n",
              "      <td>0.020601</td>\n",
              "      <td>0.008051</td>\n",
              "      <td>0.000000</td>\n",
              "      <td>0.000000</td>\n",
              "      <td>0.019353</td>\n",
              "      <td>0.015939</td>\n",
              "      <td>0.019735</td>\n",
              "      <td>0.034286</td>\n",
              "      <td>0.108517</td>\n",
              "    </tr>\n",
              "    <tr>\n",
              "      <th>3.0</th>\n",
              "      <td>0.062759</td>\n",
              "      <td>0.000000</td>\n",
              "      <td>1.000000</td>\n",
              "      <td>0.002473</td>\n",
              "      <td>0.000000</td>\n",
              "      <td>0.003047</td>\n",
              "      <td>0.000000</td>\n",
              "      <td>0.000000</td>\n",
              "      <td>0.000000</td>\n",
              "      <td>0.000000</td>\n",
              "      <td>...</td>\n",
              "      <td>0.002477</td>\n",
              "      <td>0.002007</td>\n",
              "      <td>0.025741</td>\n",
              "      <td>0.000000</td>\n",
              "      <td>0.011621</td>\n",
              "      <td>0.011647</td>\n",
              "      <td>0.017084</td>\n",
              "      <td>0.021483</td>\n",
              "      <td>0.000000</td>\n",
              "      <td>0.024963</td>\n",
              "    </tr>\n",
              "    <tr>\n",
              "      <th>4.0</th>\n",
              "      <td>0.170851</td>\n",
              "      <td>0.000000</td>\n",
              "      <td>0.002473</td>\n",
              "      <td>1.000000</td>\n",
              "      <td>0.111219</td>\n",
              "      <td>0.088288</td>\n",
              "      <td>0.122046</td>\n",
              "      <td>0.048053</td>\n",
              "      <td>0.012995</td>\n",
              "      <td>0.030122</td>\n",
              "      <td>...</td>\n",
              "      <td>0.049224</td>\n",
              "      <td>0.089589</td>\n",
              "      <td>0.296571</td>\n",
              "      <td>0.058345</td>\n",
              "      <td>0.076479</td>\n",
              "      <td>0.187605</td>\n",
              "      <td>0.103367</td>\n",
              "      <td>0.120456</td>\n",
              "      <td>0.026159</td>\n",
              "      <td>0.063168</td>\n",
              "    </tr>\n",
              "    <tr>\n",
              "      <th>5.0</th>\n",
              "      <td>0.142020</td>\n",
              "      <td>0.020661</td>\n",
              "      <td>0.000000</td>\n",
              "      <td>0.111219</td>\n",
              "      <td>1.000000</td>\n",
              "      <td>0.331440</td>\n",
              "      <td>0.129899</td>\n",
              "      <td>0.508350</td>\n",
              "      <td>0.000000</td>\n",
              "      <td>0.037313</td>\n",
              "      <td>...</td>\n",
              "      <td>0.065795</td>\n",
              "      <td>0.382643</td>\n",
              "      <td>0.115021</td>\n",
              "      <td>0.262439</td>\n",
              "      <td>0.179301</td>\n",
              "      <td>0.099178</td>\n",
              "      <td>0.152154</td>\n",
              "      <td>0.146825</td>\n",
              "      <td>0.322862</td>\n",
              "      <td>0.074561</td>\n",
              "    </tr>\n",
              "  </tbody>\n",
              "</table>\n",
              "<p>5 rows × 610 columns</p>\n",
              "</div>"
            ],
            "text/plain": [
              "userId     1.0       2.0       3.0       4.0       5.0       6.0       7.0    \\\n",
              "userId                                                                         \n",
              "1.0     1.000000  0.034123  0.062759  0.170851  0.142020  0.107125  0.145436   \n",
              "2.0     0.034123  1.000000  0.000000  0.000000  0.020661  0.031275  0.028115   \n",
              "3.0     0.062759  0.000000  1.000000  0.002473  0.000000  0.003047  0.000000   \n",
              "4.0     0.170851  0.000000  0.002473  1.000000  0.111219  0.088288  0.122046   \n",
              "5.0     0.142020  0.020661  0.000000  0.111219  1.000000  0.331440  0.129899   \n",
              "\n",
              "userId     8.0       9.0       10.0   ...     601.0     602.0     603.0  \\\n",
              "userId                                ...                                 \n",
              "1.0     0.116805  0.045134  0.020689  ...  0.058068  0.127225  0.208391   \n",
              "2.0     0.033740  0.000000  0.082738  ...  0.198635  0.020601  0.008051   \n",
              "3.0     0.000000  0.000000  0.000000  ...  0.002477  0.002007  0.025741   \n",
              "4.0     0.048053  0.012995  0.030122  ...  0.049224  0.089589  0.296571   \n",
              "5.0     0.508350  0.000000  0.037313  ...  0.065795  0.382643  0.115021   \n",
              "\n",
              "userId     604.0     605.0     606.0     607.0     608.0     609.0     610.0  \n",
              "userId                                                                        \n",
              "1.0     0.054297  0.135443  0.131656  0.176777  0.282887  0.116314  0.112031  \n",
              "2.0     0.000000  0.000000  0.019353  0.015939  0.019735  0.034286  0.108517  \n",
              "3.0     0.000000  0.011621  0.011647  0.017084  0.021483  0.000000  0.024963  \n",
              "4.0     0.058345  0.076479  0.187605  0.103367  0.120456  0.026159  0.063168  \n",
              "5.0     0.262439  0.179301  0.099178  0.152154  0.146825  0.322862  0.074561  \n",
              "\n",
              "[5 rows x 610 columns]"
            ]
          },
          "execution_count": 41,
          "metadata": {},
          "output_type": "execute_result"
        }
      ],
      "source": [
        "user_similarity_df = pd.DataFrame(user_similarity, index=user_movie_matrix.index, columns=user_movie_matrix.index)\n",
        "\n",
        "# Display the first 5 rows of the similarity matrix\n",
        "user_similarity_df.head()"
      ]
    },
    {
      "cell_type": "markdown",
      "metadata": {
        "id": "p1MrflLvhSuY"
      },
      "source": [
        "### 6. Build User-based collaborative filtering:"
      ]
    },
    {
      "cell_type": "markdown",
      "metadata": {
        "id": "Y4kSREeXhSuY"
      },
      "source": [
        "#### 6.1 Dev Function:\n",
        "this implementation for this function is missy because I am trying to evaluate the logic of my function you will get the cleaner version below."
      ]
    },
    {
      "cell_type": "code",
      "execution_count": 42,
      "metadata": {
        "colab": {
          "base_uri": "https://localhost:8080/",
          "height": 1000
        },
        "id": "W7jslr7ehSuY",
        "outputId": "43c960c0-a2ef-4e3a-f6e1-753f83852cd9"
      },
      "outputs": [
        {
          "name": "stdout",
          "output_type": "stream",
          "text": [
            "similar users Index([217.0, 577.0, 288.0, 45.0, 57.0], dtype='float64', name='userId')\n"
          ]
        },
        {
          "data": {
            "text/plain": [
              "'movies rated by similar users '"
            ]
          },
          "metadata": {},
          "output_type": "display_data"
        },
        {
          "data": {
            "text/html": [
              "<div>\n",
              "<style scoped>\n",
              "    .dataframe tbody tr th:only-of-type {\n",
              "        vertical-align: middle;\n",
              "    }\n",
              "\n",
              "    .dataframe tbody tr th {\n",
              "        vertical-align: top;\n",
              "    }\n",
              "\n",
              "    .dataframe thead th {\n",
              "        text-align: right;\n",
              "    }\n",
              "</style>\n",
              "<table border=\"1\" class=\"dataframe\">\n",
              "  <thead>\n",
              "    <tr style=\"text-align: right;\">\n",
              "      <th>title</th>\n",
              "      <th>'Hellboy': The Seeds of Creation (2004)</th>\n",
              "      <th>'Round Midnight (1986)</th>\n",
              "      <th>'Salem's Lot (2004)</th>\n",
              "      <th>'Til There Was You (1997)</th>\n",
              "      <th>'burbs, The (1989)</th>\n",
              "      <th>'night Mother (1986)</th>\n",
              "      <th>(500) Days of Summer (2009)</th>\n",
              "      <th>*batteries not included (1987)</th>\n",
              "      <th>...All the Marbles (1981)</th>\n",
              "      <th>...And Justice for All (1979)</th>\n",
              "      <th>...</th>\n",
              "      <th>Zulu (1964)</th>\n",
              "      <th>[REC] (2007)</th>\n",
              "      <th>[REC]² (2009)</th>\n",
              "      <th>[REC]³ 3 Génesis (2012)</th>\n",
              "      <th>anohana: The Flower We Saw That Day - The Movie (2013)</th>\n",
              "      <th>eXistenZ (1999)</th>\n",
              "      <th>xXx (2002)</th>\n",
              "      <th>xXx: State of the Union (2005)</th>\n",
              "      <th>¡Three Amigos! (1986)</th>\n",
              "      <th>À nous la liberté (Freedom for Us) (1931)</th>\n",
              "    </tr>\n",
              "    <tr>\n",
              "      <th>userId</th>\n",
              "      <th></th>\n",
              "      <th></th>\n",
              "      <th></th>\n",
              "      <th></th>\n",
              "      <th></th>\n",
              "      <th></th>\n",
              "      <th></th>\n",
              "      <th></th>\n",
              "      <th></th>\n",
              "      <th></th>\n",
              "      <th></th>\n",
              "      <th></th>\n",
              "      <th></th>\n",
              "      <th></th>\n",
              "      <th></th>\n",
              "      <th></th>\n",
              "      <th></th>\n",
              "      <th></th>\n",
              "      <th></th>\n",
              "      <th></th>\n",
              "      <th></th>\n",
              "    </tr>\n",
              "  </thead>\n",
              "  <tbody>\n",
              "    <tr>\n",
              "      <th>217.0</th>\n",
              "      <td>0.0</td>\n",
              "      <td>0.0</td>\n",
              "      <td>0.0</td>\n",
              "      <td>0.0</td>\n",
              "      <td>0.0</td>\n",
              "      <td>0.0</td>\n",
              "      <td>0.0</td>\n",
              "      <td>0.0</td>\n",
              "      <td>0.0</td>\n",
              "      <td>0.0</td>\n",
              "      <td>...</td>\n",
              "      <td>0.0</td>\n",
              "      <td>0.0</td>\n",
              "      <td>0.0</td>\n",
              "      <td>0.0</td>\n",
              "      <td>0.0</td>\n",
              "      <td>0.0</td>\n",
              "      <td>0.0</td>\n",
              "      <td>0.0</td>\n",
              "      <td>0.0</td>\n",
              "      <td>0.0</td>\n",
              "    </tr>\n",
              "    <tr>\n",
              "      <th>577.0</th>\n",
              "      <td>0.0</td>\n",
              "      <td>0.0</td>\n",
              "      <td>0.0</td>\n",
              "      <td>0.0</td>\n",
              "      <td>0.0</td>\n",
              "      <td>0.0</td>\n",
              "      <td>0.0</td>\n",
              "      <td>0.0</td>\n",
              "      <td>0.0</td>\n",
              "      <td>0.0</td>\n",
              "      <td>...</td>\n",
              "      <td>0.0</td>\n",
              "      <td>0.0</td>\n",
              "      <td>0.0</td>\n",
              "      <td>0.0</td>\n",
              "      <td>0.0</td>\n",
              "      <td>0.0</td>\n",
              "      <td>0.0</td>\n",
              "      <td>0.0</td>\n",
              "      <td>0.0</td>\n",
              "      <td>0.0</td>\n",
              "    </tr>\n",
              "    <tr>\n",
              "      <th>288.0</th>\n",
              "      <td>0.0</td>\n",
              "      <td>0.0</td>\n",
              "      <td>0.0</td>\n",
              "      <td>0.0</td>\n",
              "      <td>3.0</td>\n",
              "      <td>0.0</td>\n",
              "      <td>0.0</td>\n",
              "      <td>0.0</td>\n",
              "      <td>0.0</td>\n",
              "      <td>0.0</td>\n",
              "      <td>...</td>\n",
              "      <td>0.0</td>\n",
              "      <td>0.0</td>\n",
              "      <td>0.0</td>\n",
              "      <td>0.0</td>\n",
              "      <td>0.0</td>\n",
              "      <td>0.0</td>\n",
              "      <td>0.0</td>\n",
              "      <td>0.0</td>\n",
              "      <td>0.0</td>\n",
              "      <td>0.0</td>\n",
              "    </tr>\n",
              "    <tr>\n",
              "      <th>45.0</th>\n",
              "      <td>0.0</td>\n",
              "      <td>0.0</td>\n",
              "      <td>0.0</td>\n",
              "      <td>0.0</td>\n",
              "      <td>0.0</td>\n",
              "      <td>0.0</td>\n",
              "      <td>0.0</td>\n",
              "      <td>0.0</td>\n",
              "      <td>0.0</td>\n",
              "      <td>0.0</td>\n",
              "      <td>...</td>\n",
              "      <td>0.0</td>\n",
              "      <td>0.0</td>\n",
              "      <td>0.0</td>\n",
              "      <td>0.0</td>\n",
              "      <td>0.0</td>\n",
              "      <td>0.0</td>\n",
              "      <td>0.0</td>\n",
              "      <td>0.0</td>\n",
              "      <td>0.0</td>\n",
              "      <td>0.0</td>\n",
              "    </tr>\n",
              "    <tr>\n",
              "      <th>57.0</th>\n",
              "      <td>0.0</td>\n",
              "      <td>0.0</td>\n",
              "      <td>0.0</td>\n",
              "      <td>0.0</td>\n",
              "      <td>0.0</td>\n",
              "      <td>0.0</td>\n",
              "      <td>0.0</td>\n",
              "      <td>0.0</td>\n",
              "      <td>0.0</td>\n",
              "      <td>0.0</td>\n",
              "      <td>...</td>\n",
              "      <td>0.0</td>\n",
              "      <td>0.0</td>\n",
              "      <td>0.0</td>\n",
              "      <td>0.0</td>\n",
              "      <td>0.0</td>\n",
              "      <td>0.0</td>\n",
              "      <td>0.0</td>\n",
              "      <td>0.0</td>\n",
              "      <td>2.0</td>\n",
              "      <td>0.0</td>\n",
              "    </tr>\n",
              "  </tbody>\n",
              "</table>\n",
              "<p>5 rows × 8245 columns</p>\n",
              "</div>"
            ],
            "text/plain": [
              "title   'Hellboy': The Seeds of Creation (2004)  'Round Midnight (1986)  \\\n",
              "userId                                                                    \n",
              "217.0                                       0.0                     0.0   \n",
              "577.0                                       0.0                     0.0   \n",
              "288.0                                       0.0                     0.0   \n",
              "45.0                                        0.0                     0.0   \n",
              "57.0                                        0.0                     0.0   \n",
              "\n",
              "title   'Salem's Lot (2004)  'Til There Was You (1997)  'burbs, The (1989)  \\\n",
              "userId                                                                       \n",
              "217.0                   0.0                        0.0                 0.0   \n",
              "577.0                   0.0                        0.0                 0.0   \n",
              "288.0                   0.0                        0.0                 3.0   \n",
              "45.0                    0.0                        0.0                 0.0   \n",
              "57.0                    0.0                        0.0                 0.0   \n",
              "\n",
              "title   'night Mother (1986)  (500) Days of Summer (2009)  \\\n",
              "userId                                                      \n",
              "217.0                    0.0                          0.0   \n",
              "577.0                    0.0                          0.0   \n",
              "288.0                    0.0                          0.0   \n",
              "45.0                     0.0                          0.0   \n",
              "57.0                     0.0                          0.0   \n",
              "\n",
              "title   *batteries not included (1987)  ...All the Marbles (1981)  \\\n",
              "userId                                                              \n",
              "217.0                              0.0                        0.0   \n",
              "577.0                              0.0                        0.0   \n",
              "288.0                              0.0                        0.0   \n",
              "45.0                               0.0                        0.0   \n",
              "57.0                               0.0                        0.0   \n",
              "\n",
              "title   ...And Justice for All (1979)  ...  Zulu (1964)  [REC] (2007)  \\\n",
              "userId                                 ...                              \n",
              "217.0                             0.0  ...          0.0           0.0   \n",
              "577.0                             0.0  ...          0.0           0.0   \n",
              "288.0                             0.0  ...          0.0           0.0   \n",
              "45.0                              0.0  ...          0.0           0.0   \n",
              "57.0                              0.0  ...          0.0           0.0   \n",
              "\n",
              "title   [REC]² (2009)  [REC]³ 3 Génesis (2012)  \\\n",
              "userId                                           \n",
              "217.0             0.0                      0.0   \n",
              "577.0             0.0                      0.0   \n",
              "288.0             0.0                      0.0   \n",
              "45.0              0.0                      0.0   \n",
              "57.0              0.0                      0.0   \n",
              "\n",
              "title   anohana: The Flower We Saw That Day - The Movie (2013)  \\\n",
              "userId                                                           \n",
              "217.0                                                 0.0        \n",
              "577.0                                                 0.0        \n",
              "288.0                                                 0.0        \n",
              "45.0                                                  0.0        \n",
              "57.0                                                  0.0        \n",
              "\n",
              "title   eXistenZ (1999)  xXx (2002)  xXx: State of the Union (2005)  \\\n",
              "userId                                                                \n",
              "217.0               0.0         0.0                             0.0   \n",
              "577.0               0.0         0.0                             0.0   \n",
              "288.0               0.0         0.0                             0.0   \n",
              "45.0                0.0         0.0                             0.0   \n",
              "57.0                0.0         0.0                             0.0   \n",
              "\n",
              "title   ¡Three Amigos! (1986)  À nous la liberté (Freedom for Us) (1931)  \n",
              "userId                                                                    \n",
              "217.0                     0.0                                        0.0  \n",
              "577.0                     0.0                                        0.0  \n",
              "288.0                     0.0                                        0.0  \n",
              "45.0                      0.0                                        0.0  \n",
              "57.0                      2.0                                        0.0  \n",
              "\n",
              "[5 rows x 8245 columns]"
            ]
          },
          "metadata": {},
          "output_type": "display_data"
        },
        {
          "data": {
            "text/plain": [
              "'movies rated by at least one of the top 5 similar users'"
            ]
          },
          "metadata": {},
          "output_type": "display_data"
        },
        {
          "data": {
            "text/html": [
              "<div>\n",
              "<style scoped>\n",
              "    .dataframe tbody tr th:only-of-type {\n",
              "        vertical-align: middle;\n",
              "    }\n",
              "\n",
              "    .dataframe tbody tr th {\n",
              "        vertical-align: top;\n",
              "    }\n",
              "\n",
              "    .dataframe thead th {\n",
              "        text-align: right;\n",
              "    }\n",
              "</style>\n",
              "<table border=\"1\" class=\"dataframe\">\n",
              "  <thead>\n",
              "    <tr style=\"text-align: right;\">\n",
              "      <th>title</th>\n",
              "      <th>'burbs, The (1989)</th>\n",
              "      <th>101 Dalmatians (1996)</th>\n",
              "      <th>101 Dalmatians (One Hundred and One Dalmatians) (1961)</th>\n",
              "      <th>12 Angry Men (1957)</th>\n",
              "      <th>1984 (Nineteen Eighty-Four) (1984)</th>\n",
              "      <th>20 Dates (1998)</th>\n",
              "      <th>20,000 Leagues Under the Sea (1954)</th>\n",
              "      <th>200 Cigarettes (1999)</th>\n",
              "      <th>2001: A Space Odyssey (1968)</th>\n",
              "      <th>2010: The Year We Make Contact (1984)</th>\n",
              "      <th>...</th>\n",
              "      <th>Yellow Submarine (1968)</th>\n",
              "      <th>Yojimbo (1961)</th>\n",
              "      <th>You Can't Take It with You (1938)</th>\n",
              "      <th>You've Got Mail (1998)</th>\n",
              "      <th>Young Frankenstein (1974)</th>\n",
              "      <th>Young Guns (1988)</th>\n",
              "      <th>Young Guns II (1990)</th>\n",
              "      <th>Young Sherlock Holmes (1985)</th>\n",
              "      <th>Zoolander (2001)</th>\n",
              "      <th>¡Three Amigos! (1986)</th>\n",
              "    </tr>\n",
              "    <tr>\n",
              "      <th>userId</th>\n",
              "      <th></th>\n",
              "      <th></th>\n",
              "      <th></th>\n",
              "      <th></th>\n",
              "      <th></th>\n",
              "      <th></th>\n",
              "      <th></th>\n",
              "      <th></th>\n",
              "      <th></th>\n",
              "      <th></th>\n",
              "      <th></th>\n",
              "      <th></th>\n",
              "      <th></th>\n",
              "      <th></th>\n",
              "      <th></th>\n",
              "      <th></th>\n",
              "      <th></th>\n",
              "      <th></th>\n",
              "      <th></th>\n",
              "      <th></th>\n",
              "      <th></th>\n",
              "    </tr>\n",
              "  </thead>\n",
              "  <tbody>\n",
              "    <tr>\n",
              "      <th>217.0</th>\n",
              "      <td>0.0</td>\n",
              "      <td>0.0</td>\n",
              "      <td>3.0</td>\n",
              "      <td>0.0</td>\n",
              "      <td>0.0</td>\n",
              "      <td>0.0</td>\n",
              "      <td>3.0</td>\n",
              "      <td>0.0</td>\n",
              "      <td>0.0</td>\n",
              "      <td>0.0</td>\n",
              "      <td>...</td>\n",
              "      <td>0.0</td>\n",
              "      <td>0.0</td>\n",
              "      <td>0.0</td>\n",
              "      <td>3.0</td>\n",
              "      <td>3.0</td>\n",
              "      <td>0.0</td>\n",
              "      <td>0.0</td>\n",
              "      <td>4.0</td>\n",
              "      <td>0.0</td>\n",
              "      <td>0.0</td>\n",
              "    </tr>\n",
              "    <tr>\n",
              "      <th>577.0</th>\n",
              "      <td>0.0</td>\n",
              "      <td>0.0</td>\n",
              "      <td>0.0</td>\n",
              "      <td>4.0</td>\n",
              "      <td>3.0</td>\n",
              "      <td>0.0</td>\n",
              "      <td>4.0</td>\n",
              "      <td>0.0</td>\n",
              "      <td>3.0</td>\n",
              "      <td>0.0</td>\n",
              "      <td>...</td>\n",
              "      <td>0.0</td>\n",
              "      <td>0.0</td>\n",
              "      <td>0.0</td>\n",
              "      <td>0.0</td>\n",
              "      <td>0.0</td>\n",
              "      <td>0.0</td>\n",
              "      <td>0.0</td>\n",
              "      <td>0.0</td>\n",
              "      <td>0.0</td>\n",
              "      <td>0.0</td>\n",
              "    </tr>\n",
              "    <tr>\n",
              "      <th>288.0</th>\n",
              "      <td>3.0</td>\n",
              "      <td>3.0</td>\n",
              "      <td>3.0</td>\n",
              "      <td>0.0</td>\n",
              "      <td>2.0</td>\n",
              "      <td>0.0</td>\n",
              "      <td>3.0</td>\n",
              "      <td>0.0</td>\n",
              "      <td>5.0</td>\n",
              "      <td>3.0</td>\n",
              "      <td>...</td>\n",
              "      <td>3.0</td>\n",
              "      <td>0.0</td>\n",
              "      <td>0.0</td>\n",
              "      <td>3.0</td>\n",
              "      <td>4.0</td>\n",
              "      <td>0.0</td>\n",
              "      <td>0.0</td>\n",
              "      <td>3.0</td>\n",
              "      <td>3.0</td>\n",
              "      <td>0.0</td>\n",
              "    </tr>\n",
              "    <tr>\n",
              "      <th>45.0</th>\n",
              "      <td>0.0</td>\n",
              "      <td>3.0</td>\n",
              "      <td>0.0</td>\n",
              "      <td>0.0</td>\n",
              "      <td>0.0</td>\n",
              "      <td>4.0</td>\n",
              "      <td>0.0</td>\n",
              "      <td>4.0</td>\n",
              "      <td>4.0</td>\n",
              "      <td>4.0</td>\n",
              "      <td>...</td>\n",
              "      <td>0.0</td>\n",
              "      <td>0.0</td>\n",
              "      <td>3.0</td>\n",
              "      <td>0.0</td>\n",
              "      <td>0.0</td>\n",
              "      <td>0.0</td>\n",
              "      <td>0.0</td>\n",
              "      <td>0.0</td>\n",
              "      <td>0.0</td>\n",
              "      <td>0.0</td>\n",
              "    </tr>\n",
              "    <tr>\n",
              "      <th>57.0</th>\n",
              "      <td>0.0</td>\n",
              "      <td>0.0</td>\n",
              "      <td>0.0</td>\n",
              "      <td>0.0</td>\n",
              "      <td>0.0</td>\n",
              "      <td>0.0</td>\n",
              "      <td>0.0</td>\n",
              "      <td>0.0</td>\n",
              "      <td>5.0</td>\n",
              "      <td>4.0</td>\n",
              "      <td>...</td>\n",
              "      <td>0.0</td>\n",
              "      <td>5.0</td>\n",
              "      <td>0.0</td>\n",
              "      <td>0.0</td>\n",
              "      <td>4.0</td>\n",
              "      <td>3.0</td>\n",
              "      <td>2.0</td>\n",
              "      <td>0.0</td>\n",
              "      <td>0.0</td>\n",
              "      <td>2.0</td>\n",
              "    </tr>\n",
              "  </tbody>\n",
              "</table>\n",
              "<p>5 rows × 1311 columns</p>\n",
              "</div>"
            ],
            "text/plain": [
              "title   'burbs, The (1989)  101 Dalmatians (1996)  \\\n",
              "userId                                              \n",
              "217.0                  0.0                    0.0   \n",
              "577.0                  0.0                    0.0   \n",
              "288.0                  3.0                    3.0   \n",
              "45.0                   0.0                    3.0   \n",
              "57.0                   0.0                    0.0   \n",
              "\n",
              "title   101 Dalmatians (One Hundred and One Dalmatians) (1961)  \\\n",
              "userId                                                           \n",
              "217.0                                                 3.0        \n",
              "577.0                                                 0.0        \n",
              "288.0                                                 3.0        \n",
              "45.0                                                  0.0        \n",
              "57.0                                                  0.0        \n",
              "\n",
              "title   12 Angry Men (1957)  1984 (Nineteen Eighty-Four) (1984)  \\\n",
              "userId                                                            \n",
              "217.0                   0.0                                 0.0   \n",
              "577.0                   4.0                                 3.0   \n",
              "288.0                   0.0                                 2.0   \n",
              "45.0                    0.0                                 0.0   \n",
              "57.0                    0.0                                 0.0   \n",
              "\n",
              "title   20 Dates (1998)  20,000 Leagues Under the Sea (1954)  \\\n",
              "userId                                                         \n",
              "217.0               0.0                                  3.0   \n",
              "577.0               0.0                                  4.0   \n",
              "288.0               0.0                                  3.0   \n",
              "45.0                4.0                                  0.0   \n",
              "57.0                0.0                                  0.0   \n",
              "\n",
              "title   200 Cigarettes (1999)  2001: A Space Odyssey (1968)  \\\n",
              "userId                                                        \n",
              "217.0                     0.0                           0.0   \n",
              "577.0                     0.0                           3.0   \n",
              "288.0                     0.0                           5.0   \n",
              "45.0                      4.0                           4.0   \n",
              "57.0                      0.0                           5.0   \n",
              "\n",
              "title   2010: The Year We Make Contact (1984)  ...  Yellow Submarine (1968)  \\\n",
              "userId                                         ...                            \n",
              "217.0                                     0.0  ...                      0.0   \n",
              "577.0                                     0.0  ...                      0.0   \n",
              "288.0                                     3.0  ...                      3.0   \n",
              "45.0                                      4.0  ...                      0.0   \n",
              "57.0                                      4.0  ...                      0.0   \n",
              "\n",
              "title   Yojimbo (1961)  You Can't Take It with You (1938)  \\\n",
              "userId                                                      \n",
              "217.0              0.0                                0.0   \n",
              "577.0              0.0                                0.0   \n",
              "288.0              0.0                                0.0   \n",
              "45.0               0.0                                3.0   \n",
              "57.0               5.0                                0.0   \n",
              "\n",
              "title   You've Got Mail (1998)  Young Frankenstein (1974)  Young Guns (1988)  \\\n",
              "userId                                                                         \n",
              "217.0                      3.0                        3.0                0.0   \n",
              "577.0                      0.0                        0.0                0.0   \n",
              "288.0                      3.0                        4.0                0.0   \n",
              "45.0                       0.0                        0.0                0.0   \n",
              "57.0                       0.0                        4.0                3.0   \n",
              "\n",
              "title   Young Guns II (1990)  Young Sherlock Holmes (1985)  Zoolander (2001)  \\\n",
              "userId                                                                         \n",
              "217.0                    0.0                           4.0               0.0   \n",
              "577.0                    0.0                           0.0               0.0   \n",
              "288.0                    0.0                           3.0               3.0   \n",
              "45.0                     0.0                           0.0               0.0   \n",
              "57.0                     2.0                           0.0               0.0   \n",
              "\n",
              "title   ¡Three Amigos! (1986)  \n",
              "userId                         \n",
              "217.0                     0.0  \n",
              "577.0                     0.0  \n",
              "288.0                     0.0  \n",
              "45.0                      0.0  \n",
              "57.0                      2.0  \n",
              "\n",
              "[5 rows x 1311 columns]"
            ]
          },
          "metadata": {},
          "output_type": "display_data"
        },
        {
          "name": "stdout",
          "output_type": "stream",
          "text": [
            "Number of unseen movies 8059\n",
            "Number of unseen movies and seened by at least one similer user 1145\n"
          ]
        },
        {
          "data": {
            "text/plain": [
              "'w r before'"
            ]
          },
          "metadata": {},
          "output_type": "display_data"
        },
        {
          "data": {
            "text/plain": [
              "title\n",
              "'burbs, The (1989)                                        0\n",
              "101 Dalmatians (1996)                                     0\n",
              "101 Dalmatians (One Hundred and One Dalmatians) (1961)    0\n",
              "12 Angry Men (1957)                                       0\n",
              "1984 (Nineteen Eighty-Four) (1984)                        0\n",
              "                                                         ..\n",
              "Young Frankenstein (1974)                                 0\n",
              "Young Guns (1988)                                         0\n",
              "Young Guns II (1990)                                      0\n",
              "Zoolander (2001)                                          0\n",
              "¡Three Amigos! (1986)                                     0\n",
              "Length: 1145, dtype: int64"
            ]
          },
          "metadata": {},
          "output_type": "display_data"
        },
        {
          "name": "stdout",
          "output_type": "stream",
          "text": [
            "similer user sum title\n",
            "'burbs, The (1989)                                        0.982245\n",
            "101 Dalmatians (1996)                                     1.953140\n",
            "101 Dalmatians (One Hundred and One Dalmatians) (1961)    1.975334\n",
            "12 Angry Men (1957)                                       1.319144\n",
            "1984 (Nineteen Eighty-Four) (1984)                        1.644188\n",
            "                                                            ...   \n",
            "Young Frankenstein (1974)                                 3.584159\n",
            "Young Guns (1988)                                         0.961057\n",
            "Young Guns II (1990)                                      0.640705\n",
            "Zoolander (2001)                                          0.982245\n",
            "¡Three Amigos! (1986)                                     0.640705\n",
            "Length: 1145, dtype: float64\n",
            "Helllo Number of similer users rated the movies [1 2 2 ... 1 1 1]\n",
            "Helllo Number of similer users rated the movies [[0 0 1 ... 0 0 0]\n",
            " [0 0 0 ... 0 0 0]\n",
            " [1 1 1 ... 0 1 0]\n",
            " [0 1 0 ... 0 0 0]\n",
            " [0 0 0 ... 1 0 1]]\n"
          ]
        },
        {
          "data": {
            "text/plain": [
              "'unnnamed'"
            ]
          },
          "metadata": {},
          "output_type": "display_data"
        },
        {
          "data": {
            "text/plain": [
              "array([0.32741508, 0.65104678, 0.65844457, ..., 0.32035247, 0.32741508,\n",
              "       0.32035247], shape=(1145,))"
            ]
          },
          "metadata": {},
          "output_type": "display_data"
        },
        {
          "name": "stdout",
          "output_type": "stream",
          "text": [
            "Top 10 Movies for User 1:\n"
          ]
        },
        {
          "data": {
            "text/html": [
              "<div>\n",
              "<style scoped>\n",
              "    .dataframe tbody tr th:only-of-type {\n",
              "        vertical-align: middle;\n",
              "    }\n",
              "\n",
              "    .dataframe tbody tr th {\n",
              "        vertical-align: top;\n",
              "    }\n",
              "\n",
              "    .dataframe thead th {\n",
              "        text-align: right;\n",
              "    }\n",
              "</style>\n",
              "<table border=\"1\" class=\"dataframe\">\n",
              "  <thead>\n",
              "    <tr style=\"text-align: right;\">\n",
              "      <th></th>\n",
              "      <th>movie_title</th>\n",
              "      <th>expected_rating</th>\n",
              "    </tr>\n",
              "  </thead>\n",
              "  <tbody>\n",
              "    <tr>\n",
              "      <th>0</th>\n",
              "      <td>Victor/Victoria (1982)</td>\n",
              "      <td>5.0</td>\n",
              "    </tr>\n",
              "    <tr>\n",
              "      <th>1</th>\n",
              "      <td>Lord of the Rings: The Fellowship of the Ring,...</td>\n",
              "      <td>5.0</td>\n",
              "    </tr>\n",
              "    <tr>\n",
              "      <th>2</th>\n",
              "      <td>Third Man, The (1949)</td>\n",
              "      <td>5.0</td>\n",
              "    </tr>\n",
              "    <tr>\n",
              "      <th>3</th>\n",
              "      <td>American Pie 2 (2001)</td>\n",
              "      <td>5.0</td>\n",
              "    </tr>\n",
              "    <tr>\n",
              "      <th>4</th>\n",
              "      <td>Lifeboat (1944)</td>\n",
              "      <td>5.0</td>\n",
              "    </tr>\n",
              "  </tbody>\n",
              "</table>\n",
              "</div>"
            ],
            "text/plain": [
              "                                         movie_title  expected_rating\n",
              "0                             Victor/Victoria (1982)              5.0\n",
              "1  Lord of the Rings: The Fellowship of the Ring,...              5.0\n",
              "2                              Third Man, The (1949)              5.0\n",
              "3                              American Pie 2 (2001)              5.0\n",
              "4                                    Lifeboat (1944)              5.0"
            ]
          },
          "execution_count": 42,
          "metadata": {},
          "output_type": "execute_result"
        }
      ],
      "source": [
        "# Function to generate recommendations\n",
        "def recommend_movies_dev(user_id, user_movie_matrix, user_similarity_df, top_n=5):\n",
        "    # Get the top n similer users based on similarity scores for the target user\n",
        "    similar_users = user_similarity_df.loc[user_id,:].sort_values(ascending=False).iloc[1:top_n+1]\n",
        "    # similar_users = user_similarity_df.loc[user_id,:].sort_values(ascending=False).iloc[1:]\n",
        "    print('similar users', similar_users.index)\n",
        "\n",
        "    # Get movies rated by similar users\n",
        "    similar_users_ratings = user_movie_matrix.loc[similar_users.index]\n",
        "    display('movies rated by similar users ', user_movie_matrix.loc[similar_users.index])\n",
        "\n",
        "    # Get all the movies rated (i.e., ratings > 0) by at least one of the top 5 similar users\n",
        "    rated_movies = similar_users_ratings.columns[(similar_users_ratings > 0).any(axis=0)]\n",
        "\n",
        "    display('movies rated by at least one of the top 5 similar users', similar_users_ratings.loc[:,rated_movies])\n",
        "    user_ratings = user_movie_matrix.loc[user_id,:]\n",
        "    unseen_movies = user_ratings[user_ratings == 0].index\n",
        "    unseen_movies_seen_by_similer = unseen_movies[unseen_movies.isin(rated_movies)]\n",
        "    print(\"Number of unseen movies\", len(unseen_movies))\n",
        "    print(\"Number of unseen movies and seened by at least one similer user\", len(unseen_movies[unseen_movies.isin(rated_movies)]))\n",
        "\n",
        "    # Weighted average of ratings by similar users\n",
        "    weighted_ratings = pd.Series(0, index=unseen_movies_seen_by_similer)\n",
        "    display('w r before', weighted_ratings)\n",
        "    for similar_user, similarity in similar_users.items():\n",
        "        weighted_ratings += user_movie_matrix.loc[similar_user, unseen_movies_seen_by_similer] * similarity\n",
        "\n",
        "    # Normalize the weighted ratings\n",
        "    print(\"similer user sum\", weighted_ratings)\n",
        "    print('Helllo Number of similer users rated the movies', (similar_users_ratings.loc[:,unseen_movies_seen_by_similer].values > 0).sum(axis=0))\n",
        "    print('Helllo Number of similer users rated the movies', (similar_users_ratings.loc[:,unseen_movies_seen_by_similer].values > 0).astype(int))\n",
        "    # display('hello', similar_users_ratings.loc[:,unseen_movies_seen_by_similer], similar_users.values, similar_users_ratings.loc[:,unseen_movies_seen_by_similer] * similar_users.values.reshape(5,1))\n",
        "    unnamed = (similar_users_ratings.loc[:,unseen_movies_seen_by_similer].values > 0).astype(int) * similar_users.values.reshape(5,1)\n",
        "    display('unnnamed', unnamed.sum(axis=0))\n",
        "    weighted_ratings /= unnamed.sum(axis=0)\n",
        "    top_ratings = weighted_ratings.sort_values(ascending=False)\n",
        "    # Sort and return top recommendations\n",
        "    recommendations = pd.DataFrame({\n",
        "        'movie_title': top_ratings.index,\n",
        "        'expected_rating': top_ratings.values\n",
        "    })\n",
        "\n",
        "    return recommendations\n",
        "recommendations = recommend_movies_dev(1, user_movie_matrix, user_similarity_df, 5)\n",
        "print(\"Top 10 Movies for User 1:\")\n",
        "recommendations.head()"
      ]
    },
    {
      "cell_type": "markdown",
      "metadata": {
        "id": "KsitB-50hSuZ"
      },
      "source": [
        "#### 6.2 Cleaner Version of Recommender:"
      ]
    },
    {
      "cell_type": "code",
      "execution_count": 44,
      "metadata": {
        "colab": {
          "base_uri": "https://localhost:8080/",
          "height": 380
        },
        "id": "1ABhDLPYn1Ld",
        "outputId": "176455b6-9667-4de2-941d-92e486cf39e5"
      },
      "outputs": [
        {
          "name": "stdout",
          "output_type": "stream",
          "text": [
            "1145\n"
          ]
        },
        {
          "data": {
            "text/html": [
              "<div>\n",
              "<style scoped>\n",
              "    .dataframe tbody tr th:only-of-type {\n",
              "        vertical-align: middle;\n",
              "    }\n",
              "\n",
              "    .dataframe tbody tr th {\n",
              "        vertical-align: top;\n",
              "    }\n",
              "\n",
              "    .dataframe thead th {\n",
              "        text-align: right;\n",
              "    }\n",
              "</style>\n",
              "<table border=\"1\" class=\"dataframe\">\n",
              "  <thead>\n",
              "    <tr style=\"text-align: right;\">\n",
              "      <th></th>\n",
              "      <th>title</th>\n",
              "      <th>expected_rating</th>\n",
              "    </tr>\n",
              "  </thead>\n",
              "  <tbody>\n",
              "    <tr>\n",
              "      <th>1098</th>\n",
              "      <td>Victor/Victoria (1982)</td>\n",
              "      <td>5.0</td>\n",
              "    </tr>\n",
              "    <tr>\n",
              "      <th>633</th>\n",
              "      <td>Lord of the Rings: The Fellowship of the Ring,...</td>\n",
              "      <td>5.0</td>\n",
              "    </tr>\n",
              "    <tr>\n",
              "      <th>1045</th>\n",
              "      <td>Third Man, The (1949)</td>\n",
              "      <td>5.0</td>\n",
              "    </tr>\n",
              "    <tr>\n",
              "      <th>57</th>\n",
              "      <td>American Pie 2 (2001)</td>\n",
              "      <td>5.0</td>\n",
              "    </tr>\n",
              "    <tr>\n",
              "      <th>619</th>\n",
              "      <td>Lifeboat (1944)</td>\n",
              "      <td>5.0</td>\n",
              "    </tr>\n",
              "    <tr>\n",
              "      <th>623</th>\n",
              "      <td>Little Big Man (1970)</td>\n",
              "      <td>5.0</td>\n",
              "    </tr>\n",
              "    <tr>\n",
              "      <th>650</th>\n",
              "      <td>Maltese Falcon, The (1941)</td>\n",
              "      <td>5.0</td>\n",
              "    </tr>\n",
              "    <tr>\n",
              "      <th>270</th>\n",
              "      <td>Crouching Tiger, Hidden Dragon (Wo hu cang lon...</td>\n",
              "      <td>5.0</td>\n",
              "    </tr>\n",
              "    <tr>\n",
              "      <th>603</th>\n",
              "      <td>Last Detail, The (1973)</td>\n",
              "      <td>5.0</td>\n",
              "    </tr>\n",
              "    <tr>\n",
              "      <th>607</th>\n",
              "      <td>Lawrence of Arabia (1962)</td>\n",
              "      <td>5.0</td>\n",
              "    </tr>\n",
              "  </tbody>\n",
              "</table>\n",
              "</div>"
            ],
            "text/plain": [
              "                                                  title  expected_rating\n",
              "1098                             Victor/Victoria (1982)              5.0\n",
              "633   Lord of the Rings: The Fellowship of the Ring,...              5.0\n",
              "1045                              Third Man, The (1949)              5.0\n",
              "57                                American Pie 2 (2001)              5.0\n",
              "619                                     Lifeboat (1944)              5.0\n",
              "623                               Little Big Man (1970)              5.0\n",
              "650                          Maltese Falcon, The (1941)              5.0\n",
              "270   Crouching Tiger, Hidden Dragon (Wo hu cang lon...              5.0\n",
              "603                             Last Detail, The (1973)              5.0\n",
              "607                           Lawrence of Arabia (1962)              5.0"
            ]
          },
          "execution_count": 44,
          "metadata": {},
          "output_type": "execute_result"
        }
      ],
      "source": [
        "def recommend_movies(user_id, user_movie_matrix, user_similarity_df, top_n=5):\n",
        "    # Get the top n similar users (excluding the user itself)\n",
        "    similar_users = user_similarity_df.loc[user_id].nlargest(top_n + 1).iloc[1:]  # Exclude self\n",
        "\n",
        "    # Get movie ratings of similar users\n",
        "    similar_users_ratings = user_movie_matrix.loc[similar_users.index]\n",
        "\n",
        "    # Get movies rated by at least one similar user\n",
        "    rated_movies_mask = (similar_users_ratings > 0).any(axis=0)\n",
        "\n",
        "    # Get movies that the target user has **not seen**\n",
        "    unseen_movies_mask = user_movie_matrix.loc[user_id] == 0\n",
        "\n",
        "    # Movies to consider: Unseen movies that similar users have rated\n",
        "    unseen_movies = rated_movies_mask & unseen_movies_mask\n",
        "\n",
        "    if unseen_movies.sum() == 0:\n",
        "        return pd.DataFrame(columns=['title', 'expected_rating'])  # No recommendations\n",
        "\n",
        "    # Compute weighted ratings using matrix multiplication\n",
        "    similarity_values = similar_users.values.reshape(-1, 1)  # Reshape for broadcasting\n",
        "    weighted_ratings = (similar_users_ratings.loc[:, unseen_movies] * similarity_values).sum(axis=0)\n",
        "\n",
        "    # Normalize by sum of similarities\n",
        "    similarity_sums = (similar_users_ratings.loc[:, unseen_movies] > 0).astype(int).T @ similar_users.values\n",
        "    predicted_ratings = weighted_ratings / similarity_sums\n",
        "\n",
        "    # Prepare and return sorted recommendations\n",
        "    recommendations = pd.DataFrame({\n",
        "        'title': predicted_ratings.index,\n",
        "        'expected_rating': predicted_ratings.values\n",
        "    }).sort_values(by='expected_rating', ascending=False)\n",
        "\n",
        "    return recommendations\n",
        "\n",
        "# Example usage\n",
        "recommendations = recommend_movies(1, user_movie_matrix, user_similarity_df, 5)\n",
        "print(len(recommendations))\n",
        "recommendations.head(10)\n"
      ]
    },
    {
      "cell_type": "code",
      "execution_count": 45,
      "metadata": {
        "colab": {
          "base_uri": "https://localhost:8080/",
          "height": 241
        },
        "id": "buSUJ8K8hSuZ",
        "outputId": "d84eefb3-88e3-499e-f0b2-6a8cf32364b5"
      },
      "outputs": [
        {
          "data": {
            "text/html": [
              "<div>\n",
              "<style scoped>\n",
              "    .dataframe tbody tr th:only-of-type {\n",
              "        vertical-align: middle;\n",
              "    }\n",
              "\n",
              "    .dataframe tbody tr th {\n",
              "        vertical-align: top;\n",
              "    }\n",
              "\n",
              "    .dataframe thead th {\n",
              "        text-align: right;\n",
              "    }\n",
              "</style>\n",
              "<table border=\"1\" class=\"dataframe\">\n",
              "  <thead>\n",
              "    <tr style=\"text-align: right;\">\n",
              "      <th></th>\n",
              "      <th>movieId</th>\n",
              "      <th>title</th>\n",
              "      <th>genres</th>\n",
              "      <th>userId</th>\n",
              "      <th>rating</th>\n",
              "      <th>timestamp</th>\n",
              "    </tr>\n",
              "  </thead>\n",
              "  <tbody>\n",
              "    <tr>\n",
              "      <th>30188</th>\n",
              "      <td>1348</td>\n",
              "      <td>Nosferatu (Nosferatu, eine Symphonie des Graue...</td>\n",
              "      <td>Horror</td>\n",
              "      <td>1.0</td>\n",
              "      <td>4.0</td>\n",
              "      <td>964983393.0</td>\n",
              "    </tr>\n",
              "    <tr>\n",
              "      <th>26460</th>\n",
              "      <td>1219</td>\n",
              "      <td>Psycho (1960)</td>\n",
              "      <td>Crime|Horror</td>\n",
              "      <td>1.0</td>\n",
              "      <td>2.0</td>\n",
              "      <td>964983393.0</td>\n",
              "    </tr>\n",
              "    <tr>\n",
              "      <th>46134</th>\n",
              "      <td>2654</td>\n",
              "      <td>Wolf Man, The (1941)</td>\n",
              "      <td>Drama|Fantasy|Horror</td>\n",
              "      <td>1.0</td>\n",
              "      <td>5.0</td>\n",
              "      <td>964983393.0</td>\n",
              "    </tr>\n",
              "    <tr>\n",
              "      <th>46112</th>\n",
              "      <td>2644</td>\n",
              "      <td>Dracula (1931)</td>\n",
              "      <td>Horror</td>\n",
              "      <td>1.0</td>\n",
              "      <td>4.0</td>\n",
              "      <td>964983393.0</td>\n",
              "    </tr>\n",
              "    <tr>\n",
              "      <th>28971</th>\n",
              "      <td>1278</td>\n",
              "      <td>Young Frankenstein (1974)</td>\n",
              "      <td>Comedy|Fantasy</td>\n",
              "      <td>1.0</td>\n",
              "      <td>5.0</td>\n",
              "      <td>964983414.0</td>\n",
              "    </tr>\n",
              "  </tbody>\n",
              "</table>\n",
              "</div>"
            ],
            "text/plain": [
              "       movieId                                              title  \\\n",
              "30188     1348  Nosferatu (Nosferatu, eine Symphonie des Graue...   \n",
              "26460     1219                                      Psycho (1960)   \n",
              "46134     2654                               Wolf Man, The (1941)   \n",
              "46112     2644                                     Dracula (1931)   \n",
              "28971     1278                          Young Frankenstein (1974)   \n",
              "\n",
              "                     genres  userId  rating    timestamp  \n",
              "30188                Horror     1.0     4.0  964983393.0  \n",
              "26460          Crime|Horror     1.0     2.0  964983393.0  \n",
              "46134  Drama|Fantasy|Horror     1.0     5.0  964983393.0  \n",
              "46112                Horror     1.0     4.0  964983393.0  \n",
              "28971        Comedy|Fantasy     1.0     5.0  964983414.0  "
            ]
          },
          "execution_count": 45,
          "metadata": {},
          "output_type": "execute_result"
        }
      ],
      "source": [
        "test[test['userId'] == 1].head()"
      ]
    },
    {
      "cell_type": "code",
      "execution_count": 46,
      "metadata": {
        "colab": {
          "base_uri": "https://localhost:8080/",
          "height": 206
        },
        "id": "F10LPeJ-hSuZ",
        "outputId": "92d32a28-ba32-483f-fd8b-01fa8d228f5a"
      },
      "outputs": [
        {
          "data": {
            "text/html": [
              "<div>\n",
              "<style scoped>\n",
              "    .dataframe tbody tr th:only-of-type {\n",
              "        vertical-align: middle;\n",
              "    }\n",
              "\n",
              "    .dataframe tbody tr th {\n",
              "        vertical-align: top;\n",
              "    }\n",
              "\n",
              "    .dataframe thead th {\n",
              "        text-align: right;\n",
              "    }\n",
              "</style>\n",
              "<table border=\"1\" class=\"dataframe\">\n",
              "  <thead>\n",
              "    <tr style=\"text-align: right;\">\n",
              "      <th></th>\n",
              "      <th>title</th>\n",
              "      <th>expected_rating</th>\n",
              "    </tr>\n",
              "  </thead>\n",
              "  <tbody>\n",
              "    <tr>\n",
              "      <th>1098</th>\n",
              "      <td>Victor/Victoria (1982)</td>\n",
              "      <td>5.0</td>\n",
              "    </tr>\n",
              "    <tr>\n",
              "      <th>633</th>\n",
              "      <td>Lord of the Rings: The Fellowship of the Ring,...</td>\n",
              "      <td>5.0</td>\n",
              "    </tr>\n",
              "    <tr>\n",
              "      <th>1045</th>\n",
              "      <td>Third Man, The (1949)</td>\n",
              "      <td>5.0</td>\n",
              "    </tr>\n",
              "    <tr>\n",
              "      <th>57</th>\n",
              "      <td>American Pie 2 (2001)</td>\n",
              "      <td>5.0</td>\n",
              "    </tr>\n",
              "    <tr>\n",
              "      <th>619</th>\n",
              "      <td>Lifeboat (1944)</td>\n",
              "      <td>5.0</td>\n",
              "    </tr>\n",
              "  </tbody>\n",
              "</table>\n",
              "</div>"
            ],
            "text/plain": [
              "                                                  title  expected_rating\n",
              "1098                             Victor/Victoria (1982)              5.0\n",
              "633   Lord of the Rings: The Fellowship of the Ring,...              5.0\n",
              "1045                              Third Man, The (1949)              5.0\n",
              "57                                American Pie 2 (2001)              5.0\n",
              "619                                     Lifeboat (1944)              5.0"
            ]
          },
          "execution_count": 46,
          "metadata": {},
          "output_type": "execute_result"
        }
      ],
      "source": [
        "recommendation4user1 = recommend_movies(1, user_movie_matrix, user_similarity_df, 5)\n",
        "recommendation4user1.head()"
      ]
    },
    {
      "cell_type": "code",
      "execution_count": 47,
      "metadata": {
        "colab": {
          "base_uri": "https://localhost:8080/",
          "height": 206
        },
        "id": "waCmAKuwhSuZ",
        "outputId": "68b67278-ed16-4e21-c794-902cb793f186"
      },
      "outputs": [
        {
          "data": {
            "text/html": [
              "<div>\n",
              "<style scoped>\n",
              "    .dataframe tbody tr th:only-of-type {\n",
              "        vertical-align: middle;\n",
              "    }\n",
              "\n",
              "    .dataframe tbody tr th {\n",
              "        vertical-align: top;\n",
              "    }\n",
              "\n",
              "    .dataframe thead th {\n",
              "        text-align: right;\n",
              "    }\n",
              "</style>\n",
              "<table border=\"1\" class=\"dataframe\">\n",
              "  <thead>\n",
              "    <tr style=\"text-align: right;\">\n",
              "      <th></th>\n",
              "      <th>title</th>\n",
              "      <th>expected_rating</th>\n",
              "      <th>rating</th>\n",
              "    </tr>\n",
              "  </thead>\n",
              "  <tbody>\n",
              "    <tr>\n",
              "      <th>0</th>\n",
              "      <td>Psycho (1960)</td>\n",
              "      <td>5.000000</td>\n",
              "      <td>2.0</td>\n",
              "    </tr>\n",
              "    <tr>\n",
              "      <th>1</th>\n",
              "      <td>Schindler's List (1993)</td>\n",
              "      <td>5.000000</td>\n",
              "      <td>5.0</td>\n",
              "    </tr>\n",
              "    <tr>\n",
              "      <th>2</th>\n",
              "      <td>Silence of the Lambs, The (1991)</td>\n",
              "      <td>4.497829</td>\n",
              "      <td>4.0</td>\n",
              "    </tr>\n",
              "    <tr>\n",
              "      <th>3</th>\n",
              "      <td>Back to the Future (1985)</td>\n",
              "      <td>4.249256</td>\n",
              "      <td>5.0</td>\n",
              "    </tr>\n",
              "    <tr>\n",
              "      <th>4</th>\n",
              "      <td>20 Dates (1998)</td>\n",
              "      <td>4.000000</td>\n",
              "      <td>4.0</td>\n",
              "    </tr>\n",
              "  </tbody>\n",
              "</table>\n",
              "</div>"
            ],
            "text/plain": [
              "                              title  expected_rating  rating\n",
              "0                     Psycho (1960)         5.000000     2.0\n",
              "1           Schindler's List (1993)         5.000000     5.0\n",
              "2  Silence of the Lambs, The (1991)         4.497829     4.0\n",
              "3         Back to the Future (1985)         4.249256     5.0\n",
              "4                   20 Dates (1998)         4.000000     4.0"
            ]
          },
          "execution_count": 47,
          "metadata": {},
          "output_type": "execute_result"
        }
      ],
      "source": [
        "recommendation4user1 = pd.merge(recommendation4user1, test[test['userId'] == 1][['title', 'rating']], on='title', how='inner')\n",
        "recommendation4user1.head()"
      ]
    },
    {
      "cell_type": "markdown",
      "metadata": {},
      "source": [
        "#### 6.2 Evalute user-based model:"
      ]
    },
    {
      "cell_type": "code",
      "execution_count": 48,
      "metadata": {
        "colab": {
          "base_uri": "https://localhost:8080/"
        },
        "id": "yDF2ulDohSua",
        "outputId": "00a866ab-88e5-4552-9567-e1a90b096403"
      },
      "outputs": [
        {
          "name": "stdout",
          "output_type": "stream",
          "text": [
            "MAE for first user: 1.3342364039246408\n",
            "RMSE for first user: 1.5885988544953054\n"
          ]
        }
      ],
      "source": [
        "print('MAE for first user:', mean_absolute_error(recommendation4user1['rating'], recommendation4user1['expected_rating']))\n",
        "print('RMSE for first user:', np.sqrt(mean_squared_error(recommendation4user1['rating'], recommendation4user1['expected_rating'])))"
      ]
    },
    {
      "cell_type": "code",
      "execution_count": 49,
      "metadata": {
        "colab": {
          "base_uri": "https://localhost:8080/"
        },
        "id": "-glFv-G3hSua",
        "outputId": "967a627b-a201-46ab-bf8b-2b95668fd37d"
      },
      "outputs": [
        {
          "name": "stdout",
          "output_type": "stream",
          "text": [
            "MAE 0.8495410885674505\n",
            "RMSE 1.1177321500615849\n"
          ]
        }
      ],
      "source": [
        "all_recommendations = []\n",
        "for user_id in ratings['userId'].unique():\n",
        "    recommendations = recommend_movies(user_id, user_movie_matrix, user_similarity_df, 5)\n",
        "    recommendations_ = pd.merge(recommendations, filtered_test[filtered_test['userId'] == user_id][['title', 'rating']], on='title', how='inner')\n",
        "    all_recommendations.append(recommendations_)\n",
        "\n",
        "all_recommendations = pd.concat(all_recommendations)\n",
        "\n",
        "print(f\"MAE {mean_absolute_error(all_recommendations['rating'], all_recommendations['expected_rating'])}\")\n",
        "print(f\"RMSE {np.sqrt(mean_squared_error(all_recommendations['rating'], all_recommendations['expected_rating']))}\")"
      ]
    },
    {
      "cell_type": "code",
      "execution_count": 51,
      "metadata": {
        "colab": {
          "base_uri": "https://localhost:8080/"
        },
        "id": "M7tV4fJ7nCyH",
        "outputId": "72e5d122-2ef7-4c29-b928-24ba8cf537ee"
      },
      "outputs": [
        {
          "name": "stdout",
          "output_type": "stream",
          "text": [
            "Mean Absolute Error: 0.8255654851880161 RMSE: 1.069941110245413\n",
            "Precision: 0.6438, Recall: 8.4738\n"
          ]
        }
      ],
      "source": [
        "def evaluate_recommendations(test, train_matrix, user_similarity_df, top_n=5):\n",
        "    # Filter users who exist in the training matrix\n",
        "    test_users = test[test['userId'].isin(train_matrix.index)]\n",
        "\n",
        "    # Generate recommendations for all test users\n",
        "    recommendations = test_users['userId'].apply(lambda user_id: recommend_movies(user_id, train_matrix, user_similarity_df, top_n))\n",
        "    recommendations = pd.concat(recommendations.tolist(), keys=test_users['userId']).reset_index(level=0).rename(columns={'level_0': 'userId'})\n",
        "\n",
        "    # Merge recommendations with actual ratings\n",
        "    merged_data = recommendations.merge(test[['userId', 'title', 'rating']], on=['userId', 'title'], how='inner')\n",
        "\n",
        "    # Calculate MAE and RMSE\n",
        "    MAE = mean_absolute_error(merged_data['rating'], merged_data['expected_rating'])\n",
        "    RMSE = np.sqrt(mean_squared_error(merged_data['rating'], merged_data['expected_rating']))\n",
        "\n",
        "    # Identify relevant recommended and actual movies\n",
        "    recommended_high = merged_data[merged_data['expected_rating'] >= 4]\n",
        "    actual_high = test[test['rating'] >= 4]\n",
        "\n",
        "    # Precision and Recall\n",
        "    true_positives = recommended_high.merge(actual_high, on=['userId', 'title']).groupby('userId').size()\n",
        "    precision = (true_positives / recommended_high.groupby('userId').size()).fillna(0).mean()\n",
        "    recall = (true_positives / actual_high.groupby('userId').size()).fillna(0).mean()\n",
        "\n",
        "    return MAE, RMSE, precision, recall\n",
        "\n",
        "# Evaluate\n",
        "MAE, RMSE, precision, recall = evaluate_recommendations(test, user_movie_matrix, user_similarity_df)\n",
        "print(f\"Mean Absolute Error: {MAE} RMSE: {RMSE}\\nPrecision: {precision:.4f}, Recall: {recall:.4f}\")\n"
      ]
    },
    {
      "cell_type": "markdown",
      "metadata": {},
      "source": [
        "### 7. Build Item-based collaborative filtering:"
      ]
    },
    {
      "cell_type": "markdown",
      "metadata": {},
      "source": [
        "#### 7.1 Calculate Item similarity (using cosine similarity and pearson correlation)"
      ]
    },
    {
      "cell_type": "code",
      "execution_count": 52,
      "metadata": {
        "id": "JcpcSDJFhSub"
      },
      "outputs": [],
      "source": [
        "# Compute Pearson correlation for item-item similarity\n",
        "movie_user_matrix = user_movie_matrix.T"
      ]
    },
    {
      "cell_type": "code",
      "execution_count": 53,
      "metadata": {
        "colab": {
          "base_uri": "https://localhost:8080/"
        },
        "id": "o6yeDN51hSub",
        "outputId": "e80ec14c-00bb-4853-e637-f1327949478e"
      },
      "outputs": [
        {
          "data": {
            "text/plain": [
              "(8245, 610)"
            ]
          },
          "execution_count": 53,
          "metadata": {},
          "output_type": "execute_result"
        }
      ],
      "source": [
        "movie_user_matrix.shape"
      ]
    },
    {
      "cell_type": "code",
      "execution_count": 56,
      "metadata": {},
      "outputs": [
        {
          "data": {
            "text/plain": [
              "(8245, 8245)"
            ]
          },
          "execution_count": 56,
          "metadata": {},
          "output_type": "execute_result"
        }
      ],
      "source": [
        "pearson_item_similarity = user_movie_matrix.corr()\n",
        "pearson_item_similarity.shape"
      ]
    },
    {
      "cell_type": "code",
      "execution_count": 60,
      "metadata": {},
      "outputs": [
        {
          "data": {
            "text/html": [
              "<div>\n",
              "<style scoped>\n",
              "    .dataframe tbody tr th:only-of-type {\n",
              "        vertical-align: middle;\n",
              "    }\n",
              "\n",
              "    .dataframe tbody tr th {\n",
              "        vertical-align: top;\n",
              "    }\n",
              "\n",
              "    .dataframe thead th {\n",
              "        text-align: right;\n",
              "    }\n",
              "</style>\n",
              "<table border=\"1\" class=\"dataframe\">\n",
              "  <thead>\n",
              "    <tr style=\"text-align: right;\">\n",
              "      <th>title</th>\n",
              "      <th>'Hellboy': The Seeds of Creation (2004)</th>\n",
              "      <th>'Round Midnight (1986)</th>\n",
              "      <th>'Salem's Lot (2004)</th>\n",
              "      <th>'Til There Was You (1997)</th>\n",
              "      <th>'burbs, The (1989)</th>\n",
              "      <th>'night Mother (1986)</th>\n",
              "      <th>(500) Days of Summer (2009)</th>\n",
              "      <th>*batteries not included (1987)</th>\n",
              "      <th>...All the Marbles (1981)</th>\n",
              "      <th>...And Justice for All (1979)</th>\n",
              "      <th>...</th>\n",
              "      <th>Zulu (1964)</th>\n",
              "      <th>[REC] (2007)</th>\n",
              "      <th>[REC]² (2009)</th>\n",
              "      <th>[REC]³ 3 Génesis (2012)</th>\n",
              "      <th>anohana: The Flower We Saw That Day - The Movie (2013)</th>\n",
              "      <th>eXistenZ (1999)</th>\n",
              "      <th>xXx (2002)</th>\n",
              "      <th>xXx: State of the Union (2005)</th>\n",
              "      <th>¡Three Amigos! (1986)</th>\n",
              "      <th>À nous la liberté (Freedom for Us) (1931)</th>\n",
              "    </tr>\n",
              "    <tr>\n",
              "      <th>title</th>\n",
              "      <th></th>\n",
              "      <th></th>\n",
              "      <th></th>\n",
              "      <th></th>\n",
              "      <th></th>\n",
              "      <th></th>\n",
              "      <th></th>\n",
              "      <th></th>\n",
              "      <th></th>\n",
              "      <th></th>\n",
              "      <th></th>\n",
              "      <th></th>\n",
              "      <th></th>\n",
              "      <th></th>\n",
              "      <th></th>\n",
              "      <th></th>\n",
              "      <th></th>\n",
              "      <th></th>\n",
              "      <th></th>\n",
              "      <th></th>\n",
              "      <th></th>\n",
              "    </tr>\n",
              "  </thead>\n",
              "  <tbody>\n",
              "    <tr>\n",
              "      <th>'Hellboy': The Seeds of Creation (2004)</th>\n",
              "      <td>1.000000</td>\n",
              "      <td>0.706526</td>\n",
              "      <td>-0.001642</td>\n",
              "      <td>-0.002254</td>\n",
              "      <td>-0.005970</td>\n",
              "      <td>-0.001642</td>\n",
              "      <td>-0.009623</td>\n",
              "      <td>-0.004325</td>\n",
              "      <td>-0.001642</td>\n",
              "      <td>0.715035</td>\n",
              "      <td>...</td>\n",
              "      <td>-0.002254</td>\n",
              "      <td>-0.003605</td>\n",
              "      <td>-0.002808</td>\n",
              "      <td>-0.001642</td>\n",
              "      <td>-0.001642</td>\n",
              "      <td>-0.006934</td>\n",
              "      <td>-0.007311</td>\n",
              "      <td>-0.003594</td>\n",
              "      <td>-0.007291</td>\n",
              "      <td>-0.001642</td>\n",
              "    </tr>\n",
              "    <tr>\n",
              "      <th>'Round Midnight (1986)</th>\n",
              "      <td>0.706526</td>\n",
              "      <td>1.000000</td>\n",
              "      <td>-0.002324</td>\n",
              "      <td>-0.003191</td>\n",
              "      <td>0.189798</td>\n",
              "      <td>-0.002324</td>\n",
              "      <td>-0.013620</td>\n",
              "      <td>-0.006121</td>\n",
              "      <td>0.706526</td>\n",
              "      <td>0.504044</td>\n",
              "      <td>...</td>\n",
              "      <td>-0.003191</td>\n",
              "      <td>-0.005103</td>\n",
              "      <td>-0.003975</td>\n",
              "      <td>-0.002324</td>\n",
              "      <td>-0.002324</td>\n",
              "      <td>-0.009814</td>\n",
              "      <td>-0.010348</td>\n",
              "      <td>-0.005087</td>\n",
              "      <td>-0.010320</td>\n",
              "      <td>-0.002324</td>\n",
              "    </tr>\n",
              "    <tr>\n",
              "      <th>'Salem's Lot (2004)</th>\n",
              "      <td>-0.001642</td>\n",
              "      <td>-0.002324</td>\n",
              "      <td>1.000000</td>\n",
              "      <td>0.857269</td>\n",
              "      <td>-0.005970</td>\n",
              "      <td>-0.001642</td>\n",
              "      <td>-0.009623</td>\n",
              "      <td>-0.004325</td>\n",
              "      <td>-0.001642</td>\n",
              "      <td>-0.002795</td>\n",
              "      <td>...</td>\n",
              "      <td>-0.002254</td>\n",
              "      <td>-0.003605</td>\n",
              "      <td>-0.002808</td>\n",
              "      <td>-0.001642</td>\n",
              "      <td>-0.001642</td>\n",
              "      <td>-0.006934</td>\n",
              "      <td>-0.007311</td>\n",
              "      <td>-0.003594</td>\n",
              "      <td>-0.007291</td>\n",
              "      <td>-0.001642</td>\n",
              "    </tr>\n",
              "    <tr>\n",
              "      <th>'Til There Was You (1997)</th>\n",
              "      <td>-0.002254</td>\n",
              "      <td>-0.003191</td>\n",
              "      <td>0.857269</td>\n",
              "      <td>1.000000</td>\n",
              "      <td>-0.008197</td>\n",
              "      <td>-0.002254</td>\n",
              "      <td>-0.013212</td>\n",
              "      <td>-0.005938</td>\n",
              "      <td>-0.002254</td>\n",
              "      <td>-0.003837</td>\n",
              "      <td>...</td>\n",
              "      <td>-0.003095</td>\n",
              "      <td>-0.004950</td>\n",
              "      <td>-0.003856</td>\n",
              "      <td>-0.002254</td>\n",
              "      <td>-0.002254</td>\n",
              "      <td>-0.009520</td>\n",
              "      <td>-0.010038</td>\n",
              "      <td>-0.004935</td>\n",
              "      <td>-0.010011</td>\n",
              "      <td>-0.002254</td>\n",
              "    </tr>\n",
              "    <tr>\n",
              "      <th>'burbs, The (1989)</th>\n",
              "      <td>-0.005970</td>\n",
              "      <td>0.189798</td>\n",
              "      <td>-0.005970</td>\n",
              "      <td>-0.008197</td>\n",
              "      <td>1.000000</td>\n",
              "      <td>0.074068</td>\n",
              "      <td>-0.016592</td>\n",
              "      <td>0.263824</td>\n",
              "      <td>0.274165</td>\n",
              "      <td>0.025689</td>\n",
              "      <td>...</td>\n",
              "      <td>-0.008197</td>\n",
              "      <td>-0.013108</td>\n",
              "      <td>-0.010210</td>\n",
              "      <td>-0.005970</td>\n",
              "      <td>-0.005970</td>\n",
              "      <td>0.199715</td>\n",
              "      <td>0.082143</td>\n",
              "      <td>-0.013068</td>\n",
              "      <td>0.328902</td>\n",
              "      <td>-0.005970</td>\n",
              "    </tr>\n",
              "  </tbody>\n",
              "</table>\n",
              "<p>5 rows × 8245 columns</p>\n",
              "</div>"
            ],
            "text/plain": [
              "title                                    'Hellboy': The Seeds of Creation (2004)  \\\n",
              "title                                                                              \n",
              "'Hellboy': The Seeds of Creation (2004)                                 1.000000   \n",
              "'Round Midnight (1986)                                                  0.706526   \n",
              "'Salem's Lot (2004)                                                    -0.001642   \n",
              "'Til There Was You (1997)                                              -0.002254   \n",
              "'burbs, The (1989)                                                     -0.005970   \n",
              "\n",
              "title                                    'Round Midnight (1986)  \\\n",
              "title                                                             \n",
              "'Hellboy': The Seeds of Creation (2004)                0.706526   \n",
              "'Round Midnight (1986)                                 1.000000   \n",
              "'Salem's Lot (2004)                                   -0.002324   \n",
              "'Til There Was You (1997)                             -0.003191   \n",
              "'burbs, The (1989)                                     0.189798   \n",
              "\n",
              "title                                    'Salem's Lot (2004)  \\\n",
              "title                                                          \n",
              "'Hellboy': The Seeds of Creation (2004)            -0.001642   \n",
              "'Round Midnight (1986)                             -0.002324   \n",
              "'Salem's Lot (2004)                                 1.000000   \n",
              "'Til There Was You (1997)                           0.857269   \n",
              "'burbs, The (1989)                                 -0.005970   \n",
              "\n",
              "title                                    'Til There Was You (1997)  \\\n",
              "title                                                                \n",
              "'Hellboy': The Seeds of Creation (2004)                  -0.002254   \n",
              "'Round Midnight (1986)                                   -0.003191   \n",
              "'Salem's Lot (2004)                                       0.857269   \n",
              "'Til There Was You (1997)                                 1.000000   \n",
              "'burbs, The (1989)                                       -0.008197   \n",
              "\n",
              "title                                    'burbs, The (1989)  \\\n",
              "title                                                         \n",
              "'Hellboy': The Seeds of Creation (2004)           -0.005970   \n",
              "'Round Midnight (1986)                             0.189798   \n",
              "'Salem's Lot (2004)                               -0.005970   \n",
              "'Til There Was You (1997)                         -0.008197   \n",
              "'burbs, The (1989)                                 1.000000   \n",
              "\n",
              "title                                    'night Mother (1986)  \\\n",
              "title                                                           \n",
              "'Hellboy': The Seeds of Creation (2004)             -0.001642   \n",
              "'Round Midnight (1986)                              -0.002324   \n",
              "'Salem's Lot (2004)                                 -0.001642   \n",
              "'Til There Was You (1997)                           -0.002254   \n",
              "'burbs, The (1989)                                   0.074068   \n",
              "\n",
              "title                                    (500) Days of Summer (2009)  \\\n",
              "title                                                                  \n",
              "'Hellboy': The Seeds of Creation (2004)                    -0.009623   \n",
              "'Round Midnight (1986)                                     -0.013620   \n",
              "'Salem's Lot (2004)                                        -0.009623   \n",
              "'Til There Was You (1997)                                  -0.013212   \n",
              "'burbs, The (1989)                                         -0.016592   \n",
              "\n",
              "title                                    *batteries not included (1987)  \\\n",
              "title                                                                     \n",
              "'Hellboy': The Seeds of Creation (2004)                       -0.004325   \n",
              "'Round Midnight (1986)                                        -0.006121   \n",
              "'Salem's Lot (2004)                                           -0.004325   \n",
              "'Til There Was You (1997)                                     -0.005938   \n",
              "'burbs, The (1989)                                             0.263824   \n",
              "\n",
              "title                                    ...All the Marbles (1981)  \\\n",
              "title                                                                \n",
              "'Hellboy': The Seeds of Creation (2004)                  -0.001642   \n",
              "'Round Midnight (1986)                                    0.706526   \n",
              "'Salem's Lot (2004)                                      -0.001642   \n",
              "'Til There Was You (1997)                                -0.002254   \n",
              "'burbs, The (1989)                                        0.274165   \n",
              "\n",
              "title                                    ...And Justice for All (1979)  ...  \\\n",
              "title                                                                   ...   \n",
              "'Hellboy': The Seeds of Creation (2004)                       0.715035  ...   \n",
              "'Round Midnight (1986)                                        0.504044  ...   \n",
              "'Salem's Lot (2004)                                          -0.002795  ...   \n",
              "'Til There Was You (1997)                                    -0.003837  ...   \n",
              "'burbs, The (1989)                                            0.025689  ...   \n",
              "\n",
              "title                                    Zulu (1964)  [REC] (2007)  \\\n",
              "title                                                                \n",
              "'Hellboy': The Seeds of Creation (2004)    -0.002254     -0.003605   \n",
              "'Round Midnight (1986)                     -0.003191     -0.005103   \n",
              "'Salem's Lot (2004)                        -0.002254     -0.003605   \n",
              "'Til There Was You (1997)                  -0.003095     -0.004950   \n",
              "'burbs, The (1989)                         -0.008197     -0.013108   \n",
              "\n",
              "title                                    [REC]² (2009)  \\\n",
              "title                                                    \n",
              "'Hellboy': The Seeds of Creation (2004)      -0.002808   \n",
              "'Round Midnight (1986)                       -0.003975   \n",
              "'Salem's Lot (2004)                          -0.002808   \n",
              "'Til There Was You (1997)                    -0.003856   \n",
              "'burbs, The (1989)                           -0.010210   \n",
              "\n",
              "title                                    [REC]³ 3 Génesis (2012)  \\\n",
              "title                                                              \n",
              "'Hellboy': The Seeds of Creation (2004)                -0.001642   \n",
              "'Round Midnight (1986)                                 -0.002324   \n",
              "'Salem's Lot (2004)                                    -0.001642   \n",
              "'Til There Was You (1997)                              -0.002254   \n",
              "'burbs, The (1989)                                     -0.005970   \n",
              "\n",
              "title                                    anohana: The Flower We Saw That Day - The Movie (2013)  \\\n",
              "title                                                                                             \n",
              "'Hellboy': The Seeds of Creation (2004)                                          -0.001642        \n",
              "'Round Midnight (1986)                                                           -0.002324        \n",
              "'Salem's Lot (2004)                                                              -0.001642        \n",
              "'Til There Was You (1997)                                                        -0.002254        \n",
              "'burbs, The (1989)                                                               -0.005970        \n",
              "\n",
              "title                                    eXistenZ (1999)  xXx (2002)  \\\n",
              "title                                                                  \n",
              "'Hellboy': The Seeds of Creation (2004)        -0.006934   -0.007311   \n",
              "'Round Midnight (1986)                         -0.009814   -0.010348   \n",
              "'Salem's Lot (2004)                            -0.006934   -0.007311   \n",
              "'Til There Was You (1997)                      -0.009520   -0.010038   \n",
              "'burbs, The (1989)                              0.199715    0.082143   \n",
              "\n",
              "title                                    xXx: State of the Union (2005)  \\\n",
              "title                                                                     \n",
              "'Hellboy': The Seeds of Creation (2004)                       -0.003594   \n",
              "'Round Midnight (1986)                                        -0.005087   \n",
              "'Salem's Lot (2004)                                           -0.003594   \n",
              "'Til There Was You (1997)                                     -0.004935   \n",
              "'burbs, The (1989)                                            -0.013068   \n",
              "\n",
              "title                                    ¡Three Amigos! (1986)  \\\n",
              "title                                                            \n",
              "'Hellboy': The Seeds of Creation (2004)              -0.007291   \n",
              "'Round Midnight (1986)                               -0.010320   \n",
              "'Salem's Lot (2004)                                  -0.007291   \n",
              "'Til There Was You (1997)                            -0.010011   \n",
              "'burbs, The (1989)                                    0.328902   \n",
              "\n",
              "title                                    À nous la liberté (Freedom for Us) (1931)  \n",
              "title                                                                               \n",
              "'Hellboy': The Seeds of Creation (2004)                                  -0.001642  \n",
              "'Round Midnight (1986)                                                   -0.002324  \n",
              "'Salem's Lot (2004)                                                      -0.001642  \n",
              "'Til There Was You (1997)                                                -0.002254  \n",
              "'burbs, The (1989)                                                       -0.005970  \n",
              "\n",
              "[5 rows x 8245 columns]"
            ]
          },
          "execution_count": 60,
          "metadata": {},
          "output_type": "execute_result"
        }
      ],
      "source": [
        "pearson_item_similarity_df = pd.DataFrame(pearson_item_similarity, index=user_movie_matrix.columns, columns=user_movie_matrix.columns)\n",
        "pearson_item_similarity_df.head()"
      ]
    },
    {
      "cell_type": "code",
      "execution_count": 57,
      "metadata": {
        "colab": {
          "base_uri": "https://localhost:8080/"
        },
        "id": "2D7Vike4hSub",
        "outputId": "3178e12f-c1aa-42bd-e8fb-bb17ad870b00"
      },
      "outputs": [
        {
          "data": {
            "text/plain": [
              "(8245, 8245)"
            ]
          },
          "execution_count": 57,
          "metadata": {},
          "output_type": "execute_result"
        }
      ],
      "source": [
        "cosine_item_similarity = cosine_similarity(movie_user_matrix)\n",
        "cosine_item_similarity.shape"
      ]
    },
    {
      "cell_type": "code",
      "execution_count": 58,
      "metadata": {
        "colab": {
          "base_uri": "https://localhost:8080/",
          "height": 634
        },
        "id": "36FgChtThSub",
        "outputId": "d515b7f9-2b29-4261-cf61-0b9da61c3a69"
      },
      "outputs": [
        {
          "data": {
            "text/html": [
              "<div>\n",
              "<style scoped>\n",
              "    .dataframe tbody tr th:only-of-type {\n",
              "        vertical-align: middle;\n",
              "    }\n",
              "\n",
              "    .dataframe tbody tr th {\n",
              "        vertical-align: top;\n",
              "    }\n",
              "\n",
              "    .dataframe thead th {\n",
              "        text-align: right;\n",
              "    }\n",
              "</style>\n",
              "<table border=\"1\" class=\"dataframe\">\n",
              "  <thead>\n",
              "    <tr style=\"text-align: right;\">\n",
              "      <th>title</th>\n",
              "      <th>'Hellboy': The Seeds of Creation (2004)</th>\n",
              "      <th>'Round Midnight (1986)</th>\n",
              "      <th>'Salem's Lot (2004)</th>\n",
              "      <th>'Til There Was You (1997)</th>\n",
              "      <th>'burbs, The (1989)</th>\n",
              "      <th>'night Mother (1986)</th>\n",
              "      <th>(500) Days of Summer (2009)</th>\n",
              "      <th>*batteries not included (1987)</th>\n",
              "      <th>...All the Marbles (1981)</th>\n",
              "      <th>...And Justice for All (1979)</th>\n",
              "      <th>...</th>\n",
              "      <th>Zulu (1964)</th>\n",
              "      <th>[REC] (2007)</th>\n",
              "      <th>[REC]² (2009)</th>\n",
              "      <th>[REC]³ 3 Génesis (2012)</th>\n",
              "      <th>anohana: The Flower We Saw That Day - The Movie (2013)</th>\n",
              "      <th>eXistenZ (1999)</th>\n",
              "      <th>xXx (2002)</th>\n",
              "      <th>xXx: State of the Union (2005)</th>\n",
              "      <th>¡Three Amigos! (1986)</th>\n",
              "      <th>À nous la liberté (Freedom for Us) (1931)</th>\n",
              "    </tr>\n",
              "    <tr>\n",
              "      <th>title</th>\n",
              "      <th></th>\n",
              "      <th></th>\n",
              "      <th></th>\n",
              "      <th></th>\n",
              "      <th></th>\n",
              "      <th></th>\n",
              "      <th></th>\n",
              "      <th></th>\n",
              "      <th></th>\n",
              "      <th></th>\n",
              "      <th></th>\n",
              "      <th></th>\n",
              "      <th></th>\n",
              "      <th></th>\n",
              "      <th></th>\n",
              "      <th></th>\n",
              "      <th></th>\n",
              "      <th></th>\n",
              "      <th></th>\n",
              "      <th></th>\n",
              "      <th></th>\n",
              "    </tr>\n",
              "  </thead>\n",
              "  <tbody>\n",
              "    <tr>\n",
              "      <th>'Hellboy': The Seeds of Creation (2004)</th>\n",
              "      <td>1.000000</td>\n",
              "      <td>0.707107</td>\n",
              "      <td>0.000000</td>\n",
              "      <td>0.000000</td>\n",
              "      <td>0.000000</td>\n",
              "      <td>0.000000</td>\n",
              "      <td>0.000000</td>\n",
              "      <td>0.000000</td>\n",
              "      <td>0.000000</td>\n",
              "      <td>0.715542</td>\n",
              "      <td>...</td>\n",
              "      <td>0.0</td>\n",
              "      <td>0.0</td>\n",
              "      <td>0.0</td>\n",
              "      <td>0.0</td>\n",
              "      <td>0.0</td>\n",
              "      <td>0.000000</td>\n",
              "      <td>0.000000</td>\n",
              "      <td>0.0</td>\n",
              "      <td>0.000000</td>\n",
              "      <td>0.0</td>\n",
              "    </tr>\n",
              "    <tr>\n",
              "      <th>'Round Midnight (1986)</th>\n",
              "      <td>0.707107</td>\n",
              "      <td>1.000000</td>\n",
              "      <td>0.000000</td>\n",
              "      <td>0.000000</td>\n",
              "      <td>0.195809</td>\n",
              "      <td>0.000000</td>\n",
              "      <td>0.000000</td>\n",
              "      <td>0.000000</td>\n",
              "      <td>0.707107</td>\n",
              "      <td>0.505964</td>\n",
              "      <td>...</td>\n",
              "      <td>0.0</td>\n",
              "      <td>0.0</td>\n",
              "      <td>0.0</td>\n",
              "      <td>0.0</td>\n",
              "      <td>0.0</td>\n",
              "      <td>0.000000</td>\n",
              "      <td>0.000000</td>\n",
              "      <td>0.0</td>\n",
              "      <td>0.000000</td>\n",
              "      <td>0.0</td>\n",
              "    </tr>\n",
              "    <tr>\n",
              "      <th>'Salem's Lot (2004)</th>\n",
              "      <td>0.000000</td>\n",
              "      <td>0.000000</td>\n",
              "      <td>1.000000</td>\n",
              "      <td>0.857493</td>\n",
              "      <td>0.000000</td>\n",
              "      <td>0.000000</td>\n",
              "      <td>0.000000</td>\n",
              "      <td>0.000000</td>\n",
              "      <td>0.000000</td>\n",
              "      <td>0.000000</td>\n",
              "      <td>...</td>\n",
              "      <td>0.0</td>\n",
              "      <td>0.0</td>\n",
              "      <td>0.0</td>\n",
              "      <td>0.0</td>\n",
              "      <td>0.0</td>\n",
              "      <td>0.000000</td>\n",
              "      <td>0.000000</td>\n",
              "      <td>0.0</td>\n",
              "      <td>0.000000</td>\n",
              "      <td>0.0</td>\n",
              "    </tr>\n",
              "    <tr>\n",
              "      <th>'Til There Was You (1997)</th>\n",
              "      <td>0.000000</td>\n",
              "      <td>0.000000</td>\n",
              "      <td>0.857493</td>\n",
              "      <td>1.000000</td>\n",
              "      <td>0.000000</td>\n",
              "      <td>0.000000</td>\n",
              "      <td>0.000000</td>\n",
              "      <td>0.000000</td>\n",
              "      <td>0.000000</td>\n",
              "      <td>0.000000</td>\n",
              "      <td>...</td>\n",
              "      <td>0.0</td>\n",
              "      <td>0.0</td>\n",
              "      <td>0.0</td>\n",
              "      <td>0.0</td>\n",
              "      <td>0.0</td>\n",
              "      <td>0.000000</td>\n",
              "      <td>0.000000</td>\n",
              "      <td>0.0</td>\n",
              "      <td>0.000000</td>\n",
              "      <td>0.0</td>\n",
              "    </tr>\n",
              "    <tr>\n",
              "      <th>'burbs, The (1989)</th>\n",
              "      <td>0.000000</td>\n",
              "      <td>0.195809</td>\n",
              "      <td>0.000000</td>\n",
              "      <td>0.000000</td>\n",
              "      <td>1.000000</td>\n",
              "      <td>0.079119</td>\n",
              "      <td>0.017705</td>\n",
              "      <td>0.275001</td>\n",
              "      <td>0.276916</td>\n",
              "      <td>0.035383</td>\n",
              "      <td>...</td>\n",
              "      <td>0.0</td>\n",
              "      <td>0.0</td>\n",
              "      <td>0.0</td>\n",
              "      <td>0.0</td>\n",
              "      <td>0.0</td>\n",
              "      <td>0.219335</td>\n",
              "      <td>0.105855</td>\n",
              "      <td>0.0</td>\n",
              "      <td>0.346059</td>\n",
              "      <td>0.0</td>\n",
              "    </tr>\n",
              "  </tbody>\n",
              "</table>\n",
              "<p>5 rows × 8245 columns</p>\n",
              "</div>"
            ],
            "text/plain": [
              "title                                    'Hellboy': The Seeds of Creation (2004)  \\\n",
              "title                                                                              \n",
              "'Hellboy': The Seeds of Creation (2004)                                 1.000000   \n",
              "'Round Midnight (1986)                                                  0.707107   \n",
              "'Salem's Lot (2004)                                                     0.000000   \n",
              "'Til There Was You (1997)                                               0.000000   \n",
              "'burbs, The (1989)                                                      0.000000   \n",
              "\n",
              "title                                    'Round Midnight (1986)  \\\n",
              "title                                                             \n",
              "'Hellboy': The Seeds of Creation (2004)                0.707107   \n",
              "'Round Midnight (1986)                                 1.000000   \n",
              "'Salem's Lot (2004)                                    0.000000   \n",
              "'Til There Was You (1997)                              0.000000   \n",
              "'burbs, The (1989)                                     0.195809   \n",
              "\n",
              "title                                    'Salem's Lot (2004)  \\\n",
              "title                                                          \n",
              "'Hellboy': The Seeds of Creation (2004)             0.000000   \n",
              "'Round Midnight (1986)                              0.000000   \n",
              "'Salem's Lot (2004)                                 1.000000   \n",
              "'Til There Was You (1997)                           0.857493   \n",
              "'burbs, The (1989)                                  0.000000   \n",
              "\n",
              "title                                    'Til There Was You (1997)  \\\n",
              "title                                                                \n",
              "'Hellboy': The Seeds of Creation (2004)                   0.000000   \n",
              "'Round Midnight (1986)                                    0.000000   \n",
              "'Salem's Lot (2004)                                       0.857493   \n",
              "'Til There Was You (1997)                                 1.000000   \n",
              "'burbs, The (1989)                                        0.000000   \n",
              "\n",
              "title                                    'burbs, The (1989)  \\\n",
              "title                                                         \n",
              "'Hellboy': The Seeds of Creation (2004)            0.000000   \n",
              "'Round Midnight (1986)                             0.195809   \n",
              "'Salem's Lot (2004)                                0.000000   \n",
              "'Til There Was You (1997)                          0.000000   \n",
              "'burbs, The (1989)                                 1.000000   \n",
              "\n",
              "title                                    'night Mother (1986)  \\\n",
              "title                                                           \n",
              "'Hellboy': The Seeds of Creation (2004)              0.000000   \n",
              "'Round Midnight (1986)                               0.000000   \n",
              "'Salem's Lot (2004)                                  0.000000   \n",
              "'Til There Was You (1997)                            0.000000   \n",
              "'burbs, The (1989)                                   0.079119   \n",
              "\n",
              "title                                    (500) Days of Summer (2009)  \\\n",
              "title                                                                  \n",
              "'Hellboy': The Seeds of Creation (2004)                     0.000000   \n",
              "'Round Midnight (1986)                                      0.000000   \n",
              "'Salem's Lot (2004)                                         0.000000   \n",
              "'Til There Was You (1997)                                   0.000000   \n",
              "'burbs, The (1989)                                          0.017705   \n",
              "\n",
              "title                                    *batteries not included (1987)  \\\n",
              "title                                                                     \n",
              "'Hellboy': The Seeds of Creation (2004)                        0.000000   \n",
              "'Round Midnight (1986)                                         0.000000   \n",
              "'Salem's Lot (2004)                                            0.000000   \n",
              "'Til There Was You (1997)                                      0.000000   \n",
              "'burbs, The (1989)                                             0.275001   \n",
              "\n",
              "title                                    ...All the Marbles (1981)  \\\n",
              "title                                                                \n",
              "'Hellboy': The Seeds of Creation (2004)                   0.000000   \n",
              "'Round Midnight (1986)                                    0.707107   \n",
              "'Salem's Lot (2004)                                       0.000000   \n",
              "'Til There Was You (1997)                                 0.000000   \n",
              "'burbs, The (1989)                                        0.276916   \n",
              "\n",
              "title                                    ...And Justice for All (1979)  ...  \\\n",
              "title                                                                   ...   \n",
              "'Hellboy': The Seeds of Creation (2004)                       0.715542  ...   \n",
              "'Round Midnight (1986)                                        0.505964  ...   \n",
              "'Salem's Lot (2004)                                           0.000000  ...   \n",
              "'Til There Was You (1997)                                     0.000000  ...   \n",
              "'burbs, The (1989)                                            0.035383  ...   \n",
              "\n",
              "title                                    Zulu (1964)  [REC] (2007)  \\\n",
              "title                                                                \n",
              "'Hellboy': The Seeds of Creation (2004)          0.0           0.0   \n",
              "'Round Midnight (1986)                           0.0           0.0   \n",
              "'Salem's Lot (2004)                              0.0           0.0   \n",
              "'Til There Was You (1997)                        0.0           0.0   \n",
              "'burbs, The (1989)                               0.0           0.0   \n",
              "\n",
              "title                                    [REC]² (2009)  \\\n",
              "title                                                    \n",
              "'Hellboy': The Seeds of Creation (2004)            0.0   \n",
              "'Round Midnight (1986)                             0.0   \n",
              "'Salem's Lot (2004)                                0.0   \n",
              "'Til There Was You (1997)                          0.0   \n",
              "'burbs, The (1989)                                 0.0   \n",
              "\n",
              "title                                    [REC]³ 3 Génesis (2012)  \\\n",
              "title                                                              \n",
              "'Hellboy': The Seeds of Creation (2004)                      0.0   \n",
              "'Round Midnight (1986)                                       0.0   \n",
              "'Salem's Lot (2004)                                          0.0   \n",
              "'Til There Was You (1997)                                    0.0   \n",
              "'burbs, The (1989)                                           0.0   \n",
              "\n",
              "title                                    anohana: The Flower We Saw That Day - The Movie (2013)  \\\n",
              "title                                                                                             \n",
              "'Hellboy': The Seeds of Creation (2004)                                                0.0        \n",
              "'Round Midnight (1986)                                                                 0.0        \n",
              "'Salem's Lot (2004)                                                                    0.0        \n",
              "'Til There Was You (1997)                                                              0.0        \n",
              "'burbs, The (1989)                                                                     0.0        \n",
              "\n",
              "title                                    eXistenZ (1999)  xXx (2002)  \\\n",
              "title                                                                  \n",
              "'Hellboy': The Seeds of Creation (2004)         0.000000    0.000000   \n",
              "'Round Midnight (1986)                          0.000000    0.000000   \n",
              "'Salem's Lot (2004)                             0.000000    0.000000   \n",
              "'Til There Was You (1997)                       0.000000    0.000000   \n",
              "'burbs, The (1989)                              0.219335    0.105855   \n",
              "\n",
              "title                                    xXx: State of the Union (2005)  \\\n",
              "title                                                                     \n",
              "'Hellboy': The Seeds of Creation (2004)                             0.0   \n",
              "'Round Midnight (1986)                                              0.0   \n",
              "'Salem's Lot (2004)                                                 0.0   \n",
              "'Til There Was You (1997)                                           0.0   \n",
              "'burbs, The (1989)                                                  0.0   \n",
              "\n",
              "title                                    ¡Three Amigos! (1986)  \\\n",
              "title                                                            \n",
              "'Hellboy': The Seeds of Creation (2004)               0.000000   \n",
              "'Round Midnight (1986)                                0.000000   \n",
              "'Salem's Lot (2004)                                   0.000000   \n",
              "'Til There Was You (1997)                             0.000000   \n",
              "'burbs, The (1989)                                    0.346059   \n",
              "\n",
              "title                                    À nous la liberté (Freedom for Us) (1931)  \n",
              "title                                                                               \n",
              "'Hellboy': The Seeds of Creation (2004)                                        0.0  \n",
              "'Round Midnight (1986)                                                         0.0  \n",
              "'Salem's Lot (2004)                                                            0.0  \n",
              "'Til There Was You (1997)                                                      0.0  \n",
              "'burbs, The (1989)                                                             0.0  \n",
              "\n",
              "[5 rows x 8245 columns]"
            ]
          },
          "execution_count": 58,
          "metadata": {},
          "output_type": "execute_result"
        }
      ],
      "source": [
        "cosine_item_similarity_df = pd.DataFrame(cosine_item_similarity, index=user_movie_matrix.columns, columns=user_movie_matrix.columns)\n",
        "cosine_item_similarity_df.head()"
      ]
    },
    {
      "cell_type": "code",
      "execution_count": 62,
      "metadata": {
        "colab": {
          "base_uri": "https://localhost:8080/",
          "height": 723
        },
        "id": "CtDzoMzFhSub",
        "outputId": "b8fb6f33-82b1-4e97-c3a2-474002729c34"
      },
      "outputs": [
        {
          "data": {
            "image/png": "[encoded data removed]",
            "text/plain": [
              "<Figure size 1000x800 with 2 Axes>"
            ]
          },
          "metadata": {},
          "output_type": "display_data"
        }
      ],
      "source": [
        "# Visualize item similarity as a heatmap\n",
        "plt.figure(figsize=(10, 8))\n",
        "sns.heatmap(cosine_item_similarity_df.iloc[:50, :50], cmap='coolwarm', square=True)\n",
        "plt.title('Item-Item Similarity Heatmap')\n",
        "plt.savefig('cosine_item_similarity_heatmap.pdf')\n",
        "plt.show()\n"
      ]
    },
    {
      "cell_type": "code",
      "execution_count": 63,
      "metadata": {},
      "outputs": [
        {
          "data": {
            "image/png": "[encoded data removed]",
            "text/plain": [
              "<Figure size 1000x800 with 2 Axes>"
            ]
          },
          "metadata": {},
          "output_type": "display_data"
        }
      ],
      "source": [
        "# Visualize item similarity as a heatmap\n",
        "plt.figure(figsize=(10, 8))\n",
        "sns.heatmap(pearson_item_similarity_df.iloc[:50, :50], cmap='coolwarm', square=True)\n",
        "plt.title('Item-Item Similarity Heatmap')\n",
        "plt.savefig('pearson_item_similarity_heatmap.pdf')\n",
        "plt.show()\n"
      ]
    },
    {
      "cell_type": "markdown",
      "metadata": {},
      "source": [
        "#### 7.2 Build the Recommender Function:"
      ]
    },
    {
      "cell_type": "code",
      "execution_count": 71,
      "metadata": {},
      "outputs": [
        {
          "data": {
            "text/plain": [
              "0    Good, the Bad and the Ugly, The (Buono, il bru...\n",
              "1                       Godfather: Part II, The (1974)\n",
              "2                                 Up in the Air (2009)\n",
              "3                                    Casablanca (1942)\n",
              "4                                    Goodfellas (1990)\n",
              "Name: title, dtype: object"
            ]
          },
          "execution_count": 71,
          "metadata": {},
          "output_type": "execute_result"
        }
      ],
      "source": [
        "def recommend_movies(movie_title, item_similarity_df, top_n=5):\n",
        "    # Get the top n similar movies (excluding the movie itself)\n",
        "    similar_movies = item_similarity_df.loc[movie_title].nlargest(top_n + 1).iloc[1:]  # Exclude self\n",
        "    return similar_movies.reset_index()['title']\n",
        "\n",
        "# Example usage\n",
        "recommendations = recommend_movies('12 Angry Men (1957)', cosine_item_similarity_df, 5)\n",
        "recommendations.head()"
      ]
    },
    {
      "cell_type": "code",
      "execution_count": 72,
      "metadata": {},
      "outputs": [
        {
          "data": {
            "text/plain": [
              "0                                 Up in the Air (2009)\n",
              "1    Good, the Bad and the Ugly, The (Buono, il bru...\n",
              "2                       Godfather: Part II, The (1974)\n",
              "3          Seven Samurai (Shichinin no samurai) (1954)\n",
              "4                         It's a Wonderful Life (1946)\n",
              "Name: title, dtype: object"
            ]
          },
          "execution_count": 72,
          "metadata": {},
          "output_type": "execute_result"
        }
      ],
      "source": [
        "def recommend_movies(movie_title, item_similarity_df, top_n=5):\n",
        "    # Get the top n similar movies (excluding the movie itself)\n",
        "    similar_movies = item_similarity_df.loc[movie_title].nlargest(top_n + 1).iloc[1:]  # Exclude self\n",
        "    return similar_movies.reset_index()['title']\n",
        "\n",
        "# Example usage\n",
        "recommendations = recommend_movies('12 Angry Men (1957)', pearson_item_similarity_df, 5)\n",
        "recommendations.head()"
      ]
    }
  ],
  "metadata": {
    "colab": {
      "provenance": []
    },
    "kernelspec": {
      "display_name": "Python 3",
      "name": "python3"
    },
    "language_info": {
      "codemirror_mode": {
        "name": "ipython",
        "version": 3
      },
      "file_extension": ".py",
      "mimetype": "text/x-python",
      "name": "python",
      "nbconvert_exporter": "python",
      "pygments_lexer": "ipython3",
      "version": "3.13.1"
    }
  },
  "nbformat": 4,
  "nbformat_minor": 0
}
