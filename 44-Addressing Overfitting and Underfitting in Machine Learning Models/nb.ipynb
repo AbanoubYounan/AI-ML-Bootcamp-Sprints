{
  "nbformat": 4,
  "nbformat_minor": 0,
  "metadata": {
    "colab": {
      "provenance": [],
      "gpuType": "T4"
    },
    "kernelspec": {
      "name": "python3",
      "display_name": "Python 3"
    },
    "language_info": {
      "name": "python"
    },
    "accelerator": "GPU"
  },
  "cells": [
    {
      "cell_type": "markdown",
      "source": [
        "# Addressing Overfitting and Underfitting in Machine Learning Models"
      ],
      "metadata": {
        "id": "TvGWVcF7k9bx"
      }
    },
    {
      "cell_type": "markdown",
      "source": [
        "### 1. Import Libraries and Load Data"
      ],
      "metadata": {
        "id": "vO0hn9l2lsBf"
      }
    },
    {
      "cell_type": "markdown",
      "source": [
        "#### 1.1 Import Libaries"
      ],
      "metadata": {
        "id": "i5rlM2WImDzi"
      }
    },
    {
      "cell_type": "code",
      "source": [
        "%pip install optuna"
      ],
      "metadata": {
        "colab": {
          "base_uri": "https://localhost:8080/"
        },
        "id": "zDXjUGm9r6kE",
        "outputId": "476ba004-c5e9-4135-fcd2-35824cd21ef6"
      },
      "execution_count": 1,
      "outputs": [
        {
          "output_type": "stream",
          "name": "stdout",
          "text": [
            "Collecting optuna\n",
            "  Downloading optuna-4.2.0-py3-none-any.whl.metadata (17 kB)\n",
            "Collecting alembic>=1.5.0 (from optuna)\n",
            "  Downloading alembic-1.14.1-py3-none-any.whl.metadata (7.4 kB)\n",
            "Collecting colorlog (from optuna)\n",
            "  Downloading colorlog-6.9.0-py3-none-any.whl.metadata (10 kB)\n",
            "Requirement already satisfied: numpy in /usr/local/lib/python3.10/dist-packages (from optuna) (1.26.4)\n",
            "Requirement already satisfied: packaging>=20.0 in /usr/local/lib/python3.10/dist-packages (from optuna) (24.2)\n",
            "Requirement already satisfied: sqlalchemy>=1.4.2 in /usr/local/lib/python3.10/dist-packages (from optuna) (2.0.36)\n",
            "Requirement already satisfied: tqdm in /usr/local/lib/python3.10/dist-packages (from optuna) (4.67.1)\n",
            "Requirement already satisfied: PyYAML in /usr/local/lib/python3.10/dist-packages (from optuna) (6.0.2)\n",
            "Collecting Mako (from alembic>=1.5.0->optuna)\n",
            "  Downloading Mako-1.3.9-py3-none-any.whl.metadata (2.9 kB)\n",
            "Requirement already satisfied: typing-extensions>=4 in /usr/local/lib/python3.10/dist-packages (from alembic>=1.5.0->optuna) (4.12.2)\n",
            "Requirement already satisfied: greenlet!=0.4.17 in /usr/local/lib/python3.10/dist-packages (from sqlalchemy>=1.4.2->optuna) (3.1.1)\n",
            "Requirement already satisfied: MarkupSafe>=0.9.2 in /usr/local/lib/python3.10/dist-packages (from Mako->alembic>=1.5.0->optuna) (3.0.2)\n",
            "Downloading optuna-4.2.0-py3-none-any.whl (383 kB)\n",
            "\u001b[2K   \u001b[90m━━━━━━━━━━━━━━━━━━━━━━━━━━━━━━━━━━━━━━━━\u001b[0m \u001b[32m383.4/383.4 kB\u001b[0m \u001b[31m25.8 MB/s\u001b[0m eta \u001b[36m0:00:00\u001b[0m\n",
            "\u001b[?25hDownloading alembic-1.14.1-py3-none-any.whl (233 kB)\n",
            "\u001b[2K   \u001b[90m━━━━━━━━━━━━━━━━━━━━━━━━━━━━━━━━━━━━━━━━\u001b[0m \u001b[32m233.6/233.6 kB\u001b[0m \u001b[31m21.7 MB/s\u001b[0m eta \u001b[36m0:00:00\u001b[0m\n",
            "\u001b[?25hDownloading colorlog-6.9.0-py3-none-any.whl (11 kB)\n",
            "Downloading Mako-1.3.9-py3-none-any.whl (78 kB)\n",
            "\u001b[2K   \u001b[90m━━━━━━━━━━━━━━━━━━━━━━━━━━━━━━━━━━━━━━━━\u001b[0m \u001b[32m78.5/78.5 kB\u001b[0m \u001b[31m7.6 MB/s\u001b[0m eta \u001b[36m0:00:00\u001b[0m\n",
            "\u001b[?25hInstalling collected packages: Mako, colorlog, alembic, optuna\n",
            "Successfully installed Mako-1.3.9 alembic-1.14.1 colorlog-6.9.0 optuna-4.2.0\n"
          ]
        }
      ]
    },
    {
      "cell_type": "code",
      "execution_count": 2,
      "metadata": {
        "id": "Bj3ZE6LBk5Ho"
      },
      "outputs": [],
      "source": [
        "import numpy as np\n",
        "import pandas as pd\n",
        "import matplotlib.pyplot as plt\n",
        "import seaborn as sns\n",
        "import tensorflow as tf\n",
        "from tensorflow import keras\n",
        "from tensorflow.keras import layers, regularizers\n",
        "from sklearn.model_selection import train_test_split\n",
        "from sklearn.metrics import accuracy_score, f1_score, confusion_matrix\n",
        "import optuna"
      ]
    },
    {
      "cell_type": "markdown",
      "source": [
        "#### 1.2 Load CIFAR-100 dataset"
      ],
      "metadata": {
        "id": "3L3PeMklmJkT"
      }
    },
    {
      "cell_type": "code",
      "source": [
        "(x_train, y_train), (x_test, y_test) = keras.datasets.cifar100.load_data()"
      ],
      "metadata": {
        "colab": {
          "base_uri": "https://localhost:8080/"
        },
        "id": "591tklPgl50U",
        "outputId": "ff64acc1-7905-4306-c462-eb4be0b8663c"
      },
      "execution_count": 3,
      "outputs": [
        {
          "output_type": "stream",
          "name": "stdout",
          "text": [
            "Downloading data from https://www.cs.toronto.edu/~kriz/cifar-100-python.tar.gz\n",
            "\u001b[1m169001437/169001437\u001b[0m \u001b[32m━━━━━━━━━━━━━━━━━━━━\u001b[0m\u001b[37m\u001b[0m \u001b[1m13s\u001b[0m 0us/step\n"
          ]
        }
      ]
    },
    {
      "cell_type": "markdown",
      "source": [
        "#### 1.3 dataset simple EDA"
      ],
      "metadata": {
        "id": "oFCV_v63noLb"
      }
    },
    {
      "cell_type": "code",
      "source": [
        "print(f\"x_train shape: {x_train.shape}\")\n",
        "print(f\"y_train shape: {y_train.shape}\")\n",
        "print(np.unique(y_train))\n",
        "print(f\"x_test shape: {x_test.shape}\")\n",
        "print(f\"y_test shape: {y_test.shape}\")\n",
        "print(np.unique(y_test))"
      ],
      "metadata": {
        "colab": {
          "base_uri": "https://localhost:8080/"
        },
        "id": "R5_9zUFoo8gL",
        "outputId": "0840fd7a-8ed3-4b9b-f6ce-3f42c933efd3"
      },
      "execution_count": 4,
      "outputs": [
        {
          "output_type": "stream",
          "name": "stdout",
          "text": [
            "x_train shape: (50000, 32, 32, 3)\n",
            "y_train shape: (50000, 1)\n",
            "[ 0  1  2  3  4  5  6  7  8  9 10 11 12 13 14 15 16 17 18 19 20 21 22 23\n",
            " 24 25 26 27 28 29 30 31 32 33 34 35 36 37 38 39 40 41 42 43 44 45 46 47\n",
            " 48 49 50 51 52 53 54 55 56 57 58 59 60 61 62 63 64 65 66 67 68 69 70 71\n",
            " 72 73 74 75 76 77 78 79 80 81 82 83 84 85 86 87 88 89 90 91 92 93 94 95\n",
            " 96 97 98 99]\n",
            "x_test shape: (10000, 32, 32, 3)\n",
            "y_test shape: (10000, 1)\n",
            "[ 0  1  2  3  4  5  6  7  8  9 10 11 12 13 14 15 16 17 18 19 20 21 22 23\n",
            " 24 25 26 27 28 29 30 31 32 33 34 35 36 37 38 39 40 41 42 43 44 45 46 47\n",
            " 48 49 50 51 52 53 54 55 56 57 58 59 60 61 62 63 64 65 66 67 68 69 70 71\n",
            " 72 73 74 75 76 77 78 79 80 81 82 83 84 85 86 87 88 89 90 91 92 93 94 95\n",
            " 96 97 98 99]\n"
          ]
        }
      ]
    },
    {
      "cell_type": "code",
      "source": [
        "# Show sample images\n",
        "fig, axes = plt.subplots(1, 5, figsize=(10, 2))\n",
        "for i in range(5):\n",
        "    axes[i].imshow(x_train[i])\n",
        "    axes[i].axis(\"off\")\n",
        "plt.show()"
      ],
      "metadata": {
        "colab": {
          "base_uri": "https://localhost:8080/",
          "height": 170
        },
        "id": "lT25ENTbn0vS",
        "outputId": "26dcc2bc-0e57-45be-e6aa-f19d1aec6aba"
      },
      "execution_count": 5,
      "outputs": [
        {
          "output_type": "display_data",
          "data": {
            "text/plain": [
              "<Figure size 1000x200 with 5 Axes>"
            ],
            "image/png": "[encoded data removed]"
          },
          "metadata": {}
        }
      ]
    },
    {
      "cell_type": "markdown",
      "source": [
        "#### 1.4 Normalize pixel values"
      ],
      "metadata": {
        "id": "yO4UDslqmabY"
      }
    },
    {
      "cell_type": "code",
      "source": [
        "x_train = x_train / 255.0\n",
        "x_test = x_test / 255.0"
      ],
      "metadata": {
        "id": "3XmhLX9UmWUY"
      },
      "execution_count": 6,
      "outputs": []
    },
    {
      "cell_type": "markdown",
      "source": [
        "#### 1.5 Split training data into training and validation sets"
      ],
      "metadata": {
        "id": "EfQEQf6Um_9S"
      }
    },
    {
      "cell_type": "code",
      "source": [
        "x_train, x_val, y_train, y_val = train_test_split(x_train, y_train, test_size=0.2, random_state=42)"
      ],
      "metadata": {
        "id": "XUApEJZ_mjSw"
      },
      "execution_count": 7,
      "outputs": []
    },
    {
      "cell_type": "markdown",
      "source": [
        "#### 1.6 Data augmentation\n"
      ],
      "metadata": {
        "id": "mhgQ_BiGpVRV"
      }
    },
    {
      "cell_type": "code",
      "source": [
        "data_augmentation = keras.Sequential([\n",
        "    layers.RandomFlip(\"horizontal\"),\n",
        "    layers.RandomRotation(0.1),\n",
        "    layers.RandomCrop(32, 32)\n",
        "])"
      ],
      "metadata": {
        "id": "o-0FSCbXnF03"
      },
      "execution_count": 8,
      "outputs": []
    },
    {
      "cell_type": "markdown",
      "source": [
        "### 2 Building model:"
      ],
      "metadata": {
        "id": "JAxykUswqOmr"
      }
    },
    {
      "cell_type": "markdown",
      "source": [
        "#### 2.1 Define CNN model:"
      ],
      "metadata": {
        "id": "W0lKs8CUqZvx"
      }
    },
    {
      "cell_type": "code",
      "source": [
        "def create_model(dropout_rate=0.5, l2_reg=0.01, filters=32):\n",
        "    inputs = keras.Input(shape=(32, 32, 3))  # Define input shape explicitly\n",
        "    x = data_augmentation(inputs)  # Apply data augmentation\n",
        "\n",
        "    x = layers.Conv2D(filters, (3,3), activation='relu', padding='same')(x)\n",
        "    x = layers.Conv2D(filters, (3,3), activation='relu', padding='same')(x)\n",
        "    x = layers.MaxPooling2D((2,2))(x)\n",
        "    x = layers.Dropout(0.25)(x)\n",
        "\n",
        "    x = layers.Conv2D(filters * 2, (3,3), activation='relu', padding='same')(x)\n",
        "    x = layers.Conv2D(filters * 2, (3,3), activation='relu', padding='same')(x)\n",
        "    x = layers.MaxPooling2D((2,2))(x)\n",
        "    x = layers.Dropout(0.25)(x)\n",
        "\n",
        "    x = layers.Conv2D(filters * 4, (3,3), activation='relu', padding='same')(x)\n",
        "    x = layers.Conv2D(filters * 4, (3,3), activation='relu', padding='same')(x)\n",
        "    x = layers.MaxPooling2D((2,2))(x)\n",
        "    x = layers.Dropout(0.25)(x)\n",
        "\n",
        "    x = layers.Flatten()(x)\n",
        "    x = layers.Dense(512, activation='relu', kernel_regularizer=regularizers.l2(l2_reg))(x)\n",
        "    x = layers.Dropout(dropout_rate)(x)\n",
        "    outputs = layers.Dense(100, activation='softmax')(x)\n",
        "\n",
        "    model = keras.Model(inputs, outputs)  # Create a Model instance\n",
        "    return model\n"
      ],
      "metadata": {
        "id": "n-qKZK3HqW16"
      },
      "execution_count": 15,
      "outputs": []
    },
    {
      "cell_type": "markdown",
      "source": [
        "#### 2.2 Hyperparameter tuning with Optuna:"
      ],
      "metadata": {
        "id": "97PxS7aFqly2"
      }
    },
    {
      "cell_type": "code",
      "source": [
        "def objective(trial):\n",
        "    dropout_rate = trial.suggest_float(\"dropout_rate\", 0.3, 0.6)\n",
        "    l2_reg = trial.suggest_float(\"l2_reg\", 1e-5, 1e-2, log=True)\n",
        "    filters = trial.suggest_categorical(\"filters\", [16, 32, 64])\n",
        "\n",
        "    model = create_model(dropout_rate, l2_reg, filters)\n",
        "    model.compile(optimizer='adam', loss='sparse_categorical_crossentropy', metrics=['accuracy'])\n",
        "\n",
        "    history = model.fit(x_train, y_train, epochs=10, batch_size=64, validation_data=(x_val, y_val), verbose=0)\n",
        "\n",
        "    val_acc = max(history.history['val_accuracy'])\n",
        "    return val_acc"
      ],
      "metadata": {
        "id": "RBNZ_xaopkfv"
      },
      "execution_count": 16,
      "outputs": []
    },
    {
      "cell_type": "code",
      "source": [
        "study = optuna.create_study(direction='maximize')\n",
        "study.optimize(objective, n_trials=10)"
      ],
      "metadata": {
        "colab": {
          "base_uri": "https://localhost:8080/"
        },
        "id": "PQhI2P72qrEO",
        "outputId": "6ce28a40-b19c-4164-eeec-885d13d899b3"
      },
      "execution_count": 17,
      "outputs": [
        {
          "output_type": "stream",
          "name": "stderr",
          "text": [
            "[I 2025-02-09 18:04:26,199] A new study created in memory with name: no-name-29ac34fa-37e2-4af7-8ce4-182b99610a1e\n",
            "[I 2025-02-09 18:06:21,432] Trial 0 finished with value: 0.3165000081062317 and parameters: {'dropout_rate': 0.47122814204405256, 'l2_reg': 0.0008096758073291904, 'filters': 32}. Best is trial 0 with value: 0.3165000081062317.\n",
            "[I 2025-02-09 18:07:57,900] Trial 1 finished with value: 0.2840999960899353 and parameters: {'dropout_rate': 0.5722324717570196, 'l2_reg': 0.0004018236977235795, 'filters': 32}. Best is trial 0 with value: 0.3165000081062317.\n",
            "[I 2025-02-09 18:09:31,050] Trial 2 finished with value: 0.3596999943256378 and parameters: {'dropout_rate': 0.3375837760523897, 'l2_reg': 6.446398937531312e-05, 'filters': 32}. Best is trial 2 with value: 0.3596999943256378.\n",
            "[I 2025-02-09 18:11:02,020] Trial 3 finished with value: 0.25189998745918274 and parameters: {'dropout_rate': 0.5508651635096604, 'l2_reg': 0.004438731851734432, 'filters': 32}. Best is trial 2 with value: 0.3596999943256378.\n",
            "[I 2025-02-09 18:14:17,879] Trial 4 finished with value: 0.00860000029206276 and parameters: {'dropout_rate': 0.5682485968220004, 'l2_reg': 1.1813770998636371e-05, 'filters': 64}. Best is trial 2 with value: 0.3596999943256378.\n",
            "[I 2025-02-09 18:15:58,823] Trial 5 finished with value: 0.30959999561309814 and parameters: {'dropout_rate': 0.49306221333086037, 'l2_reg': 1.5301072129481927e-05, 'filters': 32}. Best is trial 2 with value: 0.3596999943256378.\n",
            "[I 2025-02-09 18:19:20,871] Trial 6 finished with value: 0.008799999952316284 and parameters: {'dropout_rate': 0.46419246815515636, 'l2_reg': 0.006090951075261223, 'filters': 64}. Best is trial 2 with value: 0.3596999943256378.\n",
            "[I 2025-02-09 18:21:00,711] Trial 7 finished with value: 0.009499999694526196 and parameters: {'dropout_rate': 0.4555972048442818, 'l2_reg': 5.594045577066329e-05, 'filters': 32}. Best is trial 2 with value: 0.3596999943256378.\n",
            "[I 2025-02-09 18:22:18,812] Trial 8 finished with value: 0.3093999922275543 and parameters: {'dropout_rate': 0.40701484078519345, 'l2_reg': 0.00011592723711142964, 'filters': 16}. Best is trial 2 with value: 0.3596999943256378.\n",
            "[I 2025-02-09 18:25:17,606] Trial 9 finished with value: 0.008799999952316284 and parameters: {'dropout_rate': 0.5105350323205214, 'l2_reg': 1.498177443672457e-05, 'filters': 64}. Best is trial 2 with value: 0.3596999943256378.\n"
          ]
        }
      ]
    },
    {
      "cell_type": "code",
      "source": [
        "best_params = study.best_params\n",
        "print(\"Best Hyperparameters:\", best_params)"
      ],
      "metadata": {
        "colab": {
          "base_uri": "https://localhost:8080/"
        },
        "id": "6-1739s8r0FF",
        "outputId": "d9a4de84-d2eb-4fb3-848b-a9033f2ac7ef"
      },
      "execution_count": 18,
      "outputs": [
        {
          "output_type": "stream",
          "name": "stdout",
          "text": [
            "Best Hyperparameters: {'dropout_rate': 0.3375837760523897, 'l2_reg': 6.446398937531312e-05, 'filters': 32}\n"
          ]
        }
      ]
    },
    {
      "cell_type": "markdown",
      "source": [
        "### 3. Train final model with best hyperparameters:"
      ],
      "metadata": {
        "id": "vN8dqIGesJH2"
      }
    },
    {
      "cell_type": "code",
      "source": [
        "final_model = create_model(**best_params)\n",
        "final_model.compile(optimizer='adam', loss='sparse_categorical_crossentropy', metrics=['accuracy'])\n",
        "\n",
        "history = final_model.fit(x_train, y_train, epochs=50, batch_size=128,\n",
        "                          validation_data=(x_val, y_val), callbacks=[keras.callbacks.EarlyStopping(patience=5, restore_best_weights=True)])"
      ],
      "metadata": {
        "colab": {
          "base_uri": "https://localhost:8080/"
        },
        "id": "sZfNIydpsENA",
        "outputId": "f2adc8b3-15da-4afc-f54d-00bc7f0efe3d"
      },
      "execution_count": 23,
      "outputs": [
        {
          "output_type": "stream",
          "name": "stdout",
          "text": [
            "Epoch 1/50\n",
            "\u001b[1m313/313\u001b[0m \u001b[32m━━━━━━━━━━━━━━━━━━━━\u001b[0m\u001b[37m\u001b[0m \u001b[1m10s\u001b[0m 22ms/step - accuracy: 0.0222 - loss: 4.5032 - val_accuracy: 0.0876 - val_loss: 3.9648\n",
            "Epoch 2/50\n",
            "\u001b[1m313/313\u001b[0m \u001b[32m━━━━━━━━━━━━━━━━━━━━\u001b[0m\u001b[37m\u001b[0m \u001b[1m9s\u001b[0m 20ms/step - accuracy: 0.0945 - loss: 3.9081 - val_accuracy: 0.1676 - val_loss: 3.5117\n",
            "Epoch 3/50\n",
            "\u001b[1m313/313\u001b[0m \u001b[32m━━━━━━━━━━━━━━━━━━━━\u001b[0m\u001b[37m\u001b[0m \u001b[1m6s\u001b[0m 20ms/step - accuracy: 0.1481 - loss: 3.5913 - val_accuracy: 0.2124 - val_loss: 3.2484\n",
            "Epoch 4/50\n",
            "\u001b[1m313/313\u001b[0m \u001b[32m━━━━━━━━━━━━━━━━━━━━\u001b[0m\u001b[37m\u001b[0m \u001b[1m11s\u001b[0m 22ms/step - accuracy: 0.1916 - loss: 3.3828 - val_accuracy: 0.2464 - val_loss: 3.0823\n",
            "Epoch 5/50\n",
            "\u001b[1m313/313\u001b[0m \u001b[32m━━━━━━━━━━━━━━━━━━━━\u001b[0m\u001b[37m\u001b[0m \u001b[1m6s\u001b[0m 20ms/step - accuracy: 0.2147 - loss: 3.2412 - val_accuracy: 0.2754 - val_loss: 2.9710\n",
            "Epoch 6/50\n",
            "\u001b[1m313/313\u001b[0m \u001b[32m━━━━━━━━━━━━━━━━━━━━\u001b[0m\u001b[37m\u001b[0m \u001b[1m6s\u001b[0m 21ms/step - accuracy: 0.2429 - loss: 3.1120 - val_accuracy: 0.3040 - val_loss: 2.8135\n",
            "Epoch 7/50\n",
            "\u001b[1m313/313\u001b[0m \u001b[32m━━━━━━━━━━━━━━━━━━━━\u001b[0m\u001b[37m\u001b[0m \u001b[1m6s\u001b[0m 20ms/step - accuracy: 0.2617 - loss: 3.0222 - val_accuracy: 0.3082 - val_loss: 2.7841\n",
            "Epoch 8/50\n",
            "\u001b[1m313/313\u001b[0m \u001b[32m━━━━━━━━━━━━━━━━━━━━\u001b[0m\u001b[37m\u001b[0m \u001b[1m7s\u001b[0m 21ms/step - accuracy: 0.2793 - loss: 2.9474 - val_accuracy: 0.3301 - val_loss: 2.7238\n",
            "Epoch 9/50\n",
            "\u001b[1m313/313\u001b[0m \u001b[32m━━━━━━━━━━━━━━━━━━━━\u001b[0m\u001b[37m\u001b[0m \u001b[1m6s\u001b[0m 21ms/step - accuracy: 0.2922 - loss: 2.8684 - val_accuracy: 0.3338 - val_loss: 2.6985\n",
            "Epoch 10/50\n",
            "\u001b[1m313/313\u001b[0m \u001b[32m━━━━━━━━━━━━━━━━━━━━\u001b[0m\u001b[37m\u001b[0m \u001b[1m10s\u001b[0m 20ms/step - accuracy: 0.3021 - loss: 2.8331 - val_accuracy: 0.3485 - val_loss: 2.6197\n",
            "Epoch 11/50\n",
            "\u001b[1m313/313\u001b[0m \u001b[32m━━━━━━━━━━━━━━━━━━━━\u001b[0m\u001b[37m\u001b[0m \u001b[1m10s\u001b[0m 20ms/step - accuracy: 0.3195 - loss: 2.7543 - val_accuracy: 0.3647 - val_loss: 2.5360\n",
            "Epoch 12/50\n",
            "\u001b[1m313/313\u001b[0m \u001b[32m━━━━━━━━━━━━━━━━━━━━\u001b[0m\u001b[37m\u001b[0m \u001b[1m11s\u001b[0m 21ms/step - accuracy: 0.3249 - loss: 2.7173 - val_accuracy: 0.3700 - val_loss: 2.5121\n",
            "Epoch 13/50\n",
            "\u001b[1m313/313\u001b[0m \u001b[32m━━━━━━━━━━━━━━━━━━━━\u001b[0m\u001b[37m\u001b[0m \u001b[1m6s\u001b[0m 20ms/step - accuracy: 0.3344 - loss: 2.6670 - val_accuracy: 0.3678 - val_loss: 2.5414\n",
            "Epoch 14/50\n",
            "\u001b[1m313/313\u001b[0m \u001b[32m━━━━━━━━━━━━━━━━━━━━\u001b[0m\u001b[37m\u001b[0m \u001b[1m10s\u001b[0m 20ms/step - accuracy: 0.3418 - loss: 2.6409 - val_accuracy: 0.3864 - val_loss: 2.4566\n",
            "Epoch 15/50\n",
            "\u001b[1m313/313\u001b[0m \u001b[32m━━━━━━━━━━━━━━━━━━━━\u001b[0m\u001b[37m\u001b[0m \u001b[1m7s\u001b[0m 21ms/step - accuracy: 0.3434 - loss: 2.6128 - val_accuracy: 0.3869 - val_loss: 2.4361\n",
            "Epoch 16/50\n",
            "\u001b[1m313/313\u001b[0m \u001b[32m━━━━━━━━━━━━━━━━━━━━\u001b[0m\u001b[37m\u001b[0m \u001b[1m6s\u001b[0m 20ms/step - accuracy: 0.3611 - loss: 2.5575 - val_accuracy: 0.4016 - val_loss: 2.3866\n",
            "Epoch 17/50\n",
            "\u001b[1m313/313\u001b[0m \u001b[32m━━━━━━━━━━━━━━━━━━━━\u001b[0m\u001b[37m\u001b[0m \u001b[1m10s\u001b[0m 20ms/step - accuracy: 0.3671 - loss: 2.5432 - val_accuracy: 0.3866 - val_loss: 2.4636\n",
            "Epoch 18/50\n",
            "\u001b[1m313/313\u001b[0m \u001b[32m━━━━━━━━━━━━━━━━━━━━\u001b[0m\u001b[37m\u001b[0m \u001b[1m10s\u001b[0m 20ms/step - accuracy: 0.3685 - loss: 2.5161 - val_accuracy: 0.3936 - val_loss: 2.4236\n",
            "Epoch 19/50\n",
            "\u001b[1m313/313\u001b[0m \u001b[32m━━━━━━━━━━━━━━━━━━━━\u001b[0m\u001b[37m\u001b[0m \u001b[1m10s\u001b[0m 21ms/step - accuracy: 0.3756 - loss: 2.4884 - val_accuracy: 0.4057 - val_loss: 2.4091\n",
            "Epoch 20/50\n",
            "\u001b[1m313/313\u001b[0m \u001b[32m━━━━━━━━━━━━━━━━━━━━\u001b[0m\u001b[37m\u001b[0m \u001b[1m10s\u001b[0m 21ms/step - accuracy: 0.3850 - loss: 2.4598 - val_accuracy: 0.4151 - val_loss: 2.3284\n",
            "Epoch 21/50\n",
            "\u001b[1m313/313\u001b[0m \u001b[32m━━━━━━━━━━━━━━━━━━━━\u001b[0m\u001b[37m\u001b[0m \u001b[1m10s\u001b[0m 22ms/step - accuracy: 0.3916 - loss: 2.4325 - val_accuracy: 0.4015 - val_loss: 2.4230\n",
            "Epoch 22/50\n",
            "\u001b[1m313/313\u001b[0m \u001b[32m━━━━━━━━━━━━━━━━━━━━\u001b[0m\u001b[37m\u001b[0m \u001b[1m10s\u001b[0m 20ms/step - accuracy: 0.3914 - loss: 2.4235 - val_accuracy: 0.4265 - val_loss: 2.3133\n",
            "Epoch 23/50\n",
            "\u001b[1m313/313\u001b[0m \u001b[32m━━━━━━━━━━━━━━━━━━━━\u001b[0m\u001b[37m\u001b[0m \u001b[1m6s\u001b[0m 20ms/step - accuracy: 0.3927 - loss: 2.4056 - val_accuracy: 0.4045 - val_loss: 2.3979\n",
            "Epoch 24/50\n",
            "\u001b[1m313/313\u001b[0m \u001b[32m━━━━━━━━━━━━━━━━━━━━\u001b[0m\u001b[37m\u001b[0m \u001b[1m6s\u001b[0m 20ms/step - accuracy: 0.3991 - loss: 2.3803 - val_accuracy: 0.4120 - val_loss: 2.3794\n",
            "Epoch 25/50\n",
            "\u001b[1m313/313\u001b[0m \u001b[32m━━━━━━━━━━━━━━━━━━━━\u001b[0m\u001b[37m\u001b[0m \u001b[1m6s\u001b[0m 21ms/step - accuracy: 0.3977 - loss: 2.3842 - val_accuracy: 0.4277 - val_loss: 2.2902\n",
            "Epoch 26/50\n",
            "\u001b[1m313/313\u001b[0m \u001b[32m━━━━━━━━━━━━━━━━━━━━\u001b[0m\u001b[37m\u001b[0m \u001b[1m6s\u001b[0m 20ms/step - accuracy: 0.4015 - loss: 2.3734 - val_accuracy: 0.4475 - val_loss: 2.2210\n",
            "Epoch 27/50\n",
            "\u001b[1m313/313\u001b[0m \u001b[32m━━━━━━━━━━━━━━━━━━━━\u001b[0m\u001b[37m\u001b[0m \u001b[1m7s\u001b[0m 21ms/step - accuracy: 0.4064 - loss: 2.3518 - val_accuracy: 0.4284 - val_loss: 2.2996\n",
            "Epoch 28/50\n",
            "\u001b[1m313/313\u001b[0m \u001b[32m━━━━━━━━━━━━━━━━━━━━\u001b[0m\u001b[37m\u001b[0m \u001b[1m10s\u001b[0m 21ms/step - accuracy: 0.4087 - loss: 2.3363 - val_accuracy: 0.4444 - val_loss: 2.2270\n",
            "Epoch 29/50\n",
            "\u001b[1m313/313\u001b[0m \u001b[32m━━━━━━━━━━━━━━━━━━━━\u001b[0m\u001b[37m\u001b[0m \u001b[1m10s\u001b[0m 21ms/step - accuracy: 0.4131 - loss: 2.3234 - val_accuracy: 0.4161 - val_loss: 2.3862\n",
            "Epoch 30/50\n",
            "\u001b[1m313/313\u001b[0m \u001b[32m━━━━━━━━━━━━━━━━━━━━\u001b[0m\u001b[37m\u001b[0m \u001b[1m10s\u001b[0m 20ms/step - accuracy: 0.4217 - loss: 2.2837 - val_accuracy: 0.4419 - val_loss: 2.2332\n",
            "Epoch 31/50\n",
            "\u001b[1m313/313\u001b[0m \u001b[32m━━━━━━━━━━━━━━━━━━━━\u001b[0m\u001b[37m\u001b[0m \u001b[1m6s\u001b[0m 21ms/step - accuracy: 0.4256 - loss: 2.2992 - val_accuracy: 0.4302 - val_loss: 2.3151\n"
          ]
        }
      ]
    },
    {
      "cell_type": "markdown",
      "source": [
        "### 4. Evalute final model:"
      ],
      "metadata": {
        "id": "nzibzFZ_sYd9"
      }
    },
    {
      "cell_type": "code",
      "source": [
        "test_loss, test_acc = final_model.evaluate(x_test, y_test)\n",
        "print(f\"Test accuracy: {test_acc:.4f}\")"
      ],
      "metadata": {
        "colab": {
          "base_uri": "https://localhost:8080/"
        },
        "id": "A1PnLvPBsbi7",
        "outputId": "ae599981-0132-4e50-a8c2-3d31cbddfad9"
      },
      "execution_count": 24,
      "outputs": [
        {
          "output_type": "stream",
          "name": "stdout",
          "text": [
            "\u001b[1m313/313\u001b[0m \u001b[32m━━━━━━━━━━━━━━━━━━━━\u001b[0m\u001b[37m\u001b[0m \u001b[1m1s\u001b[0m 3ms/step - accuracy: 0.4516 - loss: 2.2163\n",
            "Test accuracy: 0.4497\n"
          ]
        }
      ]
    },
    {
      "cell_type": "code",
      "source": [
        "test_f1 = f1_score(y_test, np.argmax(final_model.predict(x_test), axis=-1), average='weighted')\n",
        "print(f\"Test F1 score: {test_f1:.4f}\")"
      ],
      "metadata": {
        "colab": {
          "base_uri": "https://localhost:8080/"
        },
        "id": "w0GrHo9bs1TR",
        "outputId": "37a5ed2d-aad6-4dfe-f6f5-10937b9a9921"
      },
      "execution_count": 25,
      "outputs": [
        {
          "output_type": "stream",
          "name": "stdout",
          "text": [
            "\u001b[1m313/313\u001b[0m \u001b[32m━━━━━━━━━━━━━━━━━━━━\u001b[0m\u001b[37m\u001b[0m \u001b[1m1s\u001b[0m 2ms/step\n",
            "Test F1 score: 0.4408\n"
          ]
        }
      ]
    },
    {
      "cell_type": "code",
      "source": [
        "plt.figure(figsize=(10,5))\n",
        "plt.plot(history.history['accuracy'], label='Train Accuracy')\n",
        "plt.plot(history.history['val_accuracy'], label='Validation Accuracy')\n",
        "plt.xlabel('Epoch')\n",
        "plt.ylabel('Accuracy')\n",
        "plt.legend()\n",
        "plt.show()"
      ],
      "metadata": {
        "colab": {
          "base_uri": "https://localhost:8080/",
          "height": 465
        },
        "id": "TcTBdNjssfvb",
        "outputId": "151ee73e-d285-47a8-c940-20288ee5213b"
      },
      "execution_count": 26,
      "outputs": [
        {
          "output_type": "display_data",
          "data": {
            "text/plain": [
              "<Figure size 1000x500 with 1 Axes>"
            ],
            "image/png": "[encoded data removed]"
          },
          "metadata": {}
        }
      ]
    },
    {
      "cell_type": "code",
      "source": [],
      "metadata": {
        "id": "o2ZDar0h-q5e"
      },
      "execution_count": null,
      "outputs": []
    }
  ]
}